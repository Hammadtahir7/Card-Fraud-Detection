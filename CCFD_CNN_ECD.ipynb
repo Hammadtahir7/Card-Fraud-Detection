{
  "nbformat": 4,
  "nbformat_minor": 0,
  "metadata": {
    "colab": {
      "name": "CCFD_CNN_ECD.ipynb",
      "provenance": [],
      "include_colab_link": true
    },
    "kernelspec": {
      "name": "python3",
      "display_name": "Python 3"
    }
  },
  "cells": [
    {
      "cell_type": "markdown",
      "metadata": {
        "id": "view-in-github",
        "colab_type": "text"
      },
      "source": [
        "<a href=\"https://colab.research.google.com/github/Hammadtahir7/Card-Fraud-Detection/blob/master/CCFD_CNN_ECD.ipynb\" target=\"_parent\"><img src=\"https://colab.research.google.com/assets/colab-badge.svg\" alt=\"Open In Colab\"/></a>"
      ]
    },
    {
      "cell_type": "code",
      "metadata": {
        "id": "5gUidFlLTsI1",
        "colab_type": "code",
        "colab": {
          "resources": {
            "http://localhost:8080/nbextensions/google.colab/files.js": {
              "data": "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",
              "ok": true,
              "headers": [
                [
                  "content-type",
                  "application/javascript"
                ]
              ],
              "status": 200,
              "status_text": ""
            }
          },
          "base_uri": "https://localhost:8080/",
          "height": 71
        },
        "outputId": "8c6ff411-a469-4cc2-d416-13889b76ecd5"
      },
      "source": [
        "from google.colab import files\n",
        "uploaded = files.upload()"
      ],
      "execution_count": 1,
      "outputs": [
        {
          "output_type": "display_data",
          "data": {
            "text/html": [
              "\n",
              "     <input type=\"file\" id=\"files-0483bbb0-b79a-4a2e-8968-484850315b45\" name=\"files[]\" multiple disabled />\n",
              "     <output id=\"result-0483bbb0-b79a-4a2e-8968-484850315b45\">\n",
              "      Upload widget is only available when the cell has been executed in the\n",
              "      current browser session. Please rerun this cell to enable.\n",
              "      </output>\n",
              "      <script src=\"/nbextensions/google.colab/files.js\"></script> "
            ],
            "text/plain": [
              "<IPython.core.display.HTML object>"
            ]
          },
          "metadata": {
            "tags": []
          }
        },
        {
          "output_type": "stream",
          "text": [
            "Saving EuropeanCardSampledData.csv to EuropeanCardSampledData.csv\n"
          ],
          "name": "stdout"
        }
      ]
    },
    {
      "cell_type": "code",
      "metadata": {
        "id": "NQFC1ZUNTv5w",
        "colab_type": "code",
        "colab": {}
      },
      "source": [
        "import io\n",
        "import pandas as pd\n",
        "df2 = pd.read_csv(io.BytesIO(uploaded['EuropeanCardSampledData.csv']),header=None)"
      ],
      "execution_count": 0,
      "outputs": []
    },
    {
      "cell_type": "code",
      "metadata": {
        "id": "K0ftTwQHcSBm",
        "colab_type": "code",
        "colab": {
          "base_uri": "https://localhost:8080/",
          "height": 34
        },
        "outputId": "58f7a518-144b-48b9-ec0b-5e87a597de07"
      },
      "source": [
        "import tensorflow\n",
        "print(tensorflow.__version__)"
      ],
      "execution_count": 28,
      "outputs": [
        {
          "output_type": "stream",
          "text": [
            "1.15.0\n"
          ],
          "name": "stdout"
        }
      ]
    },
    {
      "cell_type": "code",
      "metadata": {
        "id": "GMRQzuMScUez",
        "colab_type": "code",
        "colab": {
          "base_uri": "https://localhost:8080/",
          "height": 224
        },
        "outputId": "a44efa65-04e9-425c-9417-07409a53b599"
      },
      "source": [
        "df2.head()"
      ],
      "execution_count": 29,
      "outputs": [
        {
          "output_type": "execute_result",
          "data": {
            "text/html": [
              "<div>\n",
              "<style scoped>\n",
              "    .dataframe tbody tr th:only-of-type {\n",
              "        vertical-align: middle;\n",
              "    }\n",
              "\n",
              "    .dataframe tbody tr th {\n",
              "        vertical-align: top;\n",
              "    }\n",
              "\n",
              "    .dataframe thead th {\n",
              "        text-align: right;\n",
              "    }\n",
              "</style>\n",
              "<table border=\"1\" class=\"dataframe\">\n",
              "  <thead>\n",
              "    <tr style=\"text-align: right;\">\n",
              "      <th></th>\n",
              "      <th>0</th>\n",
              "      <th>1</th>\n",
              "      <th>2</th>\n",
              "      <th>3</th>\n",
              "      <th>4</th>\n",
              "      <th>5</th>\n",
              "      <th>6</th>\n",
              "      <th>7</th>\n",
              "      <th>8</th>\n",
              "      <th>9</th>\n",
              "      <th>10</th>\n",
              "      <th>11</th>\n",
              "      <th>12</th>\n",
              "      <th>13</th>\n",
              "      <th>14</th>\n",
              "      <th>15</th>\n",
              "      <th>16</th>\n",
              "      <th>17</th>\n",
              "      <th>18</th>\n",
              "      <th>19</th>\n",
              "      <th>20</th>\n",
              "      <th>21</th>\n",
              "      <th>22</th>\n",
              "      <th>23</th>\n",
              "      <th>24</th>\n",
              "      <th>25</th>\n",
              "      <th>26</th>\n",
              "      <th>27</th>\n",
              "      <th>28</th>\n",
              "      <th>29</th>\n",
              "      <th>30</th>\n",
              "    </tr>\n",
              "  </thead>\n",
              "  <tbody>\n",
              "    <tr>\n",
              "      <th>0</th>\n",
              "      <td>162183.0</td>\n",
              "      <td>2.049094</td>\n",
              "      <td>0.186189</td>\n",
              "      <td>-1.707198</td>\n",
              "      <td>0.530768</td>\n",
              "      <td>0.160589</td>\n",
              "      <td>-1.448570</td>\n",
              "      <td>0.239310</td>\n",
              "      <td>-0.353611</td>\n",
              "      <td>0.634425</td>\n",
              "      <td>-0.471390</td>\n",
              "      <td>-0.349233</td>\n",
              "      <td>-0.073474</td>\n",
              "      <td>-0.303130</td>\n",
              "      <td>-0.664254</td>\n",
              "      <td>0.977499</td>\n",
              "      <td>0.157691</td>\n",
              "      <td>0.469860</td>\n",
              "      <td>0.446847</td>\n",
              "      <td>-0.502306</td>\n",
              "      <td>-0.232666</td>\n",
              "      <td>0.197782</td>\n",
              "      <td>0.741141</td>\n",
              "      <td>-0.009744</td>\n",
              "      <td>-0.085057</td>\n",
              "      <td>0.228384</td>\n",
              "      <td>-0.097292</td>\n",
              "      <td>-0.001028</td>\n",
              "      <td>-0.032390</td>\n",
              "      <td>2.99</td>\n",
              "      <td>0.0</td>\n",
              "    </tr>\n",
              "    <tr>\n",
              "      <th>1</th>\n",
              "      <td>120967.0</td>\n",
              "      <td>2.125540</td>\n",
              "      <td>-0.030714</td>\n",
              "      <td>-1.527653</td>\n",
              "      <td>0.121046</td>\n",
              "      <td>0.543172</td>\n",
              "      <td>-0.347988</td>\n",
              "      <td>0.157221</td>\n",
              "      <td>-0.229126</td>\n",
              "      <td>0.477999</td>\n",
              "      <td>0.046959</td>\n",
              "      <td>-1.314079</td>\n",
              "      <td>0.508379</td>\n",
              "      <td>0.891406</td>\n",
              "      <td>0.081326</td>\n",
              "      <td>0.065139</td>\n",
              "      <td>0.109356</td>\n",
              "      <td>-0.623472</td>\n",
              "      <td>-0.671603</td>\n",
              "      <td>0.435948</td>\n",
              "      <td>-0.125804</td>\n",
              "      <td>-0.336497</td>\n",
              "      <td>-0.838932</td>\n",
              "      <td>0.275173</td>\n",
              "      <td>0.049145</td>\n",
              "      <td>-0.156765</td>\n",
              "      <td>0.205919</td>\n",
              "      <td>-0.072321</td>\n",
              "      <td>-0.059009</td>\n",
              "      <td>1.98</td>\n",
              "      <td>0.0</td>\n",
              "    </tr>\n",
              "    <tr>\n",
              "      <th>2</th>\n",
              "      <td>26484.0</td>\n",
              "      <td>-4.155859</td>\n",
              "      <td>-5.705748</td>\n",
              "      <td>0.274699</td>\n",
              "      <td>-0.993262</td>\n",
              "      <td>-6.059393</td>\n",
              "      <td>5.210848</td>\n",
              "      <td>5.811316</td>\n",
              "      <td>0.367888</td>\n",
              "      <td>1.750710</td>\n",
              "      <td>-4.171672</td>\n",
              "      <td>-0.583742</td>\n",
              "      <td>0.346628</td>\n",
              "      <td>-0.719006</td>\n",
              "      <td>-0.899347</td>\n",
              "      <td>0.006643</td>\n",
              "      <td>-1.784000</td>\n",
              "      <td>1.457844</td>\n",
              "      <td>-0.952985</td>\n",
              "      <td>-1.315135</td>\n",
              "      <td>3.944592</td>\n",
              "      <td>1.371671</td>\n",
              "      <td>1.195815</td>\n",
              "      <td>4.188762</td>\n",
              "      <td>-1.091077</td>\n",
              "      <td>1.033044</td>\n",
              "      <td>0.224493</td>\n",
              "      <td>-0.486741</td>\n",
              "      <td>0.194275</td>\n",
              "      <td>1937.66</td>\n",
              "      <td>0.0</td>\n",
              "    </tr>\n",
              "    <tr>\n",
              "      <th>3</th>\n",
              "      <td>65751.0</td>\n",
              "      <td>-0.566420</td>\n",
              "      <td>-0.579576</td>\n",
              "      <td>0.823503</td>\n",
              "      <td>-1.451240</td>\n",
              "      <td>-0.583587</td>\n",
              "      <td>0.206381</td>\n",
              "      <td>1.601392</td>\n",
              "      <td>-0.370446</td>\n",
              "      <td>-1.910354</td>\n",
              "      <td>0.252497</td>\n",
              "      <td>0.922508</td>\n",
              "      <td>-0.114149</td>\n",
              "      <td>1.008346</td>\n",
              "      <td>-0.282106</td>\n",
              "      <td>-0.246635</td>\n",
              "      <td>1.345463</td>\n",
              "      <td>-0.401365</td>\n",
              "      <td>-0.993434</td>\n",
              "      <td>1.474268</td>\n",
              "      <td>0.977739</td>\n",
              "      <td>-0.065082</td>\n",
              "      <td>-0.761357</td>\n",
              "      <td>0.641524</td>\n",
              "      <td>-0.568974</td>\n",
              "      <td>-0.053164</td>\n",
              "      <td>-0.690995</td>\n",
              "      <td>-0.228630</td>\n",
              "      <td>-0.157254</td>\n",
              "      <td>320.05</td>\n",
              "      <td>0.0</td>\n",
              "    </tr>\n",
              "    <tr>\n",
              "      <th>4</th>\n",
              "      <td>137025.0</td>\n",
              "      <td>0.060858</td>\n",
              "      <td>-0.261762</td>\n",
              "      <td>-1.699493</td>\n",
              "      <td>-1.202327</td>\n",
              "      <td>3.699527</td>\n",
              "      <td>3.196249</td>\n",
              "      <td>0.437208</td>\n",
              "      <td>0.421541</td>\n",
              "      <td>0.492435</td>\n",
              "      <td>-0.455964</td>\n",
              "      <td>0.028435</td>\n",
              "      <td>-0.329083</td>\n",
              "      <td>-0.552349</td>\n",
              "      <td>-1.568433</td>\n",
              "      <td>-0.440477</td>\n",
              "      <td>-0.296621</td>\n",
              "      <td>0.481656</td>\n",
              "      <td>-0.061843</td>\n",
              "      <td>-0.387865</td>\n",
              "      <td>-0.014550</td>\n",
              "      <td>0.008303</td>\n",
              "      <td>0.534602</td>\n",
              "      <td>0.089602</td>\n",
              "      <td>0.667918</td>\n",
              "      <td>0.017798</td>\n",
              "      <td>0.611584</td>\n",
              "      <td>-0.469946</td>\n",
              "      <td>-0.514370</td>\n",
              "      <td>11.50</td>\n",
              "      <td>0.0</td>\n",
              "    </tr>\n",
              "  </tbody>\n",
              "</table>\n",
              "</div>"
            ],
            "text/plain": [
              "         0         1         2         3   ...        27        28       29   30\n",
              "0  162183.0  2.049094  0.186189 -1.707198  ... -0.001028 -0.032390     2.99  0.0\n",
              "1  120967.0  2.125540 -0.030714 -1.527653  ... -0.072321 -0.059009     1.98  0.0\n",
              "2   26484.0 -4.155859 -5.705748  0.274699  ... -0.486741  0.194275  1937.66  0.0\n",
              "3   65751.0 -0.566420 -0.579576  0.823503  ... -0.228630 -0.157254   320.05  0.0\n",
              "4  137025.0  0.060858 -0.261762 -1.699493  ... -0.469946 -0.514370    11.50  0.0\n",
              "\n",
              "[5 rows x 31 columns]"
            ]
          },
          "metadata": {
            "tags": []
          },
          "execution_count": 29
        }
      ]
    },
    {
      "cell_type": "code",
      "metadata": {
        "id": "kxhYGnfncwIG",
        "colab_type": "code",
        "colab": {}
      },
      "source": [
        "features =df2.drop(df2.columns[30],axis=1)\n",
        "labels=df2[df2.columns[30]]"
      ],
      "execution_count": 0,
      "outputs": []
    },
    {
      "cell_type": "code",
      "metadata": {
        "id": "n_BKNk-jc4P0",
        "colab_type": "code",
        "colab": {
          "base_uri": "https://localhost:8080/",
          "height": 68
        },
        "outputId": "a7b7a397-f187-4b75-f9f0-28ecff5a4486"
      },
      "source": [
        "import numpy as np\n",
        "unique_elements, counts_elements = np.unique(labels, return_counts=True)\n",
        "print(\"Frequency of unique values of the said array:\")\n",
        "print(np.asarray((unique_elements, counts_elements)))"
      ],
      "execution_count": 31,
      "outputs": [
        {
          "output_type": "stream",
          "text": [
            "Frequency of unique values of the said array:\n",
            "[[0.00e+00 1.00e+00]\n",
            " [4.92e+03 4.92e+02]]\n"
          ],
          "name": "stdout"
        }
      ]
    },
    {
      "cell_type": "code",
      "metadata": {
        "id": "4ZjISWXDc7xE",
        "colab_type": "code",
        "colab": {
          "base_uri": "https://localhost:8080/",
          "height": 170
        },
        "outputId": "bca0ea70-b925-420e-c5a4-9ad738dd34fb"
      },
      "source": [
        "from sklearn.preprocessing import StandardScaler\n",
        "from sklearn.model_selection import train_test_split\n",
        "\n",
        "scaler = StandardScaler()\n",
        "features = scaler.fit_transform(features)\n",
        "print(features[0])\n",
        "\n",
        "X_train, X_test, y_train, y_test=train_test_split(features,labels,test_size=0.2, random_state=42)\n",
        "\n",
        "#X_train=X_train.astype('float32')\n",
        "#X_test=X_test.astype('float32')\n",
        "print(X_train.shape)\n",
        "print(X_test.shape)\n",
        "print(y_train.shape)\n",
        "print(y_test.shape)"
      ],
      "execution_count": 32,
      "outputs": [
        {
          "output_type": "stream",
          "text": [
            "[ 1.45094259  0.80223991 -0.06502102 -0.33078773  0.04703112  0.20079889\n",
            " -0.93863499  0.25309466 -0.18275693  0.58255806  0.02030165 -0.4191561\n",
            "  0.19984054 -0.28898097 -0.01702708  1.08823192  0.28239682  0.35878101\n",
            "  0.47503238 -0.63500995 -0.34422048  0.10376635  0.9152007  -0.00556151\n",
            " -0.14503745  0.42723258 -0.21816581 -0.02726437 -0.13146827 -0.37888298]\n",
            "(4329, 30)\n",
            "(1083, 30)\n",
            "(4329,)\n",
            "(1083,)\n"
          ],
          "name": "stdout"
        }
      ]
    },
    {
      "cell_type": "code",
      "metadata": {
        "id": "R_y3wzA4dHzj",
        "colab_type": "code",
        "colab": {
          "base_uri": "https://localhost:8080/",
          "height": 85
        },
        "outputId": "1bea3f3c-88c8-4e7f-9f27-067dc2cd591e"
      },
      "source": [
        "X_train=X_train.reshape(4329,5,6,1)\n",
        "X_test=X_test.reshape(1083,5,6,1)\n",
        "y_train=y_train.to_numpy()\n",
        "y_test=y_test.to_numpy()\n",
        "print(type(X_train))\n",
        "print(type(X_test))\n",
        "print(type(y_train))\n",
        "print(type(y_test))"
      ],
      "execution_count": 33,
      "outputs": [
        {
          "output_type": "stream",
          "text": [
            "<class 'numpy.ndarray'>\n",
            "<class 'numpy.ndarray'>\n",
            "<class 'numpy.ndarray'>\n",
            "<class 'numpy.ndarray'>\n"
          ],
          "name": "stdout"
        }
      ]
    },
    {
      "cell_type": "code",
      "metadata": {
        "id": "PqK7uhXzncIz",
        "colab_type": "code",
        "colab": {}
      },
      "source": [
        "from keras import backend as K\n",
        "\n",
        "def recall_m(y_true, y_pred):\n",
        "        true_positives = K.sum(K.round(K.clip(y_true * y_pred, 0, 1)))\n",
        "        possible_positives = K.sum(K.round(K.clip(y_true, 0, 1)))\n",
        "        recall = true_positives / (possible_positives + K.epsilon())\n",
        "        return recall\n",
        "\n",
        "def precision_m(y_true, y_pred):\n",
        "        true_positives = K.sum(K.round(K.clip(y_true * y_pred, 0, 1)))\n",
        "        predicted_positives = K.sum(K.round(K.clip(y_pred, 0, 1)))\n",
        "        precision = true_positives / (predicted_positives + K.epsilon())\n",
        "        return precision\n",
        "\n",
        "def f1_m(y_true, y_pred):\n",
        "    precision = precision_m(y_true, y_pred)\n",
        "    recall = recall_m(y_true, y_pred)\n",
        "    return 2*((precision*recall)/(precision+recall+K.epsilon()))"
      ],
      "execution_count": 0,
      "outputs": []
    },
    {
      "cell_type": "code",
      "metadata": {
        "id": "f4GZNk5uejRZ",
        "colab_type": "code",
        "colab": {}
      },
      "source": [
        "from keras.models import Sequential\n",
        "from keras.layers import Dense, Conv2D, Flatten\n",
        "#create model\n",
        "model = Sequential()\n",
        "#add model layers\n",
        "model.add(Conv2D(64, kernel_size=3, activation='relu', input_shape=(5,6,1)))\n",
        "model.add(Conv2D(32, kernel_size=3, activation='relu'))\n",
        "model.add(Flatten())\n",
        "model.add(Dense(1, activation='sigmoid'))"
      ],
      "execution_count": 0,
      "outputs": []
    },
    {
      "cell_type": "code",
      "metadata": {
        "id": "PoUlDqMafpF3",
        "colab_type": "code",
        "colab": {}
      },
      "source": [
        "#compile model using accuracy to measure model performance\n",
        "model.compile(optimizer='adam', loss='binary_crossentropy', metrics=['accuracy', f1_m,precision_m, recall_m])"
      ],
      "execution_count": 0,
      "outputs": []
    },
    {
      "cell_type": "code",
      "metadata": {
        "id": "XXzD5vi5fqTy",
        "colab_type": "code",
        "colab": {
          "base_uri": "https://localhost:8080/",
          "height": 173
        },
        "outputId": "9a745df6-3706-4c29-9fe3-70e66e7d5582"
      },
      "source": [
        "#train the model\n",
        "model.fit(X_train, y_train, validation_data=(X_test, y_test), epochs=3)"
      ],
      "execution_count": 38,
      "outputs": [
        {
          "output_type": "stream",
          "text": [
            "Train on 4329 samples, validate on 1083 samples\n",
            "Epoch 1/3\n",
            "4329/4329 [==============================] - 1s 187us/step - loss: 0.1565 - acc: 0.9679 - f1_m: 0.7687 - precision_m: 0.8760 - recall_m: 0.7175 - val_loss: 0.0747 - val_acc: 0.9852 - val_f1_m: 0.8255 - val_precision_m: 0.8966 - val_recall_m: 0.7956\n",
            "Epoch 2/3\n",
            "4329/4329 [==============================] - 0s 106us/step - loss: 0.0599 - acc: 0.9854 - f1_m: 0.8309 - precision_m: 0.9002 - recall_m: 0.7934 - val_loss: 0.0679 - val_acc: 0.9843 - val_f1_m: 0.8403 - val_precision_m: 0.9064 - val_recall_m: 0.8252\n",
            "Epoch 3/3\n",
            "4329/4329 [==============================] - 0s 102us/step - loss: 0.0528 - acc: 0.9864 - f1_m: 0.8550 - precision_m: 0.9234 - recall_m: 0.8182 - val_loss: 0.0697 - val_acc: 0.9834 - val_f1_m: 0.8428 - val_precision_m: 0.8931 - val_recall_m: 0.8385\n"
          ],
          "name": "stdout"
        },
        {
          "output_type": "execute_result",
          "data": {
            "text/plain": [
              "<keras.callbacks.History at 0x7fc5c186fd68>"
            ]
          },
          "metadata": {
            "tags": []
          },
          "execution_count": 38
        }
      ]
    },
    {
      "cell_type": "code",
      "metadata": {
        "id": "IVESWdwVn5nJ",
        "colab_type": "code",
        "colab": {
          "base_uri": "https://localhost:8080/",
          "height": 102
        },
        "outputId": "1432cf98-8422-4d3a-8816-1893a0dedb16"
      },
      "source": [
        "# evaluate the model\n",
        "loss, accuracy, f1_score, precision, recall = model.evaluate(X_test, y_test, verbose=0)\n",
        "\n",
        "\n",
        "print(\"loss: \"+\"{:.2%}\".format(loss));\n",
        "print(\"acc: \"+\"{:.2%}\".format(accuracy));\n",
        "print(\"f1: \"+\"{:.2%}\".format(f1_score));\n",
        "print(\"precision: \"+\"{:.2%}\".format(precision));\n",
        "print(\"recall: \"+\"{:.2%}\".format(recall));"
      ],
      "execution_count": 39,
      "outputs": [
        {
          "output_type": "stream",
          "text": [
            "loss: 6.97%\n",
            "acc: 98.34%\n",
            "f1: 84.28%\n",
            "precision: 89.31%\n",
            "recall: 83.85%\n"
          ],
          "name": "stdout"
        }
      ]
    },
    {
      "cell_type": "code",
      "metadata": {
        "id": "3SGqLJtnqduS",
        "colab_type": "code",
        "colab": {}
      },
      "source": [
        "prediction=model.predict(X_test)"
      ],
      "execution_count": 0,
      "outputs": []
    },
    {
      "cell_type": "code",
      "metadata": {
        "id": "0M09i5JTr6ac",
        "colab_type": "code",
        "colab": {
          "base_uri": "https://localhost:8080/",
          "height": 1000
        },
        "outputId": "18bbb07f-2450-44a0-cc0b-d97b621a0571"
      },
      "source": [
        "for i in range(len(y_test)):\n",
        "  if(y_test[i]==1):\n",
        "    print(i)\n",
        "    print(y_test[i])\n",
        "    print(prediction[i])\n",
        "    print(\"-----\")"
      ],
      "execution_count": 42,
      "outputs": [
        {
          "output_type": "stream",
          "text": [
            "19\n",
            "1.0\n",
            "[0.9999509]\n",
            "-----\n",
            "21\n",
            "1.0\n",
            "[0.9991931]\n",
            "-----\n",
            "23\n",
            "1.0\n",
            "[1.]\n",
            "-----\n",
            "31\n",
            "1.0\n",
            "[0.99981844]\n",
            "-----\n",
            "38\n",
            "1.0\n",
            "[0.99994564]\n",
            "-----\n",
            "39\n",
            "1.0\n",
            "[0.9999191]\n",
            "-----\n",
            "58\n",
            "1.0\n",
            "[0.9968305]\n",
            "-----\n",
            "60\n",
            "1.0\n",
            "[0.99995255]\n",
            "-----\n",
            "65\n",
            "1.0\n",
            "[0.99999857]\n",
            "-----\n",
            "68\n",
            "1.0\n",
            "[1.]\n",
            "-----\n",
            "71\n",
            "1.0\n",
            "[0.01893744]\n",
            "-----\n",
            "76\n",
            "1.0\n",
            "[1.]\n",
            "-----\n",
            "84\n",
            "1.0\n",
            "[0.3941836]\n",
            "-----\n",
            "101\n",
            "1.0\n",
            "[0.99995387]\n",
            "-----\n",
            "118\n",
            "1.0\n",
            "[0.9999846]\n",
            "-----\n",
            "130\n",
            "1.0\n",
            "[1.]\n",
            "-----\n",
            "134\n",
            "1.0\n",
            "[0.99999607]\n",
            "-----\n",
            "149\n",
            "1.0\n",
            "[1.]\n",
            "-----\n",
            "153\n",
            "1.0\n",
            "[0.99359727]\n",
            "-----\n",
            "156\n",
            "1.0\n",
            "[0.00539121]\n",
            "-----\n",
            "191\n",
            "1.0\n",
            "[0.9999918]\n",
            "-----\n",
            "203\n",
            "1.0\n",
            "[0.02826494]\n",
            "-----\n",
            "210\n",
            "1.0\n",
            "[1.]\n",
            "-----\n",
            "215\n",
            "1.0\n",
            "[0.994305]\n",
            "-----\n",
            "228\n",
            "1.0\n",
            "[0.0204201]\n",
            "-----\n",
            "248\n",
            "1.0\n",
            "[0.9999503]\n",
            "-----\n",
            "253\n",
            "1.0\n",
            "[0.02139676]\n",
            "-----\n",
            "268\n",
            "1.0\n",
            "[1.]\n",
            "-----\n",
            "274\n",
            "1.0\n",
            "[1.]\n",
            "-----\n",
            "276\n",
            "1.0\n",
            "[1.]\n",
            "-----\n",
            "289\n",
            "1.0\n",
            "[0.0257588]\n",
            "-----\n",
            "305\n",
            "1.0\n",
            "[0.9912635]\n",
            "-----\n",
            "335\n",
            "1.0\n",
            "[0.99998677]\n",
            "-----\n",
            "340\n",
            "1.0\n",
            "[0.9990034]\n",
            "-----\n",
            "345\n",
            "1.0\n",
            "[0.6846291]\n",
            "-----\n",
            "348\n",
            "1.0\n",
            "[0.9999883]\n",
            "-----\n",
            "349\n",
            "1.0\n",
            "[0.36921823]\n",
            "-----\n",
            "387\n",
            "1.0\n",
            "[0.9999924]\n",
            "-----\n",
            "422\n",
            "1.0\n",
            "[0.999999]\n",
            "-----\n",
            "427\n",
            "1.0\n",
            "[0.99387753]\n",
            "-----\n",
            "431\n",
            "1.0\n",
            "[0.9993526]\n",
            "-----\n",
            "435\n",
            "1.0\n",
            "[1.]\n",
            "-----\n",
            "453\n",
            "1.0\n",
            "[1.]\n",
            "-----\n",
            "483\n",
            "1.0\n",
            "[0.0279665]\n",
            "-----\n",
            "488\n",
            "1.0\n",
            "[0.9963904]\n",
            "-----\n",
            "499\n",
            "1.0\n",
            "[1.]\n",
            "-----\n",
            "510\n",
            "1.0\n",
            "[0.99999964]\n",
            "-----\n",
            "525\n",
            "1.0\n",
            "[1.]\n",
            "-----\n",
            "538\n",
            "1.0\n",
            "[0.9991375]\n",
            "-----\n",
            "545\n",
            "1.0\n",
            "[0.00720957]\n",
            "-----\n",
            "552\n",
            "1.0\n",
            "[0.9999355]\n",
            "-----\n",
            "554\n",
            "1.0\n",
            "[0.99999195]\n",
            "-----\n",
            "559\n",
            "1.0\n",
            "[0.9997753]\n",
            "-----\n",
            "616\n",
            "1.0\n",
            "[0.9999988]\n",
            "-----\n",
            "617\n",
            "1.0\n",
            "[0.99999833]\n",
            "-----\n",
            "626\n",
            "1.0\n",
            "[0.99999154]\n",
            "-----\n",
            "630\n",
            "1.0\n",
            "[0.9999994]\n",
            "-----\n",
            "650\n",
            "1.0\n",
            "[0.99594945]\n",
            "-----\n",
            "667\n",
            "1.0\n",
            "[0.9937694]\n",
            "-----\n",
            "675\n",
            "1.0\n",
            "[1.]\n",
            "-----\n",
            "685\n",
            "1.0\n",
            "[0.9999989]\n",
            "-----\n",
            "687\n",
            "1.0\n",
            "[0.9956999]\n",
            "-----\n",
            "691\n",
            "1.0\n",
            "[0.9979521]\n",
            "-----\n",
            "713\n",
            "1.0\n",
            "[0.9999744]\n",
            "-----\n",
            "714\n",
            "1.0\n",
            "[1.]\n",
            "-----\n",
            "723\n",
            "1.0\n",
            "[0.99820054]\n",
            "-----\n",
            "728\n",
            "1.0\n",
            "[0.998009]\n",
            "-----\n",
            "740\n",
            "1.0\n",
            "[0.01358509]\n",
            "-----\n",
            "743\n",
            "1.0\n",
            "[0.0055466]\n",
            "-----\n",
            "745\n",
            "1.0\n",
            "[0.9999995]\n",
            "-----\n",
            "780\n",
            "1.0\n",
            "[0.99994457]\n",
            "-----\n",
            "788\n",
            "1.0\n",
            "[0.9999148]\n",
            "-----\n",
            "790\n",
            "1.0\n",
            "[1.]\n",
            "-----\n",
            "791\n",
            "1.0\n",
            "[0.99978757]\n",
            "-----\n",
            "797\n",
            "1.0\n",
            "[1.]\n",
            "-----\n",
            "830\n",
            "1.0\n",
            "[0.6166294]\n",
            "-----\n",
            "856\n",
            "1.0\n",
            "[0.99918556]\n",
            "-----\n",
            "861\n",
            "1.0\n",
            "[0.9999995]\n",
            "-----\n",
            "887\n",
            "1.0\n",
            "[1.]\n",
            "-----\n",
            "923\n",
            "1.0\n",
            "[0.99999475]\n",
            "-----\n",
            "942\n",
            "1.0\n",
            "[1.]\n",
            "-----\n",
            "971\n",
            "1.0\n",
            "[0.99998915]\n",
            "-----\n",
            "987\n",
            "1.0\n",
            "[0.80485857]\n",
            "-----\n",
            "992\n",
            "1.0\n",
            "[0.9998567]\n",
            "-----\n",
            "1000\n",
            "1.0\n",
            "[0.9995954]\n",
            "-----\n",
            "1006\n",
            "1.0\n",
            "[0.99301356]\n",
            "-----\n",
            "1008\n",
            "1.0\n",
            "[0.99945056]\n",
            "-----\n",
            "1033\n",
            "1.0\n",
            "[0.7441784]\n",
            "-----\n",
            "1042\n",
            "1.0\n",
            "[0.9999844]\n",
            "-----\n",
            "1043\n",
            "1.0\n",
            "[0.9995476]\n",
            "-----\n",
            "1049\n",
            "1.0\n",
            "[0.9999467]\n",
            "-----\n",
            "1075\n",
            "1.0\n",
            "[0.9999877]\n",
            "-----\n",
            "1079\n",
            "1.0\n",
            "[0.98737097]\n",
            "-----\n"
          ],
          "name": "stdout"
        }
      ]
    },
    {
      "cell_type": "code",
      "metadata": {
        "id": "dbh20TSCuLCu",
        "colab_type": "code",
        "colab": {
          "base_uri": "https://localhost:8080/",
          "height": 494
        },
        "outputId": "d68d2de6-5562-492c-9bd8-8cd74d5e7564"
      },
      "source": [
        "\n",
        "y_test[0]\n"
      ],
      "execution_count": 21,
      "outputs": [
        {
          "output_type": "error",
          "ename": "KeyError",
          "evalue": "ignored",
          "traceback": [
            "\u001b[0;31m---------------------------------------------------------------------------\u001b[0m",
            "\u001b[0;31mKeyError\u001b[0m                                  Traceback (most recent call last)",
            "\u001b[0;32m<ipython-input-21-a1aaba34fc69>\u001b[0m in \u001b[0;36m<module>\u001b[0;34m()\u001b[0m\n\u001b[1;32m      1\u001b[0m \u001b[0;34m\u001b[0m\u001b[0m\n\u001b[0;32m----> 2\u001b[0;31m \u001b[0my_test\u001b[0m\u001b[0;34m[\u001b[0m\u001b[0;36m0\u001b[0m\u001b[0;34m]\u001b[0m\u001b[0;34m\u001b[0m\u001b[0;34m\u001b[0m\u001b[0m\n\u001b[0m",
            "\u001b[0;32m/usr/local/lib/python3.6/dist-packages/pandas/core/series.py\u001b[0m in \u001b[0;36m__getitem__\u001b[0;34m(self, key)\u001b[0m\n\u001b[1;32m   1069\u001b[0m         \u001b[0mkey\u001b[0m \u001b[0;34m=\u001b[0m \u001b[0mcom\u001b[0m\u001b[0;34m.\u001b[0m\u001b[0mapply_if_callable\u001b[0m\u001b[0;34m(\u001b[0m\u001b[0mkey\u001b[0m\u001b[0;34m,\u001b[0m \u001b[0mself\u001b[0m\u001b[0;34m)\u001b[0m\u001b[0;34m\u001b[0m\u001b[0;34m\u001b[0m\u001b[0m\n\u001b[1;32m   1070\u001b[0m         \u001b[0;32mtry\u001b[0m\u001b[0;34m:\u001b[0m\u001b[0;34m\u001b[0m\u001b[0;34m\u001b[0m\u001b[0m\n\u001b[0;32m-> 1071\u001b[0;31m             \u001b[0mresult\u001b[0m \u001b[0;34m=\u001b[0m \u001b[0mself\u001b[0m\u001b[0;34m.\u001b[0m\u001b[0mindex\u001b[0m\u001b[0;34m.\u001b[0m\u001b[0mget_value\u001b[0m\u001b[0;34m(\u001b[0m\u001b[0mself\u001b[0m\u001b[0;34m,\u001b[0m \u001b[0mkey\u001b[0m\u001b[0;34m)\u001b[0m\u001b[0;34m\u001b[0m\u001b[0;34m\u001b[0m\u001b[0m\n\u001b[0m\u001b[1;32m   1072\u001b[0m \u001b[0;34m\u001b[0m\u001b[0m\n\u001b[1;32m   1073\u001b[0m             \u001b[0;32mif\u001b[0m \u001b[0;32mnot\u001b[0m \u001b[0mis_scalar\u001b[0m\u001b[0;34m(\u001b[0m\u001b[0mresult\u001b[0m\u001b[0;34m)\u001b[0m\u001b[0;34m:\u001b[0m\u001b[0;34m\u001b[0m\u001b[0;34m\u001b[0m\u001b[0m\n",
            "\u001b[0;32m/usr/local/lib/python3.6/dist-packages/pandas/core/indexes/base.py\u001b[0m in \u001b[0;36mget_value\u001b[0;34m(self, series, key)\u001b[0m\n\u001b[1;32m   4728\u001b[0m         \u001b[0mk\u001b[0m \u001b[0;34m=\u001b[0m \u001b[0mself\u001b[0m\u001b[0;34m.\u001b[0m\u001b[0m_convert_scalar_indexer\u001b[0m\u001b[0;34m(\u001b[0m\u001b[0mk\u001b[0m\u001b[0;34m,\u001b[0m \u001b[0mkind\u001b[0m\u001b[0;34m=\u001b[0m\u001b[0;34m\"getitem\"\u001b[0m\u001b[0;34m)\u001b[0m\u001b[0;34m\u001b[0m\u001b[0;34m\u001b[0m\u001b[0m\n\u001b[1;32m   4729\u001b[0m         \u001b[0;32mtry\u001b[0m\u001b[0;34m:\u001b[0m\u001b[0;34m\u001b[0m\u001b[0;34m\u001b[0m\u001b[0m\n\u001b[0;32m-> 4730\u001b[0;31m             \u001b[0;32mreturn\u001b[0m \u001b[0mself\u001b[0m\u001b[0;34m.\u001b[0m\u001b[0m_engine\u001b[0m\u001b[0;34m.\u001b[0m\u001b[0mget_value\u001b[0m\u001b[0;34m(\u001b[0m\u001b[0ms\u001b[0m\u001b[0;34m,\u001b[0m \u001b[0mk\u001b[0m\u001b[0;34m,\u001b[0m \u001b[0mtz\u001b[0m\u001b[0;34m=\u001b[0m\u001b[0mgetattr\u001b[0m\u001b[0;34m(\u001b[0m\u001b[0mseries\u001b[0m\u001b[0;34m.\u001b[0m\u001b[0mdtype\u001b[0m\u001b[0;34m,\u001b[0m \u001b[0;34m\"tz\"\u001b[0m\u001b[0;34m,\u001b[0m \u001b[0;32mNone\u001b[0m\u001b[0;34m)\u001b[0m\u001b[0;34m)\u001b[0m\u001b[0;34m\u001b[0m\u001b[0;34m\u001b[0m\u001b[0m\n\u001b[0m\u001b[1;32m   4731\u001b[0m         \u001b[0;32mexcept\u001b[0m \u001b[0mKeyError\u001b[0m \u001b[0;32mas\u001b[0m \u001b[0me1\u001b[0m\u001b[0;34m:\u001b[0m\u001b[0;34m\u001b[0m\u001b[0;34m\u001b[0m\u001b[0m\n\u001b[1;32m   4732\u001b[0m             \u001b[0;32mif\u001b[0m \u001b[0mlen\u001b[0m\u001b[0;34m(\u001b[0m\u001b[0mself\u001b[0m\u001b[0;34m)\u001b[0m \u001b[0;34m>\u001b[0m \u001b[0;36m0\u001b[0m \u001b[0;32mand\u001b[0m \u001b[0;34m(\u001b[0m\u001b[0mself\u001b[0m\u001b[0;34m.\u001b[0m\u001b[0mholds_integer\u001b[0m\u001b[0;34m(\u001b[0m\u001b[0;34m)\u001b[0m \u001b[0;32mor\u001b[0m \u001b[0mself\u001b[0m\u001b[0;34m.\u001b[0m\u001b[0mis_boolean\u001b[0m\u001b[0;34m(\u001b[0m\u001b[0;34m)\u001b[0m\u001b[0;34m)\u001b[0m\u001b[0;34m:\u001b[0m\u001b[0;34m\u001b[0m\u001b[0;34m\u001b[0m\u001b[0m\n",
            "\u001b[0;32mpandas/_libs/index.pyx\u001b[0m in \u001b[0;36mpandas._libs.index.IndexEngine.get_value\u001b[0;34m()\u001b[0m\n",
            "\u001b[0;32mpandas/_libs/index.pyx\u001b[0m in \u001b[0;36mpandas._libs.index.IndexEngine.get_value\u001b[0;34m()\u001b[0m\n",
            "\u001b[0;32mpandas/_libs/index.pyx\u001b[0m in \u001b[0;36mpandas._libs.index.IndexEngine.get_loc\u001b[0;34m()\u001b[0m\n",
            "\u001b[0;32mpandas/_libs/hashtable_class_helper.pxi\u001b[0m in \u001b[0;36mpandas._libs.hashtable.Int64HashTable.get_item\u001b[0;34m()\u001b[0m\n",
            "\u001b[0;32mpandas/_libs/hashtable_class_helper.pxi\u001b[0m in \u001b[0;36mpandas._libs.hashtable.Int64HashTable.get_item\u001b[0;34m()\u001b[0m\n",
            "\u001b[0;31mKeyError\u001b[0m: 0"
          ]
        }
      ]
    },
    {
      "cell_type": "code",
      "metadata": {
        "id": "A7BR6BlYxYR6",
        "colab_type": "code",
        "colab": {}
      },
      "source": [
        ""
      ],
      "execution_count": 0,
      "outputs": []
    }
  ]
}