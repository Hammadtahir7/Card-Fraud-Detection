{
  "nbformat": 4,
  "nbformat_minor": 0,
  "metadata": {
    "colab": {
      "name": "CreditCardFraudDetection.ipynb",
      "provenance": [],
      "collapsed_sections": [],
      "authorship_tag": "ABX9TyOkWOgIVwpk+tNotd1PNS5v",
      "include_colab_link": true
    },
    "kernelspec": {
      "name": "python3",
      "display_name": "Python 3"
    }
  },
  "cells": [
    {
      "cell_type": "markdown",
      "metadata": {
        "id": "view-in-github",
        "colab_type": "text"
      },
      "source": [
        "<a href=\"https://colab.research.google.com/github/Hammadtahir7/Card-Fraud-Detection/blob/master/CreditCardFraudDetection.ipynb\" target=\"_parent\"><img src=\"https://colab.research.google.com/assets/colab-badge.svg\" alt=\"Open In Colab\"/></a>"
      ]
    },
    {
      "cell_type": "code",
      "metadata": {
        "id": "r8VWUeTfKlqV",
        "colab_type": "code",
        "outputId": "db8e6d05-fd36-4950-cf4b-e9d417a2c838",
        "colab": {
          "resources": {
            "http://localhost:8080/nbextensions/google.colab/files.js": {
              "data": "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",
              "ok": true,
              "headers": [
                [
                  "content-type",
                  "application/javascript"
                ]
              ],
              "status": 200,
              "status_text": ""
            }
          },
          "base_uri": "https://localhost:8080/",
          "height": 71
        }
      },
      "source": [
        "#to upload data file from local drive to google colab\n",
        "#remove this code if using your local machine\n",
        "from google.colab import files\n",
        "uploaded = files.upload()"
      ],
      "execution_count": 0,
      "outputs": [
        {
          "output_type": "display_data",
          "data": {
            "text/html": [
              "\n",
              "     <input type=\"file\" id=\"files-8225ea02-1a0d-42e0-aafc-229993a7774d\" name=\"files[]\" multiple disabled />\n",
              "     <output id=\"result-8225ea02-1a0d-42e0-aafc-229993a7774d\">\n",
              "      Upload widget is only available when the cell has been executed in the\n",
              "      current browser session. Please rerun this cell to enable.\n",
              "      </output>\n",
              "      <script src=\"/nbextensions/google.colab/files.js\"></script> "
            ],
            "text/plain": [
              "<IPython.core.display.HTML object>"
            ]
          },
          "metadata": {
            "tags": []
          }
        },
        {
          "output_type": "stream",
          "text": [
            "Saving creditcard.csv to creditcard (1).csv\n"
          ],
          "name": "stdout"
        }
      ]
    },
    {
      "cell_type": "code",
      "metadata": {
        "id": "bCyhvUw-gUrN",
        "colab_type": "code",
        "outputId": "bf34132f-ed89-4c89-8844-9d76ba5cc2b1",
        "colab": {
          "base_uri": "https://localhost:8080/",
          "height": 224
        }
      },
      "source": [
        "# read the original data file from google colab\n",
        "# ignore this block if running locally''\n",
        "#change the name of the file when reading different dataset\n",
        "import io\n",
        "import pandas as pd\n",
        "df = pd.read_csv(io.BytesIO(uploaded['creditcard.csv']))\n",
        "df.head()"
      ],
      "execution_count": 0,
      "outputs": [
        {
          "output_type": "execute_result",
          "data": {
            "text/html": [
              "<div>\n",
              "<style scoped>\n",
              "    .dataframe tbody tr th:only-of-type {\n",
              "        vertical-align: middle;\n",
              "    }\n",
              "\n",
              "    .dataframe tbody tr th {\n",
              "        vertical-align: top;\n",
              "    }\n",
              "\n",
              "    .dataframe thead th {\n",
              "        text-align: right;\n",
              "    }\n",
              "</style>\n",
              "<table border=\"1\" class=\"dataframe\">\n",
              "  <thead>\n",
              "    <tr style=\"text-align: right;\">\n",
              "      <th></th>\n",
              "      <th>Time</th>\n",
              "      <th>V1</th>\n",
              "      <th>V2</th>\n",
              "      <th>V3</th>\n",
              "      <th>V4</th>\n",
              "      <th>V5</th>\n",
              "      <th>V6</th>\n",
              "      <th>V7</th>\n",
              "      <th>V8</th>\n",
              "      <th>V9</th>\n",
              "      <th>V10</th>\n",
              "      <th>V11</th>\n",
              "      <th>V12</th>\n",
              "      <th>V13</th>\n",
              "      <th>V14</th>\n",
              "      <th>V15</th>\n",
              "      <th>V16</th>\n",
              "      <th>V17</th>\n",
              "      <th>V18</th>\n",
              "      <th>V19</th>\n",
              "      <th>V20</th>\n",
              "      <th>V21</th>\n",
              "      <th>V22</th>\n",
              "      <th>V23</th>\n",
              "      <th>V24</th>\n",
              "      <th>V25</th>\n",
              "      <th>V26</th>\n",
              "      <th>V27</th>\n",
              "      <th>V28</th>\n",
              "      <th>Amount</th>\n",
              "      <th>Class</th>\n",
              "    </tr>\n",
              "  </thead>\n",
              "  <tbody>\n",
              "    <tr>\n",
              "      <th>0</th>\n",
              "      <td>0.0</td>\n",
              "      <td>-1.359807</td>\n",
              "      <td>-0.072781</td>\n",
              "      <td>2.536347</td>\n",
              "      <td>1.378155</td>\n",
              "      <td>-0.338321</td>\n",
              "      <td>0.462388</td>\n",
              "      <td>0.239599</td>\n",
              "      <td>0.098698</td>\n",
              "      <td>0.363787</td>\n",
              "      <td>0.090794</td>\n",
              "      <td>-0.551600</td>\n",
              "      <td>-0.617801</td>\n",
              "      <td>-0.991390</td>\n",
              "      <td>-0.311169</td>\n",
              "      <td>1.468177</td>\n",
              "      <td>-0.470401</td>\n",
              "      <td>0.207971</td>\n",
              "      <td>0.025791</td>\n",
              "      <td>0.403993</td>\n",
              "      <td>0.251412</td>\n",
              "      <td>-0.018307</td>\n",
              "      <td>0.277838</td>\n",
              "      <td>-0.110474</td>\n",
              "      <td>0.066928</td>\n",
              "      <td>0.128539</td>\n",
              "      <td>-0.189115</td>\n",
              "      <td>0.133558</td>\n",
              "      <td>-0.021053</td>\n",
              "      <td>149.62</td>\n",
              "      <td>0</td>\n",
              "    </tr>\n",
              "    <tr>\n",
              "      <th>1</th>\n",
              "      <td>0.0</td>\n",
              "      <td>1.191857</td>\n",
              "      <td>0.266151</td>\n",
              "      <td>0.166480</td>\n",
              "      <td>0.448154</td>\n",
              "      <td>0.060018</td>\n",
              "      <td>-0.082361</td>\n",
              "      <td>-0.078803</td>\n",
              "      <td>0.085102</td>\n",
              "      <td>-0.255425</td>\n",
              "      <td>-0.166974</td>\n",
              "      <td>1.612727</td>\n",
              "      <td>1.065235</td>\n",
              "      <td>0.489095</td>\n",
              "      <td>-0.143772</td>\n",
              "      <td>0.635558</td>\n",
              "      <td>0.463917</td>\n",
              "      <td>-0.114805</td>\n",
              "      <td>-0.183361</td>\n",
              "      <td>-0.145783</td>\n",
              "      <td>-0.069083</td>\n",
              "      <td>-0.225775</td>\n",
              "      <td>-0.638672</td>\n",
              "      <td>0.101288</td>\n",
              "      <td>-0.339846</td>\n",
              "      <td>0.167170</td>\n",
              "      <td>0.125895</td>\n",
              "      <td>-0.008983</td>\n",
              "      <td>0.014724</td>\n",
              "      <td>2.69</td>\n",
              "      <td>0</td>\n",
              "    </tr>\n",
              "    <tr>\n",
              "      <th>2</th>\n",
              "      <td>1.0</td>\n",
              "      <td>-1.358354</td>\n",
              "      <td>-1.340163</td>\n",
              "      <td>1.773209</td>\n",
              "      <td>0.379780</td>\n",
              "      <td>-0.503198</td>\n",
              "      <td>1.800499</td>\n",
              "      <td>0.791461</td>\n",
              "      <td>0.247676</td>\n",
              "      <td>-1.514654</td>\n",
              "      <td>0.207643</td>\n",
              "      <td>0.624501</td>\n",
              "      <td>0.066084</td>\n",
              "      <td>0.717293</td>\n",
              "      <td>-0.165946</td>\n",
              "      <td>2.345865</td>\n",
              "      <td>-2.890083</td>\n",
              "      <td>1.109969</td>\n",
              "      <td>-0.121359</td>\n",
              "      <td>-2.261857</td>\n",
              "      <td>0.524980</td>\n",
              "      <td>0.247998</td>\n",
              "      <td>0.771679</td>\n",
              "      <td>0.909412</td>\n",
              "      <td>-0.689281</td>\n",
              "      <td>-0.327642</td>\n",
              "      <td>-0.139097</td>\n",
              "      <td>-0.055353</td>\n",
              "      <td>-0.059752</td>\n",
              "      <td>378.66</td>\n",
              "      <td>0</td>\n",
              "    </tr>\n",
              "    <tr>\n",
              "      <th>3</th>\n",
              "      <td>1.0</td>\n",
              "      <td>-0.966272</td>\n",
              "      <td>-0.185226</td>\n",
              "      <td>1.792993</td>\n",
              "      <td>-0.863291</td>\n",
              "      <td>-0.010309</td>\n",
              "      <td>1.247203</td>\n",
              "      <td>0.237609</td>\n",
              "      <td>0.377436</td>\n",
              "      <td>-1.387024</td>\n",
              "      <td>-0.054952</td>\n",
              "      <td>-0.226487</td>\n",
              "      <td>0.178228</td>\n",
              "      <td>0.507757</td>\n",
              "      <td>-0.287924</td>\n",
              "      <td>-0.631418</td>\n",
              "      <td>-1.059647</td>\n",
              "      <td>-0.684093</td>\n",
              "      <td>1.965775</td>\n",
              "      <td>-1.232622</td>\n",
              "      <td>-0.208038</td>\n",
              "      <td>-0.108300</td>\n",
              "      <td>0.005274</td>\n",
              "      <td>-0.190321</td>\n",
              "      <td>-1.175575</td>\n",
              "      <td>0.647376</td>\n",
              "      <td>-0.221929</td>\n",
              "      <td>0.062723</td>\n",
              "      <td>0.061458</td>\n",
              "      <td>123.50</td>\n",
              "      <td>0</td>\n",
              "    </tr>\n",
              "    <tr>\n",
              "      <th>4</th>\n",
              "      <td>2.0</td>\n",
              "      <td>-1.158233</td>\n",
              "      <td>0.877737</td>\n",
              "      <td>1.548718</td>\n",
              "      <td>0.403034</td>\n",
              "      <td>-0.407193</td>\n",
              "      <td>0.095921</td>\n",
              "      <td>0.592941</td>\n",
              "      <td>-0.270533</td>\n",
              "      <td>0.817739</td>\n",
              "      <td>0.753074</td>\n",
              "      <td>-0.822843</td>\n",
              "      <td>0.538196</td>\n",
              "      <td>1.345852</td>\n",
              "      <td>-1.119670</td>\n",
              "      <td>0.175121</td>\n",
              "      <td>-0.451449</td>\n",
              "      <td>-0.237033</td>\n",
              "      <td>-0.038195</td>\n",
              "      <td>0.803487</td>\n",
              "      <td>0.408542</td>\n",
              "      <td>-0.009431</td>\n",
              "      <td>0.798278</td>\n",
              "      <td>-0.137458</td>\n",
              "      <td>0.141267</td>\n",
              "      <td>-0.206010</td>\n",
              "      <td>0.502292</td>\n",
              "      <td>0.219422</td>\n",
              "      <td>0.215153</td>\n",
              "      <td>69.99</td>\n",
              "      <td>0</td>\n",
              "    </tr>\n",
              "  </tbody>\n",
              "</table>\n",
              "</div>"
            ],
            "text/plain": [
              "   Time        V1        V2        V3  ...       V27       V28  Amount  Class\n",
              "0   0.0 -1.359807 -0.072781  2.536347  ...  0.133558 -0.021053  149.62      0\n",
              "1   0.0  1.191857  0.266151  0.166480  ... -0.008983  0.014724    2.69      0\n",
              "2   1.0 -1.358354 -1.340163  1.773209  ... -0.055353 -0.059752  378.66      0\n",
              "3   1.0 -0.966272 -0.185226  1.792993  ...  0.062723  0.061458  123.50      0\n",
              "4   2.0 -1.158233  0.877737  1.548718  ...  0.219422  0.215153   69.99      0\n",
              "\n",
              "[5 rows x 31 columns]"
            ]
          },
          "metadata": {
            "tags": []
          },
          "execution_count": 157
        }
      ]
    },
    {
      "cell_type": "code",
      "metadata": {
        "id": "Gr7q7GIqeWr8",
        "colab_type": "code",
        "colab": {}
      },
      "source": [
        "# STEP-1\n",
        "# read the original data file from local system\n",
        "# use this block if running locally\n",
        "#change the name of the file when reading different dataset\n",
        "df=pd.read_csv('creditcard.csv')\n",
        "df.head()"
      ],
      "execution_count": 0,
      "outputs": []
    },
    {
      "cell_type": "code",
      "metadata": {
        "id": "QSKdjm7uectF",
        "colab_type": "code",
        "outputId": "ceb6c596-ab58-47d8-da0c-343b4841d8c1",
        "colab": {
          "base_uri": "https://localhost:8080/",
          "height": 629
        }
      },
      "source": [
        "\n",
        "# get test dataset\n",
        "import numpy as np\n",
        "no_frauds = len(df[df['Class'] == 1])\n",
        "non_fraud_indices = df[df.Class == 0].index\n",
        "random_indices_nonfraud = np.random.choice(non_fraud_indices,10000, replace=False)\n",
        "fraud_indices = df[df.Class == 1].index\n",
        "random_indices_fraud = np.random.choice(fraud_indices,17, replace=False)\n",
        "sample_indices = np.concatenate([random_indices_nonfraud,random_indices_fraud])\n",
        "test_DS = df.loc[sample_indices]\n",
        "test_DS.info()\n",
        "\n",
        "# remaining dataset\n",
        "remaining_DS=df.drop(sample_indices)"
      ],
      "execution_count": 0,
      "outputs": [
        {
          "output_type": "stream",
          "text": [
            "<class 'pandas.core.frame.DataFrame'>\n",
            "Int64Index: 10017 entries, 221192 to 241445\n",
            "Data columns (total 31 columns):\n",
            "Time      10017 non-null float64\n",
            "V1        10017 non-null float64\n",
            "V2        10017 non-null float64\n",
            "V3        10017 non-null float64\n",
            "V4        10017 non-null float64\n",
            "V5        10017 non-null float64\n",
            "V6        10017 non-null float64\n",
            "V7        10017 non-null float64\n",
            "V8        10017 non-null float64\n",
            "V9        10017 non-null float64\n",
            "V10       10017 non-null float64\n",
            "V11       10017 non-null float64\n",
            "V12       10017 non-null float64\n",
            "V13       10017 non-null float64\n",
            "V14       10017 non-null float64\n",
            "V15       10017 non-null float64\n",
            "V16       10017 non-null float64\n",
            "V17       10017 non-null float64\n",
            "V18       10017 non-null float64\n",
            "V19       10017 non-null float64\n",
            "V20       10017 non-null float64\n",
            "V21       10017 non-null float64\n",
            "V22       10017 non-null float64\n",
            "V23       10017 non-null float64\n",
            "V24       10017 non-null float64\n",
            "V25       10017 non-null float64\n",
            "V26       10017 non-null float64\n",
            "V27       10017 non-null float64\n",
            "V28       10017 non-null float64\n",
            "Amount    10017 non-null float64\n",
            "Class     10017 non-null int64\n",
            "dtypes: float64(30), int64(1)\n",
            "memory usage: 2.4 MB\n"
          ],
          "name": "stdout"
        }
      ]
    },
    {
      "cell_type": "code",
      "metadata": {
        "id": "sKjWPp5hLGzw",
        "colab_type": "code",
        "colab": {}
      },
      "source": [
        "#STEP-3\n",
        "# get features and labels for remaining dataset\n",
        "features=remaining_DS.drop(remaining_DS.columns[remaining_DS.shape[1]-1],axis=1)\n",
        "labels=remaining_DS[remaining_DS.columns[remaining_DS.shape[1]-1]]\n",
        "\n",
        "#get features and labels for test dataset\n",
        "X_test=test_DS.drop(test_DS.columns[test_DS.shape[1]-1],axis=1)\n",
        "y_test=test_DS[test_DS.columns[test_DS.shape[1]-1]]"
      ],
      "execution_count": 0,
      "outputs": []
    },
    {
      "cell_type": "code",
      "metadata": {
        "id": "jRHAkMISlE7w",
        "colab_type": "code",
        "outputId": "a4c9c2e6-101b-4001-ce4e-b4c58d830988",
        "colab": {
          "base_uri": "https://localhost:8080/",
          "height": 241
        }
      },
      "source": [
        "#OPTIONAL STEP\n",
        "# ONLY USE THIS BLOCK WHEN UNDER SAMPLING\n",
        "# IGNORE THIS BLOCK IF USING ORIGINAL RATIO\n",
        "# COMMENT OUT THE RELEVENT SAMPLER\n",
        "from imblearn.under_sampling import RandomUnderSampler\n",
        "from imblearn.under_sampling import NearMiss \n",
        "#rus = RandomUnderSampler(sampling_strategy=0.1)\n",
        "#features, labels = rus.fit_resample(features.values, labels.values)\n",
        "nr = NearMiss(sampling_strategy=0.1, version=1)\n",
        "features, labels = nr.fit_resample(features, labels)\n",
        "features=pd.DataFrame(features)\n",
        "labels=pd.DataFrame(labels)\n",
        "\n",
        "print(features.shape)\n",
        "print(labels.shape)"
      ],
      "execution_count": 0,
      "outputs": [
        {
          "output_type": "stream",
          "text": [
            "/usr/local/lib/python3.6/dist-packages/sklearn/externals/six.py:31: FutureWarning: The module is deprecated in version 0.21 and will be removed in version 0.23 since we've dropped support for Python 2.7. Please rely on the official version of six (https://pypi.org/project/six/).\n",
            "  \"(https://pypi.org/project/six/).\", FutureWarning)\n",
            "/usr/local/lib/python3.6/dist-packages/sklearn/utils/deprecation.py:144: FutureWarning: The sklearn.neighbors.base module is  deprecated in version 0.22 and will be removed in version 0.24. The corresponding classes / functions should instead be imported from sklearn.neighbors. Anything that cannot be imported from sklearn.neighbors is now part of the private API.\n",
            "  warnings.warn(message, FutureWarning)\n",
            "/usr/local/lib/python3.6/dist-packages/sklearn/utils/deprecation.py:87: FutureWarning: Function safe_indexing is deprecated; safe_indexing is deprecated in version 0.22 and will be removed in version 0.24.\n",
            "  warnings.warn(msg, category=FutureWarning)\n",
            "/usr/local/lib/python3.6/dist-packages/sklearn/utils/deprecation.py:87: FutureWarning: Function safe_indexing is deprecated; safe_indexing is deprecated in version 0.22 and will be removed in version 0.24.\n",
            "  warnings.warn(msg, category=FutureWarning)\n",
            "/usr/local/lib/python3.6/dist-packages/sklearn/utils/deprecation.py:87: FutureWarning: Function safe_indexing is deprecated; safe_indexing is deprecated in version 0.22 and will be removed in version 0.24.\n",
            "  warnings.warn(msg, category=FutureWarning)\n"
          ],
          "name": "stderr"
        },
        {
          "output_type": "stream",
          "text": [
            "(5225, 30)\n",
            "(5225, 1)\n"
          ],
          "name": "stdout"
        }
      ]
    },
    {
      "cell_type": "code",
      "metadata": {
        "id": "w3MbcQ5KtH3Q",
        "colab_type": "code",
        "outputId": "fcd9e3a9-9cea-4ca6-9093-c27ecbed106a",
        "colab": {
          "base_uri": "https://localhost:8080/",
          "height": 105
        }
      },
      "source": [
        "# OPTIONAL STEP\n",
        "# ONLY USE THIS BLOCK FOR SMOTE SAMPLING\n",
        "# IGNORE THIS BLOCK IF USING ORIGINAL RATIO\n",
        "from imblearn.over_sampling import SMOTE \n",
        "sm = SMOTE(sampling_strategy=0.1) \n",
        "features, labels = sm.fit_resample(features, labels) \n",
        "features=pd.DataFrame(features)\n",
        "labels=pd.DataFrame(labels)\n",
        "\n",
        "print(features.shape)\n",
        "print(labels.shape)"
      ],
      "execution_count": 0,
      "outputs": [
        {
          "output_type": "stream",
          "text": [
            "(5225, 30)\n",
            "(5225, 1)\n"
          ],
          "name": "stdout"
        },
        {
          "output_type": "stream",
          "text": [
            "/usr/local/lib/python3.6/dist-packages/sklearn/utils/validation.py:760: DataConversionWarning: A column-vector y was passed when a 1d array was expected. Please change the shape of y to (n_samples, ), for example using ravel().\n",
            "  y = column_or_1d(y, warn=True)\n"
          ],
          "name": "stderr"
        }
      ]
    },
    {
      "cell_type": "code",
      "metadata": {
        "id": "OxvYp4rwLJgv",
        "colab_type": "code",
        "outputId": "3035c019-5128-4660-846a-fcde292febb1",
        "colab": {
          "base_uri": "https://localhost:8080/",
          "height": 136
        }
      },
      "source": [
        "#OPTIONAL STEP\n",
        "# show class frequencies\n",
        "unique_elements, counts_elements = np.unique(labels, return_counts=True)\n",
        "print(\"Frequency of unique values of the said array:\")\n",
        "print(np.asarray((unique_elements, counts_elements)).astype(int))\n",
        "ratio=counts_elements[1]/counts_elements[0]\n",
        "print(ratio)\n",
        "unique_elements, counts_elements = np.unique(y_test, return_counts=True)\n",
        "print(\"Frequency of unique values of the said array:\")\n",
        "print(np.asarray((unique_elements, counts_elements)))"
      ],
      "execution_count": 0,
      "outputs": [
        {
          "output_type": "stream",
          "text": [
            "Frequency of unique values of the said array:\n",
            "[[     0      1]\n",
            " [274315    475]]\n",
            "0.0017315859504584146\n",
            "Frequency of unique values of the said array:\n",
            "[[    0     1]\n",
            " [10000    17]]\n"
          ],
          "name": "stdout"
        }
      ]
    },
    {
      "cell_type": "code",
      "metadata": {
        "id": "nzEWDzBOLNd9",
        "colab_type": "code",
        "outputId": "2db7e8ae-3e3a-4c31-f98f-200db82482f3",
        "colab": {
          "base_uri": "https://localhost:8080/",
          "height": 170
        }
      },
      "source": [
        "#STEP-4\n",
        "from sklearn.preprocessing import StandardScaler\n",
        "from sklearn.model_selection import train_test_split\n",
        "\n",
        "# scale features for test sample and remaining samples\n",
        "scaler = StandardScaler()\n",
        "features = scaler.fit_transform(features)\n",
        "X_test = scaler.fit_transform(X_test)\n",
        "\n",
        "labels=labels.to_numpy()\n",
        "y_test=y_test.to_numpy()\n",
        "\n",
        "# split remaining sample dataset into training and validation datasets\n",
        "X_train, X_val, y_train, y_val=train_test_split(features,labels,test_size=0.2, random_state=42)\n",
        "\n",
        "\n",
        "print(features[0])\n",
        "print(X_train.shape)\n",
        "print(X_val.shape)\n",
        "print(y_train.shape)\n",
        "print(y_val.shape)"
      ],
      "execution_count": 0,
      "outputs": [
        {
          "output_type": "stream",
          "text": [
            "[-1.99584147 -0.69361478 -0.04344001  1.67050679  0.97420347 -0.24446298\n",
            "  0.34703885  0.19332164  0.0826501   0.33066427  0.08359944 -0.54061203\n",
            " -0.61722045 -0.99614398 -0.32498664  1.60300296 -0.53699058  0.24500856\n",
            "  0.03027058  0.49671211  0.32530277 -0.02493343  0.38265058 -0.17774149\n",
            "  0.11054051  0.24625821 -0.39256668  0.33067449 -0.0640358   0.24384325]\n",
            "(219832, 30)\n",
            "(54958, 30)\n",
            "(219832,)\n",
            "(54958,)\n"
          ],
          "name": "stdout"
        }
      ]
    },
    {
      "cell_type": "code",
      "metadata": {
        "id": "PzuvO8umgHDv",
        "colab_type": "code",
        "outputId": "bccc1ba2-8c2a-4589-9bc3-30b27b39d5ab",
        "colab": {
          "base_uri": "https://localhost:8080/",
          "height": 295
        }
      },
      "source": [
        "#OPTIONAL STEP\n",
        "#Plot class frequencies\n",
        "import matplotlib.pyplot as plt\n",
        "unique, counts = np.unique(y_train, return_counts=True)\n",
        "plt.bar(unique, counts)\n",
        "unique, counts = np.unique(y_val, return_counts=True)\n",
        "plt.bar(unique, counts)\n",
        "\n",
        "plt.title('Class Frequency')\n",
        "plt.xlabel('Class')\n",
        "plt.ylabel('Frequency')\n",
        "\n",
        "plt.show()"
      ],
      "execution_count": 0,
      "outputs": [
        {
          "output_type": "display_data",
          "data": {
            "image/png": "[encoded data removed]",
            "text/plain": [
              "<Figure size 432x288 with 1 Axes>"
            ]
          },
          "metadata": {
            "tags": []
          }
        }
      ]
    },
    {
      "cell_type": "code",
      "metadata": {
        "id": "tuBex7dxA89y",
        "colab_type": "code",
        "outputId": "c650c19e-0866-4dfc-e8dd-0ba9405e9749",
        "colab": {
          "base_uri": "https://localhost:8080/",
          "height": 68
        }
      },
      "source": [
        "#OPTIONAL STEP\n",
        "# validation data class frequency\n",
        "unique_elements, counts_elements = np.unique(y_val, return_counts=True)\n",
        "print(\"Frequency of unique values of the said array:\")\n",
        "print(np.asarray((unique_elements, counts_elements)).astype(int))"
      ],
      "execution_count": 0,
      "outputs": [
        {
          "output_type": "stream",
          "text": [
            "Frequency of unique values of the said array:\n",
            "[[    0     1]\n",
            " [54844   114]]\n"
          ],
          "name": "stdout"
        }
      ]
    },
    {
      "cell_type": "code",
      "metadata": {
        "id": "K8i0yR_geKFy",
        "colab_type": "code",
        "outputId": "b0bdcf69-1bd8-4e54-f1af-efd2bf343fa7",
        "colab": {
          "base_uri": "https://localhost:8080/",
          "height": 153
        }
      },
      "source": [
        "#STEP-5\n",
        "#creating forest classifier\n",
        "from sklearn.ensemble import RandomForestClassifier\n",
        "model_rf=RandomForestClassifier()\n",
        "print(model_rf)"
      ],
      "execution_count": 0,
      "outputs": [
        {
          "output_type": "stream",
          "text": [
            "RandomForestClassifier(bootstrap=True, ccp_alpha=0.0, class_weight=None,\n",
            "                       criterion='gini', max_depth=None, max_features='auto',\n",
            "                       max_leaf_nodes=None, max_samples=None,\n",
            "                       min_impurity_decrease=0.0, min_impurity_split=None,\n",
            "                       min_samples_leaf=1, min_samples_split=2,\n",
            "                       min_weight_fraction_leaf=0.0, n_estimators=100,\n",
            "                       n_jobs=None, oob_score=False, random_state=None,\n",
            "                       verbose=0, warm_start=False)\n"
          ],
          "name": "stdout"
        }
      ]
    },
    {
      "cell_type": "code",
      "metadata": {
        "id": "89YqP-grc2FI",
        "colab_type": "code",
        "outputId": "18929908-c3f7-4c56-b8ed-c681830fa1ca",
        "colab": {
          "base_uri": "https://localhost:8080/",
          "height": 85
        }
      },
      "source": [
        "#STEP-6\n",
        "#creating SVM classifier\n",
        "from sklearn import svm\n",
        "model_svm = svm.SVC(probability=True)\n",
        "print(model_svm)"
      ],
      "execution_count": 0,
      "outputs": [
        {
          "output_type": "stream",
          "text": [
            "SVC(C=1.0, break_ties=False, cache_size=200, class_weight=None, coef0=0.0,\n",
            "    decision_function_shape='ovr', degree=3, gamma='scale', kernel='rbf',\n",
            "    max_iter=-1, probability=True, random_state=None, shrinking=True, tol=0.001,\n",
            "    verbose=False)\n"
          ],
          "name": "stdout"
        }
      ]
    },
    {
      "cell_type": "code",
      "metadata": {
        "id": "i-mP0lOWLdzA",
        "colab_type": "code",
        "outputId": "eabffbe7-0df8-46d3-d9e0-ab0cec6cc06a",
        "colab": {
          "base_uri": "https://localhost:8080/",
          "height": 221
        }
      },
      "source": [
        "#STEP-7\n",
        "#creating LSTM model\n",
        "from keras.models import Sequential\n",
        "from keras.layers import Dense\n",
        "from keras.layers import LSTM\n",
        "\n",
        "model_lstm = Sequential()\n",
        "model_lstm.add(LSTM(50, activation='relu', input_shape=(1,X_train.shape[1])))\n",
        "model_lstm.add(Dense(1, activation='sigmoid'))\n",
        "model_lstm.compile(loss='binary_crossentropy', optimizer='adam', metrics=['accuracy'])\n",
        "model_lstm.summary()"
      ],
      "execution_count": 0,
      "outputs": [
        {
          "output_type": "stream",
          "text": [
            "Model: \"sequential_17\"\n",
            "_________________________________________________________________\n",
            "Layer (type)                 Output Shape              Param #   \n",
            "=================================================================\n",
            "lstm_5 (LSTM)                (None, 50)                16200     \n",
            "_________________________________________________________________\n",
            "dense_25 (Dense)             (None, 1)                 51        \n",
            "=================================================================\n",
            "Total params: 16,251\n",
            "Trainable params: 16,251\n",
            "Non-trainable params: 0\n",
            "_________________________________________________________________\n"
          ],
          "name": "stdout"
        }
      ]
    },
    {
      "cell_type": "code",
      "metadata": {
        "id": "doUgXzCZLxdM",
        "colab_type": "code",
        "outputId": "928ad3f9-8031-445a-95da-0d967e6258cf",
        "colab": {
          "base_uri": "https://localhost:8080/",
          "height": 289
        }
      },
      "source": [
        "#STEP-8\n",
        "#creating 2d CNN\n",
        "from keras.layers import Conv2D, Flatten\n",
        "\n",
        "model_2dcnn = Sequential()\n",
        "model_2dcnn.add(Conv2D(64, kernel_size=3, activation='relu', input_shape=(5,6,1)))\n",
        "model_2dcnn.add(Conv2D(32, kernel_size=3, activation='relu'))\n",
        "model_2dcnn.add(Flatten())\n",
        "model_2dcnn.add(Dense(1, activation='sigmoid'))\n",
        "model_2dcnn.compile(optimizer='adam', loss='binary_crossentropy', metrics=['accuracy'])\n",
        "model_2dcnn.summary()"
      ],
      "execution_count": 0,
      "outputs": [
        {
          "output_type": "stream",
          "text": [
            "Model: \"sequential_18\"\n",
            "_________________________________________________________________\n",
            "Layer (type)                 Output Shape              Param #   \n",
            "=================================================================\n",
            "conv2d_9 (Conv2D)            (None, 3, 4, 64)          640       \n",
            "_________________________________________________________________\n",
            "conv2d_10 (Conv2D)           (None, 1, 2, 32)          18464     \n",
            "_________________________________________________________________\n",
            "flatten_9 (Flatten)          (None, 64)                0         \n",
            "_________________________________________________________________\n",
            "dense_26 (Dense)             (None, 1)                 65        \n",
            "=================================================================\n",
            "Total params: 19,169\n",
            "Trainable params: 19,169\n",
            "Non-trainable params: 0\n",
            "_________________________________________________________________\n"
          ],
          "name": "stdout"
        }
      ]
    },
    {
      "cell_type": "code",
      "metadata": {
        "id": "fA6UdsrqMSNS",
        "colab_type": "code",
        "outputId": "b60ae010-61d7-4fe9-e98c-c44a851338d2",
        "colab": {
          "base_uri": "https://localhost:8080/",
          "height": 221
        }
      },
      "source": [
        "#STEP-9\n",
        "# creating simple neural network\n",
        "model_ann=Sequential()\n",
        "model_ann.add(Dense(64,input_shape=(X_train.shape[1],),activation='relu'))\n",
        "model_ann.add(Dense(1,activation='sigmoid'))\n",
        "model_ann.compile(loss='binary_crossentropy',optimizer='adam',metrics=['accuracy'])\n",
        "model_ann.summary()"
      ],
      "execution_count": 0,
      "outputs": [
        {
          "output_type": "stream",
          "text": [
            "Model: \"sequential_19\"\n",
            "_________________________________________________________________\n",
            "Layer (type)                 Output Shape              Param #   \n",
            "=================================================================\n",
            "dense_27 (Dense)             (None, 64)                1984      \n",
            "_________________________________________________________________\n",
            "dense_28 (Dense)             (None, 1)                 65        \n",
            "=================================================================\n",
            "Total params: 2,049\n",
            "Trainable params: 2,049\n",
            "Non-trainable params: 0\n",
            "_________________________________________________________________\n"
          ],
          "name": "stdout"
        }
      ]
    },
    {
      "cell_type": "code",
      "metadata": {
        "id": "h5qH6ueWPmrq",
        "colab_type": "code",
        "outputId": "40eafd68-4f2d-4287-e3b6-d6ce1655cb7c",
        "colab": {
          "base_uri": "https://localhost:8080/",
          "height": 717
        }
      },
      "source": [
        "#STEP-10\n",
        "#creating 1D CNN\n",
        "from keras.models import Sequential\n",
        "from keras.layers import Dense, Conv1D, Flatten, MaxPooling1D, Dropout\n",
        "\n",
        "model_1dcnn = Sequential()\n",
        "model_1dcnn.add(Conv1D(filters=64, kernel_size=1, activation='relu', input_shape=(1,X_train.shape[1])))\n",
        "model_1dcnn.add(Conv1D(filters=64, kernel_size=1, activation='relu'))\n",
        "model_1dcnn.add(Dropout(0.5))\n",
        "model_1dcnn.add(MaxPooling1D(pool_size=1))\n",
        "model_1dcnn.add(Flatten())\n",
        "model_1dcnn.add(Dense(100, activation='relu'))\n",
        "model_1dcnn.add(Dense(1, activation='sigmoid'))\n",
        "model_1dcnn.compile(optimizer='adam', loss='binary_crossentropy', metrics=['accuracy'])\n",
        "model_1dcnn.summary()"
      ],
      "execution_count": 0,
      "outputs": [
        {
          "output_type": "stream",
          "text": [
            "WARNING:tensorflow:From /usr/local/lib/python3.6/dist-packages/keras/backend/tensorflow_backend.py:541: The name tf.placeholder is deprecated. Please use tf.compat.v1.placeholder instead.\n",
            "\n",
            "WARNING:tensorflow:From /usr/local/lib/python3.6/dist-packages/keras/backend/tensorflow_backend.py:4432: The name tf.random_uniform is deprecated. Please use tf.random.uniform instead.\n",
            "\n",
            "WARNING:tensorflow:From /usr/local/lib/python3.6/dist-packages/keras/backend/tensorflow_backend.py:148: The name tf.placeholder_with_default is deprecated. Please use tf.compat.v1.placeholder_with_default instead.\n",
            "\n",
            "WARNING:tensorflow:From /usr/local/lib/python3.6/dist-packages/keras/backend/tensorflow_backend.py:3733: calling dropout (from tensorflow.python.ops.nn_ops) with keep_prob is deprecated and will be removed in a future version.\n",
            "Instructions for updating:\n",
            "Please use `rate` instead of `keep_prob`. Rate should be set to `rate = 1 - keep_prob`.\n",
            "WARNING:tensorflow:From /usr/local/lib/python3.6/dist-packages/keras/backend/tensorflow_backend.py:4267: The name tf.nn.max_pool is deprecated. Please use tf.nn.max_pool2d instead.\n",
            "\n",
            "WARNING:tensorflow:From /usr/local/lib/python3.6/dist-packages/keras/optimizers.py:793: The name tf.train.Optimizer is deprecated. Please use tf.compat.v1.train.Optimizer instead.\n",
            "\n",
            "WARNING:tensorflow:From /usr/local/lib/python3.6/dist-packages/keras/backend/tensorflow_backend.py:3657: The name tf.log is deprecated. Please use tf.math.log instead.\n",
            "\n",
            "WARNING:tensorflow:From /usr/local/lib/python3.6/dist-packages/tensorflow_core/python/ops/nn_impl.py:183: where (from tensorflow.python.ops.array_ops) is deprecated and will be removed in a future version.\n",
            "Instructions for updating:\n",
            "Use tf.where in 2.0, which has the same broadcast rule as np.where\n",
            "Model: \"sequential_2\"\n",
            "_________________________________________________________________\n",
            "Layer (type)                 Output Shape              Param #   \n",
            "=================================================================\n",
            "conv1d_1 (Conv1D)            (None, 1, 64)             1984      \n",
            "_________________________________________________________________\n",
            "conv1d_2 (Conv1D)            (None, 1, 64)             4160      \n",
            "_________________________________________________________________\n",
            "dropout_1 (Dropout)          (None, 1, 64)             0         \n",
            "_________________________________________________________________\n",
            "max_pooling1d_1 (MaxPooling1 (None, 1, 64)             0         \n",
            "_________________________________________________________________\n",
            "flatten_1 (Flatten)          (None, 64)                0         \n",
            "_________________________________________________________________\n",
            "dense_1 (Dense)              (None, 100)               6500      \n",
            "_________________________________________________________________\n",
            "dense_2 (Dense)              (None, 1)                 101       \n",
            "=================================================================\n",
            "Total params: 12,745\n",
            "Trainable params: 12,745\n",
            "Non-trainable params: 0\n",
            "_________________________________________________________________\n"
          ],
          "name": "stdout"
        }
      ]
    },
    {
      "cell_type": "code",
      "metadata": {
        "id": "q8QecELCMSYa",
        "colab_type": "code",
        "outputId": "23cf9210-c24d-473f-e633-f0087e136750",
        "colab": {
          "base_uri": "https://localhost:8080/",
          "height": 391
        }
      },
      "source": [
        "#STEP-11\n",
        "#fit LSTM\n",
        "model_lstm.fit(X_train.reshape(X_train.shape[0],1,X_train.shape[1]), y_train, validation_data=(X_val.reshape(X_val.shape[0],1,X_val.shape[1]), y_val), epochs=10)"
      ],
      "execution_count": 0,
      "outputs": [
        {
          "output_type": "stream",
          "text": [
            "Train on 219832 samples, validate on 54958 samples\n",
            "Epoch 1/10\n",
            "219832/219832 [==============================] - 37s 170us/step - loss: 0.0162 - acc: 0.9985 - val_loss: 0.0032 - val_acc: 0.9994\n",
            "Epoch 2/10\n",
            "219832/219832 [==============================] - 32s 145us/step - loss: 0.0027 - acc: 0.9995 - val_loss: 0.0035 - val_acc: 0.9993\n",
            "Epoch 3/10\n",
            "219832/219832 [==============================] - 31s 141us/step - loss: 0.0025 - acc: 0.9995 - val_loss: 0.0034 - val_acc: 0.9993\n",
            "Epoch 4/10\n",
            "219832/219832 [==============================] - 30s 138us/step - loss: 0.0022 - acc: 0.9995 - val_loss: 0.0033 - val_acc: 0.9994\n",
            "Epoch 5/10\n",
            "219832/219832 [==============================] - 32s 148us/step - loss: 0.0021 - acc: 0.9996 - val_loss: 0.0033 - val_acc: 0.9995\n",
            "Epoch 6/10\n",
            "219832/219832 [==============================] - 33s 149us/step - loss: 0.0020 - acc: 0.9996 - val_loss: 0.0036 - val_acc: 0.9993\n",
            "Epoch 7/10\n",
            "219832/219832 [==============================] - 32s 145us/step - loss: 0.0019 - acc: 0.9996 - val_loss: 0.0034 - val_acc: 0.9994\n",
            "Epoch 8/10\n",
            "219832/219832 [==============================] - 33s 151us/step - loss: 0.0018 - acc: 0.9996 - val_loss: 0.0037 - val_acc: 0.9994\n",
            "Epoch 9/10\n",
            "219832/219832 [==============================] - 32s 144us/step - loss: 0.0017 - acc: 0.9996 - val_loss: 0.0038 - val_acc: 0.9994\n",
            "Epoch 10/10\n",
            "219832/219832 [==============================] - 29s 132us/step - loss: 0.0016 - acc: 0.9996 - val_loss: 0.0038 - val_acc: 0.9994\n"
          ],
          "name": "stdout"
        },
        {
          "output_type": "execute_result",
          "data": {
            "text/plain": [
              "<keras.callbacks.History at 0x7ff63f7ba978>"
            ]
          },
          "metadata": {
            "tags": []
          },
          "execution_count": 168
        }
      ]
    },
    {
      "cell_type": "code",
      "metadata": {
        "id": "diDWB1b5MzKE",
        "colab_type": "code",
        "outputId": "f927b2bb-2b4e-45ca-b9e3-bbd978adb69c",
        "colab": {
          "base_uri": "https://localhost:8080/",
          "height": 391
        }
      },
      "source": [
        "#STEP-12\n",
        "#fiT 2D CNN\n",
        "model_2dcnn.fit(X_train.reshape(X_train.shape[0],5,6,1), y_train, validation_data=(X_val.reshape(X_val.shape[0],5,6,1), y_val), epochs=10)"
      ],
      "execution_count": 0,
      "outputs": [
        {
          "output_type": "stream",
          "text": [
            "Train on 219832 samples, validate on 54958 samples\n",
            "Epoch 1/10\n",
            "219832/219832 [==============================] - 30s 135us/step - loss: 0.0059 - acc: 0.9992 - val_loss: 0.0048 - val_acc: 0.9990\n",
            "Epoch 2/10\n",
            "219832/219832 [==============================] - 29s 130us/step - loss: 0.0033 - acc: 0.9994 - val_loss: 0.0037 - val_acc: 0.9994\n",
            "Epoch 3/10\n",
            "219832/219832 [==============================] - 29s 130us/step - loss: 0.0031 - acc: 0.9994 - val_loss: 0.0036 - val_acc: 0.9994\n",
            "Epoch 4/10\n",
            "219832/219832 [==============================] - 29s 132us/step - loss: 0.0030 - acc: 0.9994 - val_loss: 0.0034 - val_acc: 0.9993\n",
            "Epoch 5/10\n",
            "219832/219832 [==============================] - 31s 139us/step - loss: 0.0029 - acc: 0.9995 - val_loss: 0.0033 - val_acc: 0.9993\n",
            "Epoch 6/10\n",
            "219832/219832 [==============================] - 29s 134us/step - loss: 0.0029 - acc: 0.9994 - val_loss: 0.0045 - val_acc: 0.9993\n",
            "Epoch 7/10\n",
            "219832/219832 [==============================] - 32s 144us/step - loss: 0.0028 - acc: 0.9995 - val_loss: 0.0033 - val_acc: 0.9994\n",
            "Epoch 8/10\n",
            "219832/219832 [==============================] - 31s 139us/step - loss: 0.0026 - acc: 0.9995 - val_loss: 0.0038 - val_acc: 0.9994\n",
            "Epoch 9/10\n",
            "219832/219832 [==============================] - 30s 137us/step - loss: 0.0026 - acc: 0.9995 - val_loss: 0.0037 - val_acc: 0.9994\n",
            "Epoch 10/10\n",
            "219832/219832 [==============================] - 29s 133us/step - loss: 0.0024 - acc: 0.9995 - val_loss: 0.0036 - val_acc: 0.9995\n"
          ],
          "name": "stdout"
        },
        {
          "output_type": "execute_result",
          "data": {
            "text/plain": [
              "<keras.callbacks.History at 0x7ff63f26b978>"
            ]
          },
          "metadata": {
            "tags": []
          },
          "execution_count": 169
        }
      ]
    },
    {
      "cell_type": "code",
      "metadata": {
        "id": "GMvH92V1Nfjb",
        "colab_type": "code",
        "outputId": "9b718af6-dcfc-47af-ea47-215283993689",
        "colab": {
          "base_uri": "https://localhost:8080/",
          "height": 391
        }
      },
      "source": [
        "#STEP-13\n",
        "#fit simple neural network\n",
        "model_ann.fit(X_train, y_train, validation_data=(X_val, y_val), epochs=10)"
      ],
      "execution_count": 0,
      "outputs": [
        {
          "output_type": "stream",
          "text": [
            "Train on 219832 samples, validate on 54958 samples\n",
            "Epoch 1/10\n",
            "219832/219832 [==============================] - 16s 71us/step - loss: 0.0071 - acc: 0.9993 - val_loss: 0.0031 - val_acc: 0.9994\n",
            "Epoch 2/10\n",
            "219832/219832 [==============================] - 13s 59us/step - loss: 0.0029 - acc: 0.9994 - val_loss: 0.0031 - val_acc: 0.9993\n",
            "Epoch 3/10\n",
            "219832/219832 [==============================] - 13s 58us/step - loss: 0.0026 - acc: 0.9995 - val_loss: 0.0031 - val_acc: 0.9993\n",
            "Epoch 4/10\n",
            "219832/219832 [==============================] - 13s 59us/step - loss: 0.0024 - acc: 0.9995 - val_loss: 0.0031 - val_acc: 0.9994\n",
            "Epoch 5/10\n",
            "219832/219832 [==============================] - 13s 59us/step - loss: 0.0023 - acc: 0.9995 - val_loss: 0.0031 - val_acc: 0.9995\n",
            "Epoch 6/10\n",
            "219832/219832 [==============================] - 13s 59us/step - loss: 0.0021 - acc: 0.9995 - val_loss: 0.0031 - val_acc: 0.9995\n",
            "Epoch 7/10\n",
            "219832/219832 [==============================] - 13s 59us/step - loss: 0.0020 - acc: 0.9996 - val_loss: 0.0032 - val_acc: 0.9994\n",
            "Epoch 8/10\n",
            "219832/219832 [==============================] - 13s 57us/step - loss: 0.0020 - acc: 0.9996 - val_loss: 0.0035 - val_acc: 0.9995\n",
            "Epoch 9/10\n",
            "219832/219832 [==============================] - 13s 59us/step - loss: 0.0019 - acc: 0.9996 - val_loss: 0.0034 - val_acc: 0.9994\n",
            "Epoch 10/10\n",
            "219832/219832 [==============================] - 13s 60us/step - loss: 0.0017 - acc: 0.9996 - val_loss: 0.0038 - val_acc: 0.9993\n"
          ],
          "name": "stdout"
        },
        {
          "output_type": "execute_result",
          "data": {
            "text/plain": [
              "<keras.callbacks.History at 0x7ff63ff61400>"
            ]
          },
          "metadata": {
            "tags": []
          },
          "execution_count": 170
        }
      ]
    },
    {
      "cell_type": "code",
      "metadata": {
        "id": "6Pf2X0THdBuc",
        "colab_type": "code",
        "outputId": "11f9bdc4-75a7-48ad-d9cd-cba6dd0b7d7e",
        "colab": {
          "base_uri": "https://localhost:8080/",
          "height": 85
        }
      },
      "source": [
        "#STEP-14\n",
        "#fit SVM\n",
        "model_svm.fit(X_train, y_train)"
      ],
      "execution_count": 0,
      "outputs": [
        {
          "output_type": "execute_result",
          "data": {
            "text/plain": [
              "SVC(C=1.0, break_ties=False, cache_size=200, class_weight=None, coef0=0.0,\n",
              "    decision_function_shape='ovr', degree=3, gamma='scale', kernel='rbf',\n",
              "    max_iter=-1, probability=True, random_state=None, shrinking=True, tol=0.001,\n",
              "    verbose=False)"
            ]
          },
          "metadata": {
            "tags": []
          },
          "execution_count": 171
        }
      ]
    },
    {
      "cell_type": "code",
      "metadata": {
        "id": "CspNQXUOeWlD",
        "colab_type": "code",
        "outputId": "1e520c69-e48e-4d51-b1cb-9ec70e1fca28",
        "colab": {
          "base_uri": "https://localhost:8080/",
          "height": 153
        }
      },
      "source": [
        "#STEP-15\n",
        "#fit RF\n",
        "model_rf.fit(X_train,y_train)"
      ],
      "execution_count": 0,
      "outputs": [
        {
          "output_type": "execute_result",
          "data": {
            "text/plain": [
              "RandomForestClassifier(bootstrap=True, ccp_alpha=0.0, class_weight=None,\n",
              "                       criterion='gini', max_depth=None, max_features='auto',\n",
              "                       max_leaf_nodes=None, max_samples=None,\n",
              "                       min_impurity_decrease=0.0, min_impurity_split=None,\n",
              "                       min_samples_leaf=1, min_samples_split=2,\n",
              "                       min_weight_fraction_leaf=0.0, n_estimators=100,\n",
              "                       n_jobs=None, oob_score=False, random_state=None,\n",
              "                       verbose=0, warm_start=False)"
            ]
          },
          "metadata": {
            "tags": []
          },
          "execution_count": 172
        }
      ]
    },
    {
      "cell_type": "code",
      "metadata": {
        "id": "vASOCxuGQeHR",
        "colab_type": "code",
        "outputId": "976058b0-c66a-439c-cca7-01c5c93c2b1f",
        "colab": {
          "base_uri": "https://localhost:8080/",
          "height": 391
        }
      },
      "source": [
        "#STEP-16\n",
        "# fit 1D CNN\n",
        "model_1dcnn.fit(X_train.reshape(X_train.shape[0],1,X_train.shape[1]), y_train, validation_data=(X_val.reshape(X_val.shape[0],1,X_val.shape[1]), y_val), epochs=10)"
      ],
      "execution_count": 0,
      "outputs": [
        {
          "output_type": "stream",
          "text": [
            "Train on 219832 samples, validate on 54958 samples\n",
            "Epoch 1/10\n",
            "219832/219832 [==============================] - 19s 84us/step - loss: 0.0082 - acc: 0.9983 - val_loss: 0.0041 - val_acc: 0.9994\n",
            "Epoch 2/10\n",
            "219832/219832 [==============================] - 16s 74us/step - loss: 0.0034 - acc: 0.9994 - val_loss: 0.0038 - val_acc: 0.9994\n",
            "Epoch 3/10\n",
            "219832/219832 [==============================] - 17s 76us/step - loss: 0.0032 - acc: 0.9994 - val_loss: 0.0046 - val_acc: 0.9994\n",
            "Epoch 4/10\n",
            "219832/219832 [==============================] - 17s 77us/step - loss: 0.0029 - acc: 0.9994 - val_loss: 0.0048 - val_acc: 0.9989\n",
            "Epoch 5/10\n",
            "219832/219832 [==============================] - 17s 79us/step - loss: 0.0029 - acc: 0.9994 - val_loss: 0.0043 - val_acc: 0.9994\n",
            "Epoch 6/10\n",
            "219832/219832 [==============================] - 17s 79us/step - loss: 0.0026 - acc: 0.9995 - val_loss: 0.0054 - val_acc: 0.9994\n",
            "Epoch 7/10\n",
            "219832/219832 [==============================] - 18s 80us/step - loss: 0.0028 - acc: 0.9995 - val_loss: 0.0056 - val_acc: 0.9991\n",
            "Epoch 8/10\n",
            "219832/219832 [==============================] - 17s 77us/step - loss: 0.0026 - acc: 0.9995 - val_loss: 0.0058 - val_acc: 0.9993\n",
            "Epoch 9/10\n",
            "219832/219832 [==============================] - 17s 76us/step - loss: 0.0025 - acc: 0.9995 - val_loss: 0.0058 - val_acc: 0.9993\n",
            "Epoch 10/10\n",
            "219832/219832 [==============================] - 17s 77us/step - loss: 0.0023 - acc: 0.9995 - val_loss: 0.0059 - val_acc: 0.9993\n"
          ],
          "name": "stdout"
        },
        {
          "output_type": "execute_result",
          "data": {
            "text/plain": [
              "<keras.callbacks.History at 0x7ff63ef7b898>"
            ]
          },
          "metadata": {
            "tags": []
          },
          "execution_count": 173
        }
      ]
    },
    {
      "cell_type": "code",
      "metadata": {
        "id": "ZvCn1nH6O_KE",
        "colab_type": "code",
        "outputId": "adfc01d0-7ce9-4b8b-aeca-c446abf7b40e",
        "colab": {
          "base_uri": "https://localhost:8080/",
          "height": 34
        }
      },
      "source": [
        "from sklearn import metrics\n",
        "y_probs = model_ann.predict(X_test, verbose=0)[:, 0]\n",
        "auc = metrics.roc_auc_score(y_test, y_probs)\n",
        "print(y_probs.shape)"
      ],
      "execution_count": 0,
      "outputs": [
        {
          "output_type": "stream",
          "text": [
            "(10017,)\n"
          ],
          "name": "stdout"
        }
      ]
    },
    {
      "cell_type": "code",
      "metadata": {
        "id": "nI_JpBNBTtc0",
        "colab_type": "code",
        "outputId": "4a8302ae-99e7-479e-853e-9399ba66c914",
        "colab": {
          "base_uri": "https://localhost:8080/",
          "height": 136
        }
      },
      "source": [
        "y_probs=model_rf.predict_proba(X_test)\n",
        "print(y_probs)"
      ],
      "execution_count": 0,
      "outputs": [
        {
          "output_type": "stream",
          "text": [
            "[[1.   0.  ]\n",
            " [1.   0.  ]\n",
            " [1.   0.  ]\n",
            " ...\n",
            " [0.12 0.88]\n",
            " [0.02 0.98]\n",
            " [0.01 0.99]]\n"
          ],
          "name": "stdout"
        }
      ]
    },
    {
      "cell_type": "code",
      "metadata": {
        "id": "i72MrFDvSZgN",
        "colab_type": "code",
        "outputId": "074ed376-3cbb-4e29-89d1-af49e846ec4e",
        "colab": {
          "base_uri": "https://localhost:8080/",
          "height": 340
        }
      },
      "source": [
        "from sklearn import metrics\n",
        "X=X_test\n",
        "y=y_test\n",
        "y_probs=model_lstm.predict(X.reshape(X.shape[0],1,X.shape[1]))[:, 0].reshape(X.shape[0],1)\n",
        "y_probs=np.append(y_probs,model_2dcnn.predict(X.reshape(X.shape[0],5,6,1))[:, 0].reshape(X.shape[0],1),axis=1)\n",
        "y_probs=np.append(y_probs,model_ann.predict(X)[:, 0].reshape(X.shape[0],1),axis=1)\n",
        "y_probs=np.append(y_probs,model_rf.predict_proba(X)[:, 0].reshape(X.shape[0],1),axis=1)\n",
        "y_probs=np.append(y_probs,model_1dcnn.predict(X.reshape(X.shape[0],1,X.shape[1]))[:, 0].reshape(X.shape[0],1),axis=1)\n",
        "y_probs=np.append(y_probs,model_svm.predict_proba(X)[:, 0].reshape(X.shape[0],1),axis=1)\n",
        "\n",
        "print(y_probs.shape)\n",
        "\n",
        "header=['LSTM','2DCNN','ANN','RF','1DCNN','SVM']\n",
        "\n",
        "for x in range (len(y_probs[0])):\n",
        "  print(header[x])\n",
        "  print(\"ROC-AUC: \"+\"{:.2%}\".format(metrics.roc_auc_score(y, y_probs[:,x])))\n",
        "  print(\"-----------\")"
      ],
      "execution_count": 0,
      "outputs": [
        {
          "output_type": "stream",
          "text": [
            "(10017, 6)\n",
            "LSTM\n",
            "ROC-AUC: 94.64%\n",
            "-----------\n",
            "2DCNN\n",
            "ROC-AUC: 98.32%\n",
            "-----------\n",
            "ANN\n",
            "ROC-AUC: 98.46%\n",
            "-----------\n",
            "RF\n",
            "ROC-AUC: 6.05%\n",
            "-----------\n",
            "1DCNN\n",
            "ROC-AUC: 95.32%\n",
            "-----------\n",
            "SVM\n",
            "ROC-AUC: 7.98%\n",
            "-----------\n"
          ],
          "name": "stdout"
        }
      ]
    },
    {
      "cell_type": "code",
      "metadata": {
        "id": "2XvnyOsROSy_",
        "colab_type": "code",
        "outputId": "a9c52c5d-b680-4cb1-b57c-b08c1d7e8985",
        "colab": {
          "base_uri": "https://localhost:8080/",
          "height": 850
        }
      },
      "source": [
        "#STEP-17\n",
        "# performance on validation dataset\n",
        "from sklearn import metrics\n",
        "X=X_val\n",
        "y=y_val\n",
        "y_pred=model_lstm.predict_classes(X.reshape(X.shape[0],1,X.shape[1]))\n",
        "y_pred=np.append(y_pred,model_2dcnn.predict_classes(X.reshape(X.shape[0],5,6,1)),axis=1)\n",
        "y_pred=np.append(y_pred,model_ann.predict_classes(X),axis=1)\n",
        "y_pred=np.append(y_pred,model_rf.predict(X).reshape(X.shape[0],1),axis=1)\n",
        "y_pred=np.append(y_pred,model_1dcnn.predict_classes(X.reshape(X.shape[0],1,X.shape[1])),axis=1)\n",
        "y_pred=np.append(y_pred,model_svm.predict(X).reshape(X.shape[0],1),axis=1)\n",
        "\n",
        "print(y_pred.shape)\n",
        "\n",
        "header=['LSTM','2DCNN','ANN','RF','1DCNN','SVM']\n",
        "\n",
        "for x in range (len(y_pred[0])):\n",
        "  print(header[x])\n",
        "  print(\"Accuracy: \"+\"{:.2%}\".format(metrics.accuracy_score(y, y_pred[:,x])))\n",
        "  print(\"Precision: \"+\"{:.2%}\".format(metrics.precision_score(y, y_pred[:,x])))\n",
        "  print(\"Recall: \"+\"{:.2%}\".format(metrics.recall_score(y, y_pred[:,x])))\n",
        "  print(\"F1: \"+\"{:.2%}\".format(metrics.f1_score(y,y_pred[:,x])))\n",
        "  print(metrics.confusion_matrix(y,y_pred[:,x]))\n",
        "  print(\"-----------\")"
      ],
      "execution_count": 0,
      "outputs": [
        {
          "output_type": "stream",
          "text": [
            "(54958, 6)\n",
            "LSTM\n",
            "Accuracy: 99.94%\n",
            "Precision: 84.34%\n",
            "Recall: 78.65%\n",
            "F1: 81.40%\n",
            "[[54856    13]\n",
            " [   19    70]]\n",
            "-----------\n",
            "2DCNN\n",
            "Accuracy: 99.96%\n",
            "Precision: 93.33%\n",
            "Recall: 78.65%\n",
            "F1: 85.37%\n",
            "[[54864     5]\n",
            " [   19    70]]\n",
            "-----------\n",
            "ANN\n",
            "Accuracy: 99.95%\n",
            "Precision: 88.75%\n",
            "Recall: 79.78%\n",
            "F1: 84.02%\n",
            "[[54860     9]\n",
            " [   18    71]]\n",
            "-----------\n",
            "RF\n",
            "Accuracy: 99.95%\n",
            "Precision: 92.96%\n",
            "Recall: 74.16%\n",
            "F1: 82.50%\n",
            "[[54864     5]\n",
            " [   23    66]]\n",
            "-----------\n",
            "1DCNN\n",
            "Accuracy: 99.94%\n",
            "Precision: 81.82%\n",
            "Recall: 80.90%\n",
            "F1: 81.36%\n",
            "[[54853    16]\n",
            " [   17    72]]\n",
            "-----------\n",
            "SVM\n",
            "Accuracy: 99.94%\n",
            "Precision: 96.77%\n",
            "Recall: 67.42%\n",
            "F1: 79.47%\n",
            "[[54867     2]\n",
            " [   29    60]]\n",
            "-----------\n"
          ],
          "name": "stdout"
        }
      ]
    },
    {
      "cell_type": "code",
      "metadata": {
        "id": "oR3UQbA5qH2b",
        "colab_type": "code",
        "outputId": "ee8c37d6-e549-444b-e932-57c3697ed76d",
        "colab": {
          "resources": {
            "http://localhost:8080/nbextensions/google.colab/files.js": {
              "data": "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",
              "ok": true,
              "headers": [
                [
                  "content-type",
                  "application/javascript"
                ]
              ],
              "status": 200,
              "status_text": ""
            }
          },
          "base_uri": "https://localhost:8080/",
          "height": 71
        }
      },
      "source": [
        "# use this block to upload score file from local computer\n",
        "uploaded2 = files.upload()"
      ],
      "execution_count": 0,
      "outputs": [
        {
          "output_type": "display_data",
          "data": {
            "text/html": [
              "\n",
              "     <input type=\"file\" id=\"files-b897ad0b-5052-4956-8b00-99c1df5bef8c\" name=\"files[]\" multiple disabled />\n",
              "     <output id=\"result-b897ad0b-5052-4956-8b00-99c1df5bef8c\">\n",
              "      Upload widget is only available when the cell has been executed in the\n",
              "      current browser session. Please rerun this cell to enable.\n",
              "      </output>\n",
              "      <script src=\"/nbextensions/google.colab/files.js\"></script> "
            ],
            "text/plain": [
              "<IPython.core.display.HTML object>"
            ]
          },
          "metadata": {
            "tags": []
          }
        },
        {
          "output_type": "stream",
          "text": [
            "Saving score_val.csv to score_val (3).csv\n"
          ],
          "name": "stdout"
        }
      ]
    },
    {
      "cell_type": "code",
      "metadata": {
        "id": "2FBUM_szvxg9",
        "colab_type": "code",
        "outputId": "53d088c8-689a-4a31-fe4b-90e159074918",
        "colab": {
          "base_uri": "https://localhost:8080/",
          "height": 425
        }
      },
      "source": [
        "#STEP-18\n",
        "# use this block to read uploaded file for google colaboratory\n",
        "df1 = pd.read_csv(io.BytesIO(uploaded2['score_test.csv']),names=[\"Classifier\", \"Ratio\", \"Accuracy\", \"Precision\", \"Recall\",\"F1\"])\n",
        "score=df1.to_numpy()\n",
        "print(score)"
      ],
      "execution_count": 0,
      "outputs": [
        {
          "output_type": "stream",
          "text": [
            "[['LSTM' 1.0 99.95 87.5 82.35 84.85]\n",
            " ['2DCNN' 1.0 99.93 77.78 82.35 80.0]\n",
            " ['ANN' 1.0 99.94 86.67 76.47 81.25]\n",
            " ['RF' 1.0 99.93 81.25 76.47 78.79]\n",
            " ['1DCNN' 1.0 99.93 81.25 76.47 78.79]\n",
            " ['SVM' 1.0 99.94 92.31 70.59 80.0]\n",
            " ['LSTM' 0.0 99.95 92.86 76.47 83.87]\n",
            " ['2DCNN' 0.0 99.95 92.86 76.47 83.87]\n",
            " ['ANN' 0.0 99.96 100.0 76.47 86.67]\n",
            " ['RF' 0.0 99.96 93.33 82.35 87.5]\n",
            " ['1DCNN' 0.0 99.94 86.67 76.47 81.25]\n",
            " ['SVM' 0.0 99.92 100.0 52.94 69.23]\n",
            " ['LSTM' 0.0 99.93 85.71 70.59 77.42]\n",
            " ['2DCNN' 0.0 99.94 92.31 70.59 80.0]\n",
            " ['ANN' 0.0 99.94 92.31 70.59 80.0]\n",
            " ['RF' 0.0 99.93 100.0 58.82 74.07]\n",
            " ['1DCNN' 0.0 99.93 85.71 70.59 77.42]\n",
            " ['SVM' 0.0 99.92 90.91 58.82 71.43]\n",
            " ['LSTM' 0.0 99.97 100.0 82.35 90.32]\n",
            " ['2DCNN' 0.0 99.94 82.35 82.35 82.35]\n",
            " ['ANN' 0.0 99.97 100.0 82.35 90.32]\n",
            " ['RF' 0.0 99.96 93.33 82.35 87.5]\n",
            " ['1DCNN' 0.0 99.95 83.33 88.24 85.71]\n",
            " ['SVM' 0.0 99.92 90.91 58.82 71.43]]\n"
          ],
          "name": "stdout"
        }
      ]
    },
    {
      "cell_type": "code",
      "metadata": {
        "id": "qIihWIg-jQHl",
        "colab_type": "code",
        "outputId": "dbc1c003-abdd-4110-e4ab-aaa99cfebcec",
        "colab": {
          "base_uri": "https://localhost:8080/",
          "height": 425
        }
      },
      "source": [
        "#STEP-18\n",
        "# use this block to read uploaded file for google colaboratory\n",
        "df1 = pd.read_csv(io.BytesIO(uploaded2['score_val.csv']),names=[\"Classifier\", \"Ratio\", \"Accuracy\", \"Precision\", \"Recall\",\"F1\"])\n",
        "score=df1.to_numpy()\n",
        "print(score)"
      ],
      "execution_count": 0,
      "outputs": [
        {
          "output_type": "stream",
          "text": [
            "[['LSTM' 1.0 99.94 90.0 75.7 82.23]\n",
            " ['2DCNN' 1.0 99.94 87.63 79.44 83.33]\n",
            " ['ANN' 1.0 99.93 92.68 71.03 80.42]\n",
            " ['RF' 1.0 99.94 92.22 77.57 84.26]\n",
            " ['1DCNN' 1.0 99.93 86.6 78.5 82.35]\n",
            " ['SVM' 1.0 99.92 92.96 61.68 74.16]\n",
            " ['LSTM' 0.0 99.96 90.8 85.87 88.27]\n",
            " ['2DCNN' 0.0 99.97 98.73 84.78 91.23]\n",
            " ['ANN' 0.0 99.97 96.2 82.61 88.89]\n",
            " ['RF' 0.0 99.97 98.7 82.61 89.94]\n",
            " ['1DCNN' 0.0 99.96 87.78 85.87 86.81]\n",
            " ['SVM' 0.0 99.96 100.0 73.91 85.0]\n",
            " ['LSTM' 0.0 99.93 79.8 81.44 80.61]\n",
            " ['2DCNN' 0.0 99.92 74.53 81.44 77.83]\n",
            " ['ANN' 0.0 99.93 82.61 78.35 80.42]\n",
            " ['RF' 0.0 99.95 88.89 82.47 85.56]\n",
            " ['1DCNN' 0.0 99.94 92.21 73.2 81.61]\n",
            " ['SVM' 0.0 99.93 89.19 68.04 77.19]\n",
            " ['LSTM' 0.0 99.95 98.7 75.25 85.39]\n",
            " ['2DCNN' 0.0 99.96 96.43 80.2 87.57]\n",
            " ['ANN' 0.0 99.93 94.44 67.33 78.61]\n",
            " ['RF' 0.0 99.95 96.3 77.23 85.71]\n",
            " ['1DCNN' 0.0 99.95 97.33 72.28 82.95]\n",
            " ['SVM' 0.0 99.94 97.22 69.31 80.92]]\n"
          ],
          "name": "stdout"
        }
      ]
    },
    {
      "cell_type": "code",
      "metadata": {
        "id": "JStWp2Q2rsZp",
        "colab_type": "code",
        "colab": {}
      },
      "source": [
        "#STEP-18\n",
        "#use this block to read score file locally\n",
        "#create an empty score.csv file to save classifier results\n",
        "df1 = pd.read_csv('score.csv',names=[\"Classifier\", \"Ratio\", \"Accuracy\", \"Precision\", \"Recall\",\"F1\"])\n",
        "score=df1.to_numpy()\n",
        "print(score)"
      ],
      "execution_count": 0,
      "outputs": []
    },
    {
      "cell_type": "code",
      "metadata": {
        "id": "p0inFNDVYNr0",
        "colab_type": "code",
        "outputId": "ee126e72-f8b7-4aec-bd3e-1c60127b73c6",
        "colab": {
          "base_uri": "https://localhost:8080/",
          "height": 1000
        }
      },
      "source": [
        "#STEP-19\n",
        "#performance on test dataset\n",
        "X=X_val\n",
        "y=y_val\n",
        "y_pred=model_lstm.predict_classes(X.reshape(X.shape[0],1,X.shape[1]))\n",
        "y_pred=np.append(y_pred,model_2dcnn.predict_classes(X.reshape(X.shape[0],5,6,1)),axis=1)\n",
        "y_pred=np.append(y_pred,model_ann.predict_classes(X),axis=1)\n",
        "y_pred=np.append(y_pred,model_rf.predict(X).reshape(X.shape[0],1),axis=1)\n",
        "y_pred=np.append(y_pred,model_1dcnn.predict_classes(X.reshape(X.shape[0],1,X.shape[1])),axis=1)\n",
        "y_pred=np.append(y_pred,model_svm.predict(X).reshape(X.shape[0],1),axis=1)\n",
        "print(y_pred.shape)\n",
        "\n",
        "header=['LSTM','2DCNN','ANN','RF','1DCNN','SVM']\n",
        "\n",
        "for x in range (len(y_pred[0])):\n",
        "  score_row=header[x]\n",
        "  print(header[x])\n",
        "  score_row=np.append(score_row,np.round(ratio,2))\n",
        "  print(ratio)\n",
        "  score_row=np.append(score_row, np.round(metrics.accuracy_score(y, y_pred[:,x])*100,2))\n",
        "  print(\"Accuracy: \"+\"{:.2%}\".format(metrics.accuracy_score(y, y_pred[:,x])))\n",
        "  score_row=np.append(score_row, np.round(metrics.precision_score(y, y_pred[:,x])*100,2))\n",
        "  print(\"Precision: \"+\"{:.2%}\".format(metrics.precision_score(y, y_pred[:,x])))\n",
        "  score_row=np.append(score_row, np.round(metrics.recall_score(y, y_pred[:,x])*100,2))\n",
        "  print(\"Recall: \"+\"{:.2%}\".format(metrics.recall_score(y, y_pred[:,x])))\n",
        "  score_row=np.append(score_row, np.round(metrics.f1_score(y,y_pred[:,x])*100,2))\n",
        "  print(\"F1: \"+\"{:.2%}\".format(metrics.f1_score(y,y_pred[:,x])))\n",
        "  print(metrics.confusion_matrix(y,y_pred[:,x]))\n",
        "  print(score_row)\n",
        "  print(score_row.shape)\n",
        "  print(\"-----------\")\n",
        "  score=np.vstack((score,score_row))"
      ],
      "execution_count": 0,
      "outputs": [
        {
          "output_type": "stream",
          "text": [
            "(54958, 6)\n",
            "LSTM\n",
            "0.0017315859504584146\n",
            "Accuracy: 99.94%\n",
            "Precision: 84.34%\n",
            "Recall: 78.65%\n",
            "F1: 81.40%\n",
            "[[54856    13]\n",
            " [   19    70]]\n",
            "['LSTM' '0.0' '99.94' '84.34' '78.65' '81.4']\n",
            "(6,)\n",
            "-----------\n",
            "2DCNN\n",
            "0.0017315859504584146\n",
            "Accuracy: 99.96%\n",
            "Precision: 93.33%\n",
            "Recall: 78.65%\n",
            "F1: 85.37%\n",
            "[[54864     5]\n",
            " [   19    70]]\n",
            "['2DCNN' '0.0' '99.96' '93.33' '78.65' '85.37']\n",
            "(6,)\n",
            "-----------\n",
            "ANN\n",
            "0.0017315859504584146\n",
            "Accuracy: 99.95%\n",
            "Precision: 88.75%\n",
            "Recall: 79.78%\n",
            "F1: 84.02%\n",
            "[[54860     9]\n",
            " [   18    71]]\n",
            "['ANN' '0.0' '99.95' '88.75' '79.78' '84.02']\n",
            "(6,)\n",
            "-----------\n",
            "RF\n",
            "0.0017315859504584146\n",
            "Accuracy: 99.95%\n",
            "Precision: 92.96%\n",
            "Recall: 74.16%\n",
            "F1: 82.50%\n",
            "[[54864     5]\n",
            " [   23    66]]\n",
            "['RF' '0.0' '99.95' '92.96' '74.16' '82.5']\n",
            "(6,)\n",
            "-----------\n",
            "1DCNN\n",
            "0.0017315859504584146\n",
            "Accuracy: 99.94%\n",
            "Precision: 81.82%\n",
            "Recall: 80.90%\n",
            "F1: 81.36%\n",
            "[[54853    16]\n",
            " [   17    72]]\n",
            "['1DCNN' '0.0' '99.94' '81.82' '80.9' '81.36']\n",
            "(6,)\n",
            "-----------\n",
            "SVM\n",
            "0.0017315859504584146\n",
            "Accuracy: 99.94%\n",
            "Precision: 96.77%\n",
            "Recall: 67.42%\n",
            "F1: 79.47%\n",
            "[[54867     2]\n",
            " [   29    60]]\n",
            "['SVM' '0.0' '99.94' '96.77' '67.42' '79.47']\n",
            "(6,)\n",
            "-----------\n"
          ],
          "name": "stdout"
        }
      ]
    },
    {
      "cell_type": "code",
      "metadata": {
        "id": "afe1IEeUpygY",
        "colab_type": "code",
        "outputId": "bd1d2193-1a6a-4307-b75d-931ebae91566",
        "colab": {
          "base_uri": "https://localhost:8080/",
          "height": 527
        }
      },
      "source": [
        "print(score)"
      ],
      "execution_count": 0,
      "outputs": [
        {
          "output_type": "stream",
          "text": [
            "[['LSTM' 1.0 99.94 90.0 75.7 82.23]\n",
            " ['2DCNN' 1.0 99.94 87.63 79.44 83.33]\n",
            " ['ANN' 1.0 99.93 92.68 71.03 80.42]\n",
            " ['RF' 1.0 99.94 92.22 77.57 84.26]\n",
            " ['1DCNN' 1.0 99.93 86.6 78.5 82.35]\n",
            " ['SVM' 1.0 99.92 92.96 61.68 74.16]\n",
            " ['LSTM' 0.0 99.96 90.8 85.87 88.27]\n",
            " ['2DCNN' 0.0 99.97 98.73 84.78 91.23]\n",
            " ['ANN' 0.0 99.97 96.2 82.61 88.89]\n",
            " ['RF' 0.0 99.97 98.7 82.61 89.94]\n",
            " ['1DCNN' 0.0 99.96 87.78 85.87 86.81]\n",
            " ['SVM' 0.0 99.96 100.0 73.91 85.0]\n",
            " ['LSTM' 0.0 99.93 79.8 81.44 80.61]\n",
            " ['2DCNN' 0.0 99.92 74.53 81.44 77.83]\n",
            " ['ANN' 0.0 99.93 82.61 78.35 80.42]\n",
            " ['RF' 0.0 99.95 88.89 82.47 85.56]\n",
            " ['1DCNN' 0.0 99.94 92.21 73.2 81.61]\n",
            " ['SVM' 0.0 99.93 89.19 68.04 77.19]\n",
            " ['LSTM' 0.0 99.95 98.7 75.25 85.39]\n",
            " ['2DCNN' 0.0 99.96 96.43 80.2 87.57]\n",
            " ['ANN' 0.0 99.93 94.44 67.33 78.61]\n",
            " ['RF' 0.0 99.95 96.3 77.23 85.71]\n",
            " ['1DCNN' 0.0 99.95 97.33 72.28 82.95]\n",
            " ['SVM' 0.0 99.94 97.22 69.31 80.92]\n",
            " ['LSTM' '0.0' '99.94' '84.34' '78.65' '81.4']\n",
            " ['2DCNN' '0.0' '99.96' '93.33' '78.65' '85.37']\n",
            " ['ANN' '0.0' '99.95' '88.75' '79.78' '84.02']\n",
            " ['RF' '0.0' '99.95' '92.96' '74.16' '82.5']\n",
            " ['1DCNN' '0.0' '99.94' '81.82' '80.9' '81.36']\n",
            " ['SVM' '0.0' '99.94' '96.77' '67.42' '79.47']]\n"
          ],
          "name": "stdout"
        }
      ]
    },
    {
      "cell_type": "code",
      "metadata": {
        "id": "FUKlcdIj6b-R",
        "colab_type": "code",
        "colab": {}
      },
      "source": [
        "#use this to write results on score.csv while using google colab\n",
        "pd.DataFrame(score).to_csv(\"score_test.csv\",header=None, index=None)\n",
        "files.download(\"score_test.csv\")"
      ],
      "execution_count": 0,
      "outputs": []
    },
    {
      "cell_type": "code",
      "metadata": {
        "id": "3n7Tg_MWjqWA",
        "colab_type": "code",
        "colab": {}
      },
      "source": [
        "#use this to write results on score.csv while using google colab\n",
        "pd.DataFrame(score).to_csv(\"score_val.csv\",header=None, index=None)\n",
        "files.download(\"score_val.csv\")"
      ],
      "execution_count": 0,
      "outputs": []
    },
    {
      "cell_type": "code",
      "metadata": {
        "id": "WthMuLtwsSLE",
        "colab_type": "code",
        "colab": {}
      },
      "source": [
        "#STEP-20\n",
        "#write results onto the score.csv file\n",
        "#use this block if running locally\n",
        "pd.DataFrame(score).to_csv(\"score.csv\",header=None, index=None)"
      ],
      "execution_count": 0,
      "outputs": []
    },
    {
      "cell_type": "code",
      "metadata": {
        "id": "70FXRq0bt47s",
        "colab_type": "code",
        "outputId": "3f6653b9-7db9-4f79-b9ae-ea7e09dfcc5b",
        "colab": {
          "base_uri": "https://localhost:8080/",
          "height": 34
        }
      },
      "source": [
        "import tensorflow as tf\n",
        "tf.__version__"
      ],
      "execution_count": 0,
      "outputs": [
        {
          "output_type": "execute_result",
          "data": {
            "text/plain": [
              "'1.15.0'"
            ]
          },
          "metadata": {
            "tags": []
          },
          "execution_count": 150
        }
      ]
    },
    {
      "cell_type": "code",
      "metadata": {
        "id": "jH19CMTnurPV",
        "colab_type": "code",
        "outputId": "3e8e0280-e17a-43b1-a2c4-7d91f30ec480",
        "colab": {
          "base_uri": "https://localhost:8080/",
          "height": 34
        }
      },
      "source": [
        "import keras\n",
        "print(keras.__version__)"
      ],
      "execution_count": 0,
      "outputs": [
        {
          "output_type": "stream",
          "text": [
            "2.2.5\n"
          ],
          "name": "stdout"
        }
      ]
    },
    {
      "cell_type": "code",
      "metadata": {
        "id": "MnuYggB-u6jg",
        "colab_type": "code",
        "outputId": "25d8a98e-09fb-47f9-9685-53c34aa48d9f",
        "colab": {
          "base_uri": "https://localhost:8080/",
          "height": 34
        }
      },
      "source": [
        "import sys\n",
        "sys.version"
      ],
      "execution_count": 0,
      "outputs": [
        {
          "output_type": "execute_result",
          "data": {
            "text/plain": [
              "'3.6.9 (default, Nov  7 2019, 10:44:02) \\n[GCC 8.3.0]'"
            ]
          },
          "metadata": {
            "tags": []
          },
          "execution_count": 152
        }
      ]
    }
  ]
}