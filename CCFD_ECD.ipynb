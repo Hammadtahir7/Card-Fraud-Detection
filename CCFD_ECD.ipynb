{
  "nbformat": 4,
  "nbformat_minor": 0,
  "metadata": {
    "colab": {
      "name": "CCFD_ECD.ipynb",
      "provenance": [],
      "collapsed_sections": [],
      "authorship_tag": "ABX9TyO+IfMapAhcPdyTZOi9c/RF",
      "include_colab_link": true
    },
    "kernelspec": {
      "name": "python3",
      "display_name": "Python 3"
    }
  },
  "cells": [
    {
      "cell_type": "markdown",
      "metadata": {
        "id": "view-in-github",
        "colab_type": "text"
      },
      "source": [
        "<a href=\"https://colab.research.google.com/github/Hammadtahir7/Card-Fraud-Detection/blob/master/CCFD_ECD.ipynb\" target=\"_parent\"><img src=\"https://colab.research.google.com/assets/colab-badge.svg\" alt=\"Open In Colab\"/></a>"
      ]
    },
    {
      "cell_type": "code",
      "metadata": {
        "id": "r8VWUeTfKlqV",
        "colab_type": "code",
        "outputId": "8fa0280e-6eba-4d93-bbfd-165f02c6c799",
        "colab": {
          "resources": {
            "http://localhost:8080/nbextensions/google.colab/files.js": {
              "data": "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",
              "ok": true,
              "headers": [
                [
                  "content-type",
                  "application/javascript"
                ]
              ],
              "status": 200,
              "status_text": ""
            }
          },
          "base_uri": "https://localhost:8080/",
          "height": 71
        }
      },
      "source": [
        "from google.colab import files\n",
        "uploaded = files.upload()"
      ],
      "execution_count": 1,
      "outputs": [
        {
          "output_type": "display_data",
          "data": {
            "text/html": [
              "\n",
              "     <input type=\"file\" id=\"files-99cb6d5e-552c-42e1-b988-f644a38d605b\" name=\"files[]\" multiple disabled />\n",
              "     <output id=\"result-99cb6d5e-552c-42e1-b988-f644a38d605b\">\n",
              "      Upload widget is only available when the cell has been executed in the\n",
              "      current browser session. Please rerun this cell to enable.\n",
              "      </output>\n",
              "      <script src=\"/nbextensions/google.colab/files.js\"></script> "
            ],
            "text/plain": [
              "<IPython.core.display.HTML object>"
            ]
          },
          "metadata": {
            "tags": []
          }
        },
        {
          "output_type": "stream",
          "text": [
            "Saving ECD.csv to ECD.csv\n"
          ],
          "name": "stdout"
        }
      ]
    },
    {
      "cell_type": "code",
      "metadata": {
        "id": "BnH32lIwLCjS",
        "colab_type": "code",
        "outputId": "47444a1b-c0ed-4f53-9135-c589bc82bb0b",
        "colab": {
          "base_uri": "https://localhost:8080/",
          "height": 224
        }
      },
      "source": [
        "import io\n",
        "import pandas as pd\n",
        "df2 = pd.read_csv(io.BytesIO(uploaded['ECD.csv']),header=None)\n",
        "df2.head()"
      ],
      "execution_count": 2,
      "outputs": [
        {
          "output_type": "execute_result",
          "data": {
            "text/html": [
              "<div>\n",
              "<style scoped>\n",
              "    .dataframe tbody tr th:only-of-type {\n",
              "        vertical-align: middle;\n",
              "    }\n",
              "\n",
              "    .dataframe tbody tr th {\n",
              "        vertical-align: top;\n",
              "    }\n",
              "\n",
              "    .dataframe thead th {\n",
              "        text-align: right;\n",
              "    }\n",
              "</style>\n",
              "<table border=\"1\" class=\"dataframe\">\n",
              "  <thead>\n",
              "    <tr style=\"text-align: right;\">\n",
              "      <th></th>\n",
              "      <th>0</th>\n",
              "      <th>1</th>\n",
              "      <th>2</th>\n",
              "      <th>3</th>\n",
              "      <th>4</th>\n",
              "      <th>5</th>\n",
              "      <th>6</th>\n",
              "      <th>7</th>\n",
              "      <th>8</th>\n",
              "      <th>9</th>\n",
              "      <th>10</th>\n",
              "      <th>11</th>\n",
              "      <th>12</th>\n",
              "      <th>13</th>\n",
              "      <th>14</th>\n",
              "      <th>15</th>\n",
              "      <th>16</th>\n",
              "      <th>17</th>\n",
              "      <th>18</th>\n",
              "      <th>19</th>\n",
              "      <th>20</th>\n",
              "      <th>21</th>\n",
              "      <th>22</th>\n",
              "      <th>23</th>\n",
              "      <th>24</th>\n",
              "      <th>25</th>\n",
              "      <th>26</th>\n",
              "      <th>27</th>\n",
              "      <th>28</th>\n",
              "      <th>29</th>\n",
              "      <th>30</th>\n",
              "    </tr>\n",
              "  </thead>\n",
              "  <tbody>\n",
              "    <tr>\n",
              "      <th>0</th>\n",
              "      <td>162183.0</td>\n",
              "      <td>2.049094</td>\n",
              "      <td>0.186189</td>\n",
              "      <td>-1.707198</td>\n",
              "      <td>0.530768</td>\n",
              "      <td>0.160589</td>\n",
              "      <td>-1.448570</td>\n",
              "      <td>0.239310</td>\n",
              "      <td>-0.353611</td>\n",
              "      <td>0.634425</td>\n",
              "      <td>-0.471390</td>\n",
              "      <td>-0.349233</td>\n",
              "      <td>-0.073474</td>\n",
              "      <td>-0.303130</td>\n",
              "      <td>-0.664254</td>\n",
              "      <td>0.977499</td>\n",
              "      <td>0.157691</td>\n",
              "      <td>0.469860</td>\n",
              "      <td>0.446847</td>\n",
              "      <td>-0.502306</td>\n",
              "      <td>-0.232666</td>\n",
              "      <td>0.197782</td>\n",
              "      <td>0.741141</td>\n",
              "      <td>-0.009744</td>\n",
              "      <td>-0.085057</td>\n",
              "      <td>0.228384</td>\n",
              "      <td>-0.097292</td>\n",
              "      <td>-0.001028</td>\n",
              "      <td>-0.032390</td>\n",
              "      <td>2.99</td>\n",
              "      <td>0.0</td>\n",
              "    </tr>\n",
              "    <tr>\n",
              "      <th>1</th>\n",
              "      <td>120967.0</td>\n",
              "      <td>2.125540</td>\n",
              "      <td>-0.030714</td>\n",
              "      <td>-1.527653</td>\n",
              "      <td>0.121046</td>\n",
              "      <td>0.543172</td>\n",
              "      <td>-0.347988</td>\n",
              "      <td>0.157221</td>\n",
              "      <td>-0.229126</td>\n",
              "      <td>0.477999</td>\n",
              "      <td>0.046959</td>\n",
              "      <td>-1.314079</td>\n",
              "      <td>0.508379</td>\n",
              "      <td>0.891406</td>\n",
              "      <td>0.081326</td>\n",
              "      <td>0.065139</td>\n",
              "      <td>0.109356</td>\n",
              "      <td>-0.623472</td>\n",
              "      <td>-0.671603</td>\n",
              "      <td>0.435948</td>\n",
              "      <td>-0.125804</td>\n",
              "      <td>-0.336497</td>\n",
              "      <td>-0.838932</td>\n",
              "      <td>0.275173</td>\n",
              "      <td>0.049145</td>\n",
              "      <td>-0.156765</td>\n",
              "      <td>0.205919</td>\n",
              "      <td>-0.072321</td>\n",
              "      <td>-0.059009</td>\n",
              "      <td>1.98</td>\n",
              "      <td>0.0</td>\n",
              "    </tr>\n",
              "    <tr>\n",
              "      <th>2</th>\n",
              "      <td>26484.0</td>\n",
              "      <td>-4.155859</td>\n",
              "      <td>-5.705748</td>\n",
              "      <td>0.274699</td>\n",
              "      <td>-0.993262</td>\n",
              "      <td>-6.059393</td>\n",
              "      <td>5.210848</td>\n",
              "      <td>5.811316</td>\n",
              "      <td>0.367888</td>\n",
              "      <td>1.750710</td>\n",
              "      <td>-4.171672</td>\n",
              "      <td>-0.583742</td>\n",
              "      <td>0.346628</td>\n",
              "      <td>-0.719006</td>\n",
              "      <td>-0.899347</td>\n",
              "      <td>0.006643</td>\n",
              "      <td>-1.784000</td>\n",
              "      <td>1.457844</td>\n",
              "      <td>-0.952985</td>\n",
              "      <td>-1.315135</td>\n",
              "      <td>3.944592</td>\n",
              "      <td>1.371671</td>\n",
              "      <td>1.195815</td>\n",
              "      <td>4.188762</td>\n",
              "      <td>-1.091077</td>\n",
              "      <td>1.033044</td>\n",
              "      <td>0.224493</td>\n",
              "      <td>-0.486741</td>\n",
              "      <td>0.194275</td>\n",
              "      <td>1937.66</td>\n",
              "      <td>0.0</td>\n",
              "    </tr>\n",
              "    <tr>\n",
              "      <th>3</th>\n",
              "      <td>65751.0</td>\n",
              "      <td>-0.566420</td>\n",
              "      <td>-0.579576</td>\n",
              "      <td>0.823503</td>\n",
              "      <td>-1.451240</td>\n",
              "      <td>-0.583587</td>\n",
              "      <td>0.206381</td>\n",
              "      <td>1.601392</td>\n",
              "      <td>-0.370446</td>\n",
              "      <td>-1.910354</td>\n",
              "      <td>0.252497</td>\n",
              "      <td>0.922508</td>\n",
              "      <td>-0.114149</td>\n",
              "      <td>1.008346</td>\n",
              "      <td>-0.282106</td>\n",
              "      <td>-0.246635</td>\n",
              "      <td>1.345463</td>\n",
              "      <td>-0.401365</td>\n",
              "      <td>-0.993434</td>\n",
              "      <td>1.474268</td>\n",
              "      <td>0.977739</td>\n",
              "      <td>-0.065082</td>\n",
              "      <td>-0.761357</td>\n",
              "      <td>0.641524</td>\n",
              "      <td>-0.568974</td>\n",
              "      <td>-0.053164</td>\n",
              "      <td>-0.690995</td>\n",
              "      <td>-0.228630</td>\n",
              "      <td>-0.157254</td>\n",
              "      <td>320.05</td>\n",
              "      <td>0.0</td>\n",
              "    </tr>\n",
              "    <tr>\n",
              "      <th>4</th>\n",
              "      <td>137025.0</td>\n",
              "      <td>0.060858</td>\n",
              "      <td>-0.261762</td>\n",
              "      <td>-1.699493</td>\n",
              "      <td>-1.202327</td>\n",
              "      <td>3.699527</td>\n",
              "      <td>3.196249</td>\n",
              "      <td>0.437208</td>\n",
              "      <td>0.421541</td>\n",
              "      <td>0.492435</td>\n",
              "      <td>-0.455964</td>\n",
              "      <td>0.028435</td>\n",
              "      <td>-0.329083</td>\n",
              "      <td>-0.552349</td>\n",
              "      <td>-1.568433</td>\n",
              "      <td>-0.440477</td>\n",
              "      <td>-0.296621</td>\n",
              "      <td>0.481656</td>\n",
              "      <td>-0.061843</td>\n",
              "      <td>-0.387865</td>\n",
              "      <td>-0.014550</td>\n",
              "      <td>0.008303</td>\n",
              "      <td>0.534602</td>\n",
              "      <td>0.089602</td>\n",
              "      <td>0.667918</td>\n",
              "      <td>0.017798</td>\n",
              "      <td>0.611584</td>\n",
              "      <td>-0.469946</td>\n",
              "      <td>-0.514370</td>\n",
              "      <td>11.50</td>\n",
              "      <td>0.0</td>\n",
              "    </tr>\n",
              "  </tbody>\n",
              "</table>\n",
              "</div>"
            ],
            "text/plain": [
              "         0         1         2         3   ...        27        28       29   30\n",
              "0  162183.0  2.049094  0.186189 -1.707198  ... -0.001028 -0.032390     2.99  0.0\n",
              "1  120967.0  2.125540 -0.030714 -1.527653  ... -0.072321 -0.059009     1.98  0.0\n",
              "2   26484.0 -4.155859 -5.705748  0.274699  ... -0.486741  0.194275  1937.66  0.0\n",
              "3   65751.0 -0.566420 -0.579576  0.823503  ... -0.228630 -0.157254   320.05  0.0\n",
              "4  137025.0  0.060858 -0.261762 -1.699493  ... -0.469946 -0.514370    11.50  0.0\n",
              "\n",
              "[5 rows x 31 columns]"
            ]
          },
          "metadata": {
            "tags": []
          },
          "execution_count": 2
        }
      ]
    },
    {
      "cell_type": "code",
      "metadata": {
        "id": "4iMy-sKqAnZD",
        "colab_type": "code",
        "colab": {
          "base_uri": "https://localhost:8080/",
          "height": 68
        },
        "outputId": "0aed566a-a0cc-48c7-ade0-f9ef47f0e09e"
      },
      "source": [
        "df2[df2.columns[30]].value_counts()"
      ],
      "execution_count": 37,
      "outputs": [
        {
          "output_type": "execute_result",
          "data": {
            "text/plain": [
              "0.0    4920\n",
              "1.0     492\n",
              "Name: 30, dtype: int64"
            ]
          },
          "metadata": {
            "tags": []
          },
          "execution_count": 37
        }
      ]
    },
    {
      "cell_type": "code",
      "metadata": {
        "id": "sKjWPp5hLGzw",
        "colab_type": "code",
        "colab": {}
      },
      "source": [
        "features =df2.drop(df2.columns[30],axis=1)\n",
        "labels=df2[df2.columns[30]]\n"
      ],
      "execution_count": 0,
      "outputs": []
    },
    {
      "cell_type": "code",
      "metadata": {
        "id": "OxvYp4rwLJgv",
        "colab_type": "code",
        "outputId": "f883c577-c86b-408d-843e-ca40f813d9e2",
        "colab": {
          "base_uri": "https://localhost:8080/",
          "height": 68
        }
      },
      "source": [
        "import numpy as np\n",
        "unique_elements, counts_elements = np.unique(labels, return_counts=True)\n",
        "print(\"Frequency of unique values of the said array:\")\n",
        "print(np.asarray((unique_elements, counts_elements)))"
      ],
      "execution_count": 4,
      "outputs": [
        {
          "output_type": "stream",
          "text": [
            "Frequency of unique values of the said array:\n",
            "[[0.00e+00 1.00e+00]\n",
            " [4.92e+03 4.92e+02]]\n"
          ],
          "name": "stdout"
        }
      ]
    },
    {
      "cell_type": "code",
      "metadata": {
        "id": "nzEWDzBOLNd9",
        "colab_type": "code",
        "outputId": "c5a9b339-a045-4444-ff0f-3224fd8403af",
        "colab": {
          "base_uri": "https://localhost:8080/",
          "height": 170
        }
      },
      "source": [
        "from sklearn.preprocessing import StandardScaler\n",
        "from sklearn.model_selection import train_test_split\n",
        "\n",
        "scaler = StandardScaler()\n",
        "features = scaler.fit_transform(features)\n",
        "print(features[0])\n",
        "\n",
        "X_train, X_test, y_train, y_test=train_test_split(features,labels,test_size=0.2, random_state=42)\n",
        "\n",
        "#X_train=X_train.astype('float32')\n",
        "#X_test=X_test.astype('float32')\n",
        "print(X_train.shape)\n",
        "print(X_test.shape)\n",
        "print(y_train.shape)\n",
        "print(y_test.shape)"
      ],
      "execution_count": 5,
      "outputs": [
        {
          "output_type": "stream",
          "text": [
            "[ 1.45094259  0.80223991 -0.06502102 -0.33078773  0.04703112  0.20079889\n",
            " -0.93863499  0.25309466 -0.18275693  0.58255806  0.02030165 -0.4191561\n",
            "  0.19984054 -0.28898097 -0.01702708  1.08823192  0.28239682  0.35878101\n",
            "  0.47503238 -0.63500995 -0.34422048  0.10376635  0.9152007  -0.00556151\n",
            " -0.14503745  0.42723258 -0.21816581 -0.02726437 -0.13146827 -0.37888298]\n",
            "(4329, 30)\n",
            "(1083, 30)\n",
            "(4329,)\n",
            "(1083,)\n"
          ],
          "name": "stdout"
        }
      ]
    },
    {
      "cell_type": "code",
      "metadata": {
        "id": "tuBex7dxA89y",
        "colab_type": "code",
        "colab": {
          "base_uri": "https://localhost:8080/",
          "height": 68
        },
        "outputId": "5d1c4079-babc-47a9-86a3-a7a087cb6410"
      },
      "source": [
        "unique_elements, counts_elements = np.unique(y_test, return_counts=True)\n",
        "print(\"Frequency of unique values of the said array:\")\n",
        "print(np.asarray((unique_elements, counts_elements)).astype(int))"
      ],
      "execution_count": 40,
      "outputs": [
        {
          "output_type": "stream",
          "text": [
            "Frequency of unique values of the said array:\n",
            "[[  0   1]\n",
            " [990  93]]\n"
          ],
          "name": "stdout"
        }
      ]
    },
    {
      "cell_type": "code",
      "metadata": {
        "id": "nYpmVC1LM2BB",
        "colab_type": "code",
        "outputId": "d507c451-4b27-499d-be53-8b385eb9b327",
        "colab": {
          "base_uri": "https://localhost:8080/",
          "height": 85
        }
      },
      "source": [
        "y_train=y_train.to_numpy()\n",
        "y_test=y_test.to_numpy()\n",
        "print(type(X_train))\n",
        "print(type(X_test))\n",
        "print(type(y_train))\n",
        "print(type(y_test))"
      ],
      "execution_count": 6,
      "outputs": [
        {
          "output_type": "stream",
          "text": [
            "<class 'numpy.ndarray'>\n",
            "<class 'numpy.ndarray'>\n",
            "<class 'numpy.ndarray'>\n",
            "<class 'numpy.ndarray'>\n"
          ],
          "name": "stdout"
        }
      ]
    },
    {
      "cell_type": "code",
      "metadata": {
        "id": "K8i0yR_geKFy",
        "colab_type": "code",
        "colab": {}
      },
      "source": [
        "from sklearn.ensemble import RandomForestClassifier\n",
        "model_rf=RandomForestClassifier()"
      ],
      "execution_count": 0,
      "outputs": []
    },
    {
      "cell_type": "code",
      "metadata": {
        "id": "89YqP-grc2FI",
        "colab_type": "code",
        "colab": {}
      },
      "source": [
        "from sklearn import svm\n",
        "model_svm = svm.SVC(probability=True)"
      ],
      "execution_count": 0,
      "outputs": []
    },
    {
      "cell_type": "code",
      "metadata": {
        "id": "i-mP0lOWLdzA",
        "colab_type": "code",
        "colab": {
          "base_uri": "https://localhost:8080/",
          "height": 321
        },
        "outputId": "ec21ab22-aea1-42d6-bece-fa3f3dada6d8"
      },
      "source": [
        "from keras.models import Sequential\n",
        "from keras.layers import Dense\n",
        "from keras.layers import LSTM\n",
        "\n",
        "model_lstm = Sequential()\n",
        "model_lstm.add(LSTM(50, activation='relu', input_shape=(1,30)))\n",
        "model_lstm.add(Dense(1, activation='sigmoid'))\n",
        "model_lstm.compile(loss='binary_crossentropy', optimizer='adam', metrics=['accuracy'])"
      ],
      "execution_count": 9,
      "outputs": [
        {
          "output_type": "stream",
          "text": [
            "Using TensorFlow backend.\n"
          ],
          "name": "stderr"
        },
        {
          "output_type": "display_data",
          "data": {
            "text/html": [
              "<p style=\"color: red;\">\n",
              "The default version of TensorFlow in Colab will soon switch to TensorFlow 2.x.<br>\n",
              "We recommend you <a href=\"https://www.tensorflow.org/guide/migrate\" target=\"_blank\">upgrade</a> now \n",
              "or ensure your notebook will continue to use TensorFlow 1.x via the <code>%tensorflow_version 1.x</code> magic:\n",
              "<a href=\"https://colab.research.google.com/notebooks/tensorflow_version.ipynb\" target=\"_blank\">more info</a>.</p>\n"
            ],
            "text/plain": [
              "<IPython.core.display.HTML object>"
            ]
          },
          "metadata": {
            "tags": []
          }
        },
        {
          "output_type": "stream",
          "text": [
            "WARNING:tensorflow:From /usr/local/lib/python3.6/dist-packages/keras/backend/tensorflow_backend.py:66: The name tf.get_default_graph is deprecated. Please use tf.compat.v1.get_default_graph instead.\n",
            "\n",
            "WARNING:tensorflow:From /usr/local/lib/python3.6/dist-packages/keras/backend/tensorflow_backend.py:541: The name tf.placeholder is deprecated. Please use tf.compat.v1.placeholder instead.\n",
            "\n",
            "WARNING:tensorflow:From /usr/local/lib/python3.6/dist-packages/keras/backend/tensorflow_backend.py:4432: The name tf.random_uniform is deprecated. Please use tf.random.uniform instead.\n",
            "\n",
            "WARNING:tensorflow:From /usr/local/lib/python3.6/dist-packages/keras/optimizers.py:793: The name tf.train.Optimizer is deprecated. Please use tf.compat.v1.train.Optimizer instead.\n",
            "\n",
            "WARNING:tensorflow:From /usr/local/lib/python3.6/dist-packages/keras/backend/tensorflow_backend.py:3657: The name tf.log is deprecated. Please use tf.math.log instead.\n",
            "\n",
            "WARNING:tensorflow:From /usr/local/lib/python3.6/dist-packages/tensorflow_core/python/ops/nn_impl.py:183: where (from tensorflow.python.ops.array_ops) is deprecated and will be removed in a future version.\n",
            "Instructions for updating:\n",
            "Use tf.where in 2.0, which has the same broadcast rule as np.where\n"
          ],
          "name": "stdout"
        }
      ]
    },
    {
      "cell_type": "code",
      "metadata": {
        "id": "doUgXzCZLxdM",
        "colab_type": "code",
        "colab": {}
      },
      "source": [
        "from keras.layers import Conv2D, Flatten\n",
        "#create model\n",
        "model_2dcnn = Sequential()\n",
        "#add model layers\n",
        "model_2dcnn.add(Conv2D(64, kernel_size=3, activation='relu', input_shape=(5,6,1)))\n",
        "model_2dcnn.add(Conv2D(32, kernel_size=3, activation='relu'))\n",
        "model_2dcnn.add(Flatten())\n",
        "model_2dcnn.add(Dense(1, activation='sigmoid'))\n",
        "model_2dcnn.compile(optimizer='adam', loss='binary_crossentropy', metrics=['accuracy'])"
      ],
      "execution_count": 0,
      "outputs": []
    },
    {
      "cell_type": "code",
      "metadata": {
        "id": "fA6UdsrqMSNS",
        "colab_type": "code",
        "colab": {}
      },
      "source": [
        "model_ann=Sequential()\n",
        "model_ann.add(Dense(200,input_shape=(30,),activation='relu'))\n",
        "model_ann.add(Dense(1,activation='sigmoid'))\n",
        "model_ann.compile(loss='binary_crossentropy',optimizer='adam',metrics=['accuracy'])"
      ],
      "execution_count": 0,
      "outputs": []
    },
    {
      "cell_type": "code",
      "metadata": {
        "id": "h5qH6ueWPmrq",
        "colab_type": "code",
        "colab": {
          "base_uri": "https://localhost:8080/",
          "height": 156
        },
        "outputId": "9acdad66-596c-4084-fa51-3d673ae441a5"
      },
      "source": [
        "from keras.models import Sequential\n",
        "from keras.layers import Dense, Conv1D, Flatten, MaxPooling1D, Dropout\n",
        "\n",
        "model_1dcnn = Sequential()\n",
        "model_1dcnn.add(Conv1D(filters=64, kernel_size=1, activation='relu', input_shape=(1,30)))\n",
        "model_1dcnn.add(Conv1D(filters=64, kernel_size=1, activation='relu'))\n",
        "model_1dcnn.add(Dropout(0.5))\n",
        "model_1dcnn.add(MaxPooling1D(pool_size=1))\n",
        "model_1dcnn.add(Flatten())\n",
        "model_1dcnn.add(Dense(100, activation='relu'))\n",
        "model_1dcnn.add(Dense(1, activation='sigmoid'))\n",
        "model_1dcnn.compile(optimizer='adam', loss='binary_crossentropy', metrics=['accuracy'])"
      ],
      "execution_count": 12,
      "outputs": [
        {
          "output_type": "stream",
          "text": [
            "WARNING:tensorflow:From /usr/local/lib/python3.6/dist-packages/keras/backend/tensorflow_backend.py:148: The name tf.placeholder_with_default is deprecated. Please use tf.compat.v1.placeholder_with_default instead.\n",
            "\n",
            "WARNING:tensorflow:From /usr/local/lib/python3.6/dist-packages/keras/backend/tensorflow_backend.py:3733: calling dropout (from tensorflow.python.ops.nn_ops) with keep_prob is deprecated and will be removed in a future version.\n",
            "Instructions for updating:\n",
            "Please use `rate` instead of `keep_prob`. Rate should be set to `rate = 1 - keep_prob`.\n",
            "WARNING:tensorflow:From /usr/local/lib/python3.6/dist-packages/keras/backend/tensorflow_backend.py:4267: The name tf.nn.max_pool is deprecated. Please use tf.nn.max_pool2d instead.\n",
            "\n"
          ],
          "name": "stdout"
        }
      ]
    },
    {
      "cell_type": "code",
      "metadata": {
        "id": "q8QecELCMSYa",
        "colab_type": "code",
        "outputId": "66a8cb0f-832e-4ba8-e3ff-527aecd327e4",
        "colab": {
          "base_uri": "https://localhost:8080/",
          "height": 683
        }
      },
      "source": [
        "model_lstm.fit(X_train.reshape(4329,1,30), y_train, validation_data=(X_test.reshape(1083,1,30), y_test), epochs=10)"
      ],
      "execution_count": 13,
      "outputs": [
        {
          "output_type": "stream",
          "text": [
            "WARNING:tensorflow:From /usr/local/lib/python3.6/dist-packages/keras/backend/tensorflow_backend.py:1033: The name tf.assign_add is deprecated. Please use tf.compat.v1.assign_add instead.\n",
            "\n",
            "WARNING:tensorflow:From /usr/local/lib/python3.6/dist-packages/keras/backend/tensorflow_backend.py:1020: The name tf.assign is deprecated. Please use tf.compat.v1.assign instead.\n",
            "\n",
            "WARNING:tensorflow:From /usr/local/lib/python3.6/dist-packages/keras/backend/tensorflow_backend.py:3005: The name tf.Session is deprecated. Please use tf.compat.v1.Session instead.\n",
            "\n",
            "Train on 4329 samples, validate on 1083 samples\n",
            "Epoch 1/10\n",
            "WARNING:tensorflow:From /usr/local/lib/python3.6/dist-packages/keras/backend/tensorflow_backend.py:190: The name tf.get_default_session is deprecated. Please use tf.compat.v1.get_default_session instead.\n",
            "\n",
            "WARNING:tensorflow:From /usr/local/lib/python3.6/dist-packages/keras/backend/tensorflow_backend.py:197: The name tf.ConfigProto is deprecated. Please use tf.compat.v1.ConfigProto instead.\n",
            "\n",
            "WARNING:tensorflow:From /usr/local/lib/python3.6/dist-packages/keras/backend/tensorflow_backend.py:207: The name tf.global_variables is deprecated. Please use tf.compat.v1.global_variables instead.\n",
            "\n",
            "WARNING:tensorflow:From /usr/local/lib/python3.6/dist-packages/keras/backend/tensorflow_backend.py:216: The name tf.is_variable_initialized is deprecated. Please use tf.compat.v1.is_variable_initialized instead.\n",
            "\n",
            "WARNING:tensorflow:From /usr/local/lib/python3.6/dist-packages/keras/backend/tensorflow_backend.py:223: The name tf.variables_initializer is deprecated. Please use tf.compat.v1.variables_initializer instead.\n",
            "\n",
            "4329/4329 [==============================] - 2s 426us/step - loss: 0.4286 - acc: 0.9596 - val_loss: 0.1885 - val_acc: 0.9834\n",
            "Epoch 2/10\n",
            "4329/4329 [==============================] - 0s 109us/step - loss: 0.1106 - acc: 0.9822 - val_loss: 0.0793 - val_acc: 0.9843\n",
            "Epoch 3/10\n",
            "4329/4329 [==============================] - 0s 104us/step - loss: 0.0652 - acc: 0.9838 - val_loss: 0.0712 - val_acc: 0.9834\n",
            "Epoch 4/10\n",
            "4329/4329 [==============================] - 0s 110us/step - loss: 0.0555 - acc: 0.9859 - val_loss: 0.0710 - val_acc: 0.9834\n",
            "Epoch 5/10\n",
            "4329/4329 [==============================] - 0s 110us/step - loss: 0.0506 - acc: 0.9871 - val_loss: 0.0713 - val_acc: 0.9825\n",
            "Epoch 6/10\n",
            "4329/4329 [==============================] - 0s 108us/step - loss: 0.0471 - acc: 0.9866 - val_loss: 0.0711 - val_acc: 0.9834\n",
            "Epoch 7/10\n",
            "4329/4329 [==============================] - 0s 108us/step - loss: 0.0449 - acc: 0.9875 - val_loss: 0.0711 - val_acc: 0.9834\n",
            "Epoch 8/10\n",
            "4329/4329 [==============================] - 0s 109us/step - loss: 0.0426 - acc: 0.9882 - val_loss: 0.0705 - val_acc: 0.9843\n",
            "Epoch 9/10\n",
            "4329/4329 [==============================] - 0s 103us/step - loss: 0.0407 - acc: 0.9884 - val_loss: 0.0697 - val_acc: 0.9852\n",
            "Epoch 10/10\n",
            "4329/4329 [==============================] - 0s 100us/step - loss: 0.0393 - acc: 0.9887 - val_loss: 0.0696 - val_acc: 0.9852\n"
          ],
          "name": "stdout"
        },
        {
          "output_type": "execute_result",
          "data": {
            "text/plain": [
              "<keras.callbacks.History at 0x7ff61b250128>"
            ]
          },
          "metadata": {
            "tags": []
          },
          "execution_count": 13
        }
      ]
    },
    {
      "cell_type": "code",
      "metadata": {
        "id": "diDWB1b5MzKE",
        "colab_type": "code",
        "outputId": "1b4b8a74-b09d-4944-845e-4557b147cda6",
        "colab": {
          "base_uri": "https://localhost:8080/",
          "height": 391
        }
      },
      "source": [
        "model_2dcnn.fit(X_train.reshape(4329,5,6,1), y_train, validation_data=(X_test.reshape(1083,5,6,1), y_test), epochs=10)"
      ],
      "execution_count": 14,
      "outputs": [
        {
          "output_type": "stream",
          "text": [
            "Train on 4329 samples, validate on 1083 samples\n",
            "Epoch 1/10\n",
            "4329/4329 [==============================] - 1s 221us/step - loss: 0.1371 - acc: 0.9716 - val_loss: 0.0748 - val_acc: 0.9815\n",
            "Epoch 2/10\n",
            "4329/4329 [==============================] - 0s 105us/step - loss: 0.0590 - acc: 0.9854 - val_loss: 0.0697 - val_acc: 0.9852\n",
            "Epoch 3/10\n",
            "4329/4329 [==============================] - 0s 100us/step - loss: 0.0533 - acc: 0.9861 - val_loss: 0.0674 - val_acc: 0.9861\n",
            "Epoch 4/10\n",
            "4329/4329 [==============================] - 0s 98us/step - loss: 0.0497 - acc: 0.9859 - val_loss: 0.0657 - val_acc: 0.9871\n",
            "Epoch 5/10\n",
            "4329/4329 [==============================] - 0s 100us/step - loss: 0.0456 - acc: 0.9871 - val_loss: 0.0683 - val_acc: 0.9852\n",
            "Epoch 6/10\n",
            "4329/4329 [==============================] - 0s 92us/step - loss: 0.0450 - acc: 0.9873 - val_loss: 0.0677 - val_acc: 0.9843\n",
            "Epoch 7/10\n",
            "4329/4329 [==============================] - 0s 92us/step - loss: 0.0429 - acc: 0.9871 - val_loss: 0.0730 - val_acc: 0.9834\n",
            "Epoch 8/10\n",
            "4329/4329 [==============================] - 0s 95us/step - loss: 0.0414 - acc: 0.9887 - val_loss: 0.0696 - val_acc: 0.9861\n",
            "Epoch 9/10\n",
            "4329/4329 [==============================] - 0s 98us/step - loss: 0.0410 - acc: 0.9887 - val_loss: 0.0692 - val_acc: 0.9852\n",
            "Epoch 10/10\n",
            "4329/4329 [==============================] - 0s 91us/step - loss: 0.0403 - acc: 0.9891 - val_loss: 0.0742 - val_acc: 0.9834\n"
          ],
          "name": "stdout"
        },
        {
          "output_type": "execute_result",
          "data": {
            "text/plain": [
              "<keras.callbacks.History at 0x7ff614a00320>"
            ]
          },
          "metadata": {
            "tags": []
          },
          "execution_count": 14
        }
      ]
    },
    {
      "cell_type": "code",
      "metadata": {
        "id": "GMvH92V1Nfjb",
        "colab_type": "code",
        "outputId": "a90206b3-b626-4035-e03c-2a18772e90c6",
        "colab": {
          "base_uri": "https://localhost:8080/",
          "height": 391
        }
      },
      "source": [
        "model_ann.fit(X_train, y_train, validation_data=(X_test, y_test), epochs=10)"
      ],
      "execution_count": 15,
      "outputs": [
        {
          "output_type": "stream",
          "text": [
            "Train on 4329 samples, validate on 1083 samples\n",
            "Epoch 1/10\n",
            "4329/4329 [==============================] - 1s 155us/step - loss: 0.1924 - acc: 0.9506 - val_loss: 0.0824 - val_acc: 0.9843\n",
            "Epoch 2/10\n",
            "4329/4329 [==============================] - 0s 48us/step - loss: 0.0624 - acc: 0.9850 - val_loss: 0.0727 - val_acc: 0.9834\n",
            "Epoch 3/10\n",
            "4329/4329 [==============================] - 0s 50us/step - loss: 0.0521 - acc: 0.9871 - val_loss: 0.0704 - val_acc: 0.9825\n",
            "Epoch 4/10\n",
            "4329/4329 [==============================] - 0s 49us/step - loss: 0.0473 - acc: 0.9878 - val_loss: 0.0695 - val_acc: 0.9815\n",
            "Epoch 5/10\n",
            "4329/4329 [==============================] - 0s 49us/step - loss: 0.0443 - acc: 0.9871 - val_loss: 0.0681 - val_acc: 0.9852\n",
            "Epoch 6/10\n",
            "4329/4329 [==============================] - 0s 47us/step - loss: 0.0419 - acc: 0.9884 - val_loss: 0.0682 - val_acc: 0.9843\n",
            "Epoch 7/10\n",
            "4329/4329 [==============================] - 0s 49us/step - loss: 0.0394 - acc: 0.9889 - val_loss: 0.0672 - val_acc: 0.9843\n",
            "Epoch 8/10\n",
            "4329/4329 [==============================] - 0s 46us/step - loss: 0.0380 - acc: 0.9898 - val_loss: 0.0687 - val_acc: 0.9852\n",
            "Epoch 9/10\n",
            "4329/4329 [==============================] - 0s 50us/step - loss: 0.0365 - acc: 0.9898 - val_loss: 0.0654 - val_acc: 0.9861\n",
            "Epoch 10/10\n",
            "4329/4329 [==============================] - 0s 48us/step - loss: 0.0348 - acc: 0.9905 - val_loss: 0.0660 - val_acc: 0.9852\n"
          ],
          "name": "stdout"
        },
        {
          "output_type": "execute_result",
          "data": {
            "text/plain": [
              "<keras.callbacks.History at 0x7ff6148f9b00>"
            ]
          },
          "metadata": {
            "tags": []
          },
          "execution_count": 15
        }
      ]
    },
    {
      "cell_type": "code",
      "metadata": {
        "id": "6Pf2X0THdBuc",
        "colab_type": "code",
        "outputId": "9b06cbaf-6dc9-471b-a986-5522d7917dcf",
        "colab": {
          "base_uri": "https://localhost:8080/",
          "height": 85
        }
      },
      "source": [
        "model_svm.fit(X_train, y_train)"
      ],
      "execution_count": 16,
      "outputs": [
        {
          "output_type": "execute_result",
          "data": {
            "text/plain": [
              "SVC(C=1.0, break_ties=False, cache_size=200, class_weight=None, coef0=0.0,\n",
              "    decision_function_shape='ovr', degree=3, gamma='scale', kernel='rbf',\n",
              "    max_iter=-1, probability=True, random_state=None, shrinking=True, tol=0.001,\n",
              "    verbose=False)"
            ]
          },
          "metadata": {
            "tags": []
          },
          "execution_count": 16
        }
      ]
    },
    {
      "cell_type": "code",
      "metadata": {
        "id": "CspNQXUOeWlD",
        "colab_type": "code",
        "outputId": "fdb3d33a-a277-4fa1-fb8c-802273b2343a",
        "colab": {
          "base_uri": "https://localhost:8080/",
          "height": 153
        }
      },
      "source": [
        "model_rf.fit(X_train,y_train)"
      ],
      "execution_count": 17,
      "outputs": [
        {
          "output_type": "execute_result",
          "data": {
            "text/plain": [
              "RandomForestClassifier(bootstrap=True, ccp_alpha=0.0, class_weight=None,\n",
              "                       criterion='gini', max_depth=None, max_features='auto',\n",
              "                       max_leaf_nodes=None, max_samples=None,\n",
              "                       min_impurity_decrease=0.0, min_impurity_split=None,\n",
              "                       min_samples_leaf=1, min_samples_split=2,\n",
              "                       min_weight_fraction_leaf=0.0, n_estimators=100,\n",
              "                       n_jobs=None, oob_score=False, random_state=None,\n",
              "                       verbose=0, warm_start=False)"
            ]
          },
          "metadata": {
            "tags": []
          },
          "execution_count": 17
        }
      ]
    },
    {
      "cell_type": "code",
      "metadata": {
        "id": "vASOCxuGQeHR",
        "colab_type": "code",
        "colab": {
          "base_uri": "https://localhost:8080/",
          "height": 391
        },
        "outputId": "77e45e13-7183-44ab-8816-d819c6994eb1"
      },
      "source": [
        "model_1dcnn.fit(X_train.reshape(4329,1,30), y_train, validation_data=(X_test.reshape(1083,1,30), y_test), epochs=10)"
      ],
      "execution_count": 18,
      "outputs": [
        {
          "output_type": "stream",
          "text": [
            "Train on 4329 samples, validate on 1083 samples\n",
            "Epoch 1/10\n",
            "4329/4329 [==============================] - 1s 228us/step - loss: 0.1933 - acc: 0.9466 - val_loss: 0.0863 - val_acc: 0.9825\n",
            "Epoch 2/10\n",
            "4329/4329 [==============================] - 0s 66us/step - loss: 0.0626 - acc: 0.9841 - val_loss: 0.0831 - val_acc: 0.9834\n",
            "Epoch 3/10\n",
            "4329/4329 [==============================] - 0s 68us/step - loss: 0.0579 - acc: 0.9845 - val_loss: 0.0771 - val_acc: 0.9834\n",
            "Epoch 4/10\n",
            "4329/4329 [==============================] - 0s 65us/step - loss: 0.0504 - acc: 0.9868 - val_loss: 0.0852 - val_acc: 0.9834\n",
            "Epoch 5/10\n",
            "4329/4329 [==============================] - 0s 69us/step - loss: 0.0471 - acc: 0.9875 - val_loss: 0.0824 - val_acc: 0.9843\n",
            "Epoch 6/10\n",
            "4329/4329 [==============================] - 0s 65us/step - loss: 0.0436 - acc: 0.9878 - val_loss: 0.0837 - val_acc: 0.9834\n",
            "Epoch 7/10\n",
            "4329/4329 [==============================] - 0s 67us/step - loss: 0.0429 - acc: 0.9889 - val_loss: 0.0844 - val_acc: 0.9852\n",
            "Epoch 8/10\n",
            "4329/4329 [==============================] - 0s 66us/step - loss: 0.0397 - acc: 0.9880 - val_loss: 0.0784 - val_acc: 0.9834\n",
            "Epoch 9/10\n",
            "4329/4329 [==============================] - 0s 66us/step - loss: 0.0360 - acc: 0.9894 - val_loss: 0.0819 - val_acc: 0.9852\n",
            "Epoch 10/10\n",
            "4329/4329 [==============================] - 0s 68us/step - loss: 0.0352 - acc: 0.9908 - val_loss: 0.0763 - val_acc: 0.9834\n"
          ],
          "name": "stdout"
        },
        {
          "output_type": "execute_result",
          "data": {
            "text/plain": [
              "<keras.callbacks.History at 0x7ff6148cbba8>"
            ]
          },
          "metadata": {
            "tags": []
          },
          "execution_count": 18
        }
      ]
    },
    {
      "cell_type": "code",
      "metadata": {
        "id": "H-m6CHvCQ4pF",
        "colab_type": "code",
        "colab": {}
      },
      "source": [
        "y_pred_svm=model_svm.predict(X_test)\n",
        "y_pred_rf=model_rf.predict(X_test)\n",
        "y_pred_1dcnn=model_1dcnn.predict_classes(X_test.reshape(1083,1,30))\n",
        "y_pred_2dcnn=model_2dcnn.predict_classes(X_test.reshape(1083,5,6,1))\n",
        "y_pred_lstm=model_lstm.predict_classes(X_test.reshape(1083,1,30))\n",
        "y_pred_ann=model_ann.predict_classes(X_test)"
      ],
      "execution_count": 0,
      "outputs": []
    },
    {
      "cell_type": "code",
      "metadata": {
        "id": "hXLoU088Bq1L",
        "colab_type": "code",
        "colab": {
          "base_uri": "https://localhost:8080/",
          "height": 68
        },
        "outputId": "9b7d388c-0dcb-4f5f-d1b4-af8194cb4e9d"
      },
      "source": [
        "unique_elements, counts_elements = np.unique(y_pred_2dcnn, return_counts=True)\n",
        "print(\"Frequency of unique values of the said array:\")\n",
        "print(np.asarray((unique_elements, counts_elements)).astype(int))"
      ],
      "execution_count": 48,
      "outputs": [
        {
          "output_type": "stream",
          "text": [
            "Frequency of unique values of the said array:\n",
            "[[  0   1]\n",
            " [996  87]]\n"
          ],
          "name": "stdout"
        }
      ]
    },
    {
      "cell_type": "code",
      "metadata": {
        "id": "2XvnyOsROSy_",
        "colab_type": "code",
        "outputId": "db787ccf-b4eb-4472-8d0a-0d08077c7634",
        "colab": {
          "base_uri": "https://localhost:8080/",
          "height": 34
        }
      },
      "source": [
        "y_pred=model_lstm.predict_classes(X_test.reshape(1083,1,30))\n",
        "y_pred=np.append(y_pred,model_2dcnn.predict_classes(X_test.reshape(1083,5,6,1)),axis=1)\n",
        "y_pred=np.append(y_pred,model_ann.predict_classes(X_test),axis=1)\n",
        "y_pred=np.append(y_pred,model_svm.predict(X_test).reshape(1083,1),axis=1)\n",
        "y_pred=np.append(y_pred,model_rf.predict(X_test).reshape(1083,1),axis=1)\n",
        "y_pred=np.append(y_pred,model_1dcnn.predict_classes(X_test.reshape(1083,1,30)),axis=1)\n",
        "print(y_pred.shape)"
      ],
      "execution_count": 20,
      "outputs": [
        {
          "output_type": "stream",
          "text": [
            "(1083, 6)\n"
          ],
          "name": "stdout"
        }
      ]
    },
    {
      "cell_type": "code",
      "metadata": {
        "id": "p0inFNDVYNr0",
        "colab_type": "code",
        "colab": {}
      },
      "source": [
        "header=['LSTM','2DCNN','ANN','SVM','RF','1DCNN']"
      ],
      "execution_count": 0,
      "outputs": []
    },
    {
      "cell_type": "code",
      "metadata": {
        "id": "KjWQYMDoT4oU",
        "colab_type": "code",
        "colab": {
          "base_uri": "https://localhost:8080/",
          "height": 833
        },
        "outputId": "bea5fa25-0d09-49a2-85bc-6d4a9c7e5d9a"
      },
      "source": [
        "from sklearn import metrics\n",
        "\n",
        "for x in range (len(y_pred[0])):\n",
        "  print(header[x])\n",
        "  print(\"Accuracy: \"+\"{:.2%}\".format(metrics.accuracy_score(y_test, y_pred[:,x])))\n",
        "  print(\"Precision: \"+\"{:.2%}\".format(metrics.precision_score(y_test, y_pred[:,x])))\n",
        "  print(\"Recall: \"+\"{:.2%}\".format(metrics.recall_score(y_test, y_pred[:,x])))\n",
        "  print(\"F1: \"+\"{:.2%}\".format(metrics.f1_score(y_test,y_pred[:,x])))\n",
        "  print(metrics.confusion_matrix(y_test,y_pred[:,x]))\n",
        "  print(\"-----------\")"
      ],
      "execution_count": 22,
      "outputs": [
        {
          "output_type": "stream",
          "text": [
            "LSTM\n",
            "Accuracy: 98.52%\n",
            "Precision: 97.53%\n",
            "Recall: 84.95%\n",
            "F1: 90.80%\n",
            "[[988   2]\n",
            " [ 14  79]]\n",
            "-----------\n",
            "2DCNN\n",
            "Accuracy: 98.34%\n",
            "Precision: 93.10%\n",
            "Recall: 87.10%\n",
            "F1: 90.00%\n",
            "[[984   6]\n",
            " [ 12  81]]\n",
            "-----------\n",
            "ANN\n",
            "Accuracy: 98.52%\n",
            "Precision: 95.29%\n",
            "Recall: 87.10%\n",
            "F1: 91.01%\n",
            "[[986   4]\n",
            " [ 12  81]]\n",
            "-----------\n",
            "SVM\n",
            "Accuracy: 98.25%\n",
            "Precision: 97.44%\n",
            "Recall: 81.72%\n",
            "F1: 88.89%\n",
            "[[988   2]\n",
            " [ 17  76]]\n",
            "-----------\n",
            "RF\n",
            "Accuracy: 98.43%\n",
            "Precision: 97.50%\n",
            "Recall: 83.87%\n",
            "F1: 90.17%\n",
            "[[988   2]\n",
            " [ 15  78]]\n",
            "-----------\n",
            "1DCNN\n",
            "Accuracy: 98.34%\n",
            "Precision: 94.12%\n",
            "Recall: 86.02%\n",
            "F1: 89.89%\n",
            "[[985   5]\n",
            " [ 13  80]]\n",
            "-----------\n"
          ],
          "name": "stdout"
        }
      ]
    },
    {
      "cell_type": "code",
      "metadata": {
        "id": "UoHvFrWpVTbQ",
        "colab_type": "code",
        "colab": {}
      },
      "source": [
        "from sklearn.metrics import precision_recall_curve\n",
        "from sklearn.metrics import f1_score\n",
        "from sklearn.metrics import auc\n",
        "from matplotlib import pyplot\n",
        "\n",
        "lr_probs_svm = model_svm.predict_proba(X_test)[:,1]\n",
        "lr_probs_rf =model_rf.predict_proba(X_test)[:,1]\n",
        "lr_probs_lstm=model_lstm.predict_proba(X_test.reshape(1083,1,30)).reshape(1083)\n",
        "lr_probs_1dcnn=model_1dcnn.predict_proba(X_test.reshape(1083,1,30)).reshape(1083)\n",
        "lr_probs_2dcnn=model_2dcnn.predict_proba(X_test.reshape(1083,5,6,1)).reshape(1083)\n",
        "lr_probs_ann=model_ann.predict_proba(X_test).reshape(1083)\n"
      ],
      "execution_count": 0,
      "outputs": []
    },
    {
      "cell_type": "code",
      "metadata": {
        "id": "SZeE17VEd99f",
        "colab_type": "code",
        "colab": {
          "base_uri": "https://localhost:8080/",
          "height": 51
        },
        "outputId": "74d0302c-3e9b-48be-86b9-1d4fd1f25654"
      },
      "source": [
        "lr_precision_svm, lr_recall_svm, _ = precision_recall_curve(y_test, lr_probs_svm)\n",
        "lr_f1_svm, lr_auc_svm = f1_score(y_test, y_pred_svm), auc(lr_recall_svm, lr_precision_svm)\n",
        "\n",
        "lr_precision_rf, lr_recall_rf, _ = precision_recall_curve(y_test, lr_probs_rf)\n",
        "lr_f1_rf, lr_auc_rf = f1_score(y_test, y_pred_rf), auc(lr_recall_rf, lr_precision_rf)\n",
        "\n",
        "lr_precision_lstm, lr_recall_lstm, _ = precision_recall_curve(y_test, lr_probs_lstm)\n",
        "lr_f1_lstm, lr_auc_lstm = f1_score(y_test, y_pred_lstm), auc(lr_recall_lstm, lr_precision_lstm)\n",
        "\n",
        "lr_precision_1dcnn, lr_recall_1dcnn, _ = precision_recall_curve(y_test, lr_probs_1dcnn)\n",
        "lr_f1_1dcnn, lr_auc_1dcnn = f1_score(y_test, y_pred_1dcnn), auc(lr_recall_1dcnn, lr_precision_1dcnn)\n",
        "\n",
        "lr_precision_2dcnn, lr_recall_2dcnn, _ = precision_recall_curve(y_test, lr_probs_2dcnn)\n",
        "lr_f1_2dcnn, lr_auc_2dcnn = f1_score(y_test, y_pred_2dcnn), auc(lr_recall_2dcnn, lr_precision_2dcnn)\n",
        "\n",
        "lr_precision_ann, lr_recall_ann, _ = precision_recall_curve(y_test, lr_probs_ann)\n",
        "lr_f1_ann, lr_auc_ann = f1_score(y_test, y_pred_ann), auc(lr_recall_ann, lr_precision_ann)\n",
        "\n",
        "print(\"{:.2%}\".format(lr_f1_ann))\n",
        "print(\"{:.2%}\".format(lr_auc_ann))"
      ],
      "execution_count": 24,
      "outputs": [
        {
          "output_type": "stream",
          "text": [
            "91.01%\n",
            "92.75%\n"
          ],
          "name": "stdout"
        }
      ]
    },
    {
      "cell_type": "code",
      "metadata": {
        "id": "RjtJIidgPLU2",
        "colab_type": "code",
        "outputId": "c4d5cf83-9193-4fc6-813a-7c7abef7af29",
        "colab": {
          "base_uri": "https://localhost:8080/",
          "height": 313
        }
      },
      "source": [
        "# plot the precision-recall curves\n",
        "no_skill = len(y_test[y_test==1]) / len(y_test)\n",
        "pyplot.plot([0, 1], [no_skill, no_skill], linestyle='--', label='No Skill')\n",
        "pyplot.plot(lr_recall_svm, lr_precision_svm, 'C1', label='SVM')\n",
        "pyplot.plot(lr_recall_rf, lr_precision_rf, 'C2', label='RF')\n",
        "pyplot.plot(lr_recall_ann, lr_precision_ann, 'C3', label='ANN')\n",
        "pyplot.plot(lr_recall_lstm, lr_precision_lstm, 'C4', label='LSTM')\n",
        "pyplot.plot(lr_recall_1dcnn, lr_precision_1dcnn, 'C5', label='1DCNN')\n",
        "pyplot.plot(lr_recall_2dcnn, lr_precision_2dcnn, 'C6', label='2DCNN')\n",
        "# axis labels\n",
        "pyplot.xlabel('Recall')\n",
        "pyplot.ylabel('Precision')\n",
        "# show the legend\n",
        "pyplot.legend()\n",
        "pyplot.figure(figsize=(400,400))\n",
        "# show the plot\n",
        "pyplot.show()\n",
        "pyplot.savefig(\"Fig.jpg\")\n",
        "files.download(\"Fig.jpg\")\n"
      ],
      "execution_count": 36,
      "outputs": [
        {
          "output_type": "display_data",
          "data": {
            "image/png": "[encoded data removed]",
            "text/plain": [
              "<Figure size 432x288 with 1 Axes>"
            ]
          },
          "metadata": {
            "tags": []
          }
        },
        {
          "output_type": "display_data",
          "data": {
            "text/plain": [
              "<Figure size 28800x28800 with 0 Axes>"
            ]
          },
          "metadata": {
            "tags": []
          }
        },
        {
          "output_type": "display_data",
          "data": {
            "text/plain": [
              "<Figure size 432x288 with 0 Axes>"
            ]
          },
          "metadata": {
            "tags": []
          }
        }
      ]
    },
    {
      "cell_type": "code",
      "metadata": {
        "id": "6sIIR-iIi6Bs",
        "colab_type": "code",
        "colab": {
          "base_uri": "https://localhost:8080/",
          "height": 34
        },
        "outputId": "d071c353-ad32-44f8-cb74-37917220b649"
      },
      "source": [
        "fig = pyplot.figure(figsize=(10, 10))\n",
        "fig.show()\n",
        "fig.savefig(\"Fig.jpg\", bbox_inches='tight')\n",
        "files.download(\"Fig.jpg\")"
      ],
      "execution_count": 31,
      "outputs": [
        {
          "output_type": "display_data",
          "data": {
            "text/plain": [
              "<Figure size 720x720 with 0 Axes>"
            ]
          },
          "metadata": {
            "tags": []
          }
        }
      ]
    },
    {
      "cell_type": "code",
      "metadata": {
        "id": "RfjoJi3kRTdO",
        "colab_type": "code",
        "colab": {}
      },
      "source": [
        "import statistics\n",
        "y=[]\n",
        "for rows in y_pred:\n",
        "  y=np.append(y,statistics.mode(rows))"
      ],
      "execution_count": 0,
      "outputs": []
    },
    {
      "cell_type": "code",
      "metadata": {
        "id": "31fX5VTgi4hn",
        "colab_type": "code",
        "colab": {}
      },
      "source": [
        ""
      ],
      "execution_count": 0,
      "outputs": []
    },
    {
      "cell_type": "code",
      "metadata": {
        "id": "7u1wUxldSQ4x",
        "colab_type": "code",
        "outputId": "9fb75840-b715-45d9-befb-bd4951925693",
        "colab": {
          "base_uri": "https://localhost:8080/",
          "height": 34
        }
      },
      "source": [
        "y_pred=y.reshape(1083,1)\n",
        "print(y_pred.shape)"
      ],
      "execution_count": 0,
      "outputs": [
        {
          "output_type": "stream",
          "text": [
            "(1083, 1)\n"
          ],
          "name": "stdout"
        }
      ]
    },
    {
      "cell_type": "code",
      "metadata": {
        "id": "pf2P8eXnXPNn",
        "colab_type": "code",
        "outputId": "aa757670-511b-49b3-cc82-1a7c22048520",
        "colab": {
          "base_uri": "https://localhost:8080/",
          "height": 119
        }
      },
      "source": [
        "from sklearn import metrics\n",
        "print(\"Accuracy: \"+\"{:.2%}\".format(metrics.accuracy_score(y_test, y_pred)));\n",
        "print(\"Precision: \"+\"{:.2%}\".format(metrics.precision_score(y_test, y_pred)));\n",
        "print(\"Recall: \"+\"{:.2%}\".format(metrics.recall_score(y_test, y_pred)));\n",
        "print(\"F1: \"+\"{:.2%}\".format(metrics.f1_score(y_test,y_pred)));\n",
        "print(metrics.confusion_matrix(y_test,y_pred));"
      ],
      "execution_count": 0,
      "outputs": [
        {
          "output_type": "stream",
          "text": [
            "Accuracy: 98.43%\n",
            "Precision: 96.34%\n",
            "Recall: 84.95%\n",
            "F1: 90.29%\n",
            "[[987   3]\n",
            " [ 14  79]]\n"
          ],
          "name": "stdout"
        }
      ]
    }
  ]
}