{
  "nbformat": 4,
  "nbformat_minor": 0,
  "metadata": {
    "colab": {
      "name": "CCFD_ECD.ipynb",
      "provenance": [],
      "collapsed_sections": [],
      "authorship_tag": "ABX9TyOUKaDudz9zAlApOxNabj04",
      "include_colab_link": true
    },
    "kernelspec": {
      "name": "python3",
      "display_name": "Python 3"
    }
  },
  "cells": [
    {
      "cell_type": "markdown",
      "metadata": {
        "id": "view-in-github",
        "colab_type": "text"
      },
      "source": [
        "<a href=\"https://colab.research.google.com/github/Hammadtahir7/Card-Fraud-Detection/blob/master/CCFD_ECD.ipynb\" target=\"_parent\"><img src=\"https://colab.research.google.com/assets/colab-badge.svg\" alt=\"Open In Colab\"/></a>"
      ]
    },
    {
      "cell_type": "code",
      "metadata": {
        "id": "r8VWUeTfKlqV",
        "colab_type": "code",
        "outputId": "da7d3e4d-79e2-4e6c-f840-0ab17df56c35",
        "colab": {
          "resources": {
            "http://localhost:8080/nbextensions/google.colab/files.js": {
              "data": "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",
              "ok": true,
              "headers": [
                [
                  "content-type",
                  "application/javascript"
                ]
              ],
              "status": 200,
              "status_text": ""
            }
          },
          "base_uri": "https://localhost:8080/",
          "height": 71
        }
      },
      "source": [
        "from google.colab import files\n",
        "uploaded = files.upload()"
      ],
      "execution_count": 1,
      "outputs": [
        {
          "output_type": "display_data",
          "data": {
            "text/html": [
              "\n",
              "     <input type=\"file\" id=\"files-9138ce1f-6136-4af0-bb5b-c944aae1e220\" name=\"files[]\" multiple disabled />\n",
              "     <output id=\"result-9138ce1f-6136-4af0-bb5b-c944aae1e220\">\n",
              "      Upload widget is only available when the cell has been executed in the\n",
              "      current browser session. Please rerun this cell to enable.\n",
              "      </output>\n",
              "      <script src=\"/nbextensions/google.colab/files.js\"></script> "
            ],
            "text/plain": [
              "<IPython.core.display.HTML object>"
            ]
          },
          "metadata": {
            "tags": []
          }
        },
        {
          "output_type": "stream",
          "text": [
            "Saving ECDNM.csv to ECDNM.csv\n"
          ],
          "name": "stdout"
        }
      ]
    },
    {
      "cell_type": "code",
      "metadata": {
        "id": "BnH32lIwLCjS",
        "colab_type": "code",
        "outputId": "b599eb25-01c3-462b-d5b8-0cd756858129",
        "colab": {
          "base_uri": "https://localhost:8080/",
          "height": 224
        }
      },
      "source": [
        "import io\n",
        "import pandas as pd\n",
        "df2 = pd.read_csv(io.BytesIO(uploaded['ECDNM.csv']),header=None)\n",
        "df2.head()"
      ],
      "execution_count": 87,
      "outputs": [
        {
          "output_type": "execute_result",
          "data": {
            "text/html": [
              "<div>\n",
              "<style scoped>\n",
              "    .dataframe tbody tr th:only-of-type {\n",
              "        vertical-align: middle;\n",
              "    }\n",
              "\n",
              "    .dataframe tbody tr th {\n",
              "        vertical-align: top;\n",
              "    }\n",
              "\n",
              "    .dataframe thead th {\n",
              "        text-align: right;\n",
              "    }\n",
              "</style>\n",
              "<table border=\"1\" class=\"dataframe\">\n",
              "  <thead>\n",
              "    <tr style=\"text-align: right;\">\n",
              "      <th></th>\n",
              "      <th>0</th>\n",
              "      <th>1</th>\n",
              "      <th>2</th>\n",
              "      <th>3</th>\n",
              "      <th>4</th>\n",
              "      <th>5</th>\n",
              "      <th>6</th>\n",
              "      <th>7</th>\n",
              "      <th>8</th>\n",
              "      <th>9</th>\n",
              "      <th>10</th>\n",
              "      <th>11</th>\n",
              "      <th>12</th>\n",
              "      <th>13</th>\n",
              "      <th>14</th>\n",
              "      <th>15</th>\n",
              "      <th>16</th>\n",
              "      <th>17</th>\n",
              "      <th>18</th>\n",
              "      <th>19</th>\n",
              "      <th>20</th>\n",
              "      <th>21</th>\n",
              "      <th>22</th>\n",
              "      <th>23</th>\n",
              "      <th>24</th>\n",
              "      <th>25</th>\n",
              "      <th>26</th>\n",
              "      <th>27</th>\n",
              "      <th>28</th>\n",
              "      <th>29</th>\n",
              "      <th>30</th>\n",
              "    </tr>\n",
              "  </thead>\n",
              "  <tbody>\n",
              "    <tr>\n",
              "      <th>0</th>\n",
              "      <td>76866.0</td>\n",
              "      <td>1.257227</td>\n",
              "      <td>0.408096</td>\n",
              "      <td>0.319266</td>\n",
              "      <td>0.685011</td>\n",
              "      <td>-0.302937</td>\n",
              "      <td>-1.052552</td>\n",
              "      <td>0.136991</td>\n",
              "      <td>-0.245655</td>\n",
              "      <td>-0.079491</td>\n",
              "      <td>-0.304453</td>\n",
              "      <td>0.055638</td>\n",
              "      <td>0.627844</td>\n",
              "      <td>0.968874</td>\n",
              "      <td>-0.435499</td>\n",
              "      <td>1.012926</td>\n",
              "      <td>0.445284</td>\n",
              "      <td>-0.049622</td>\n",
              "      <td>-0.388480</td>\n",
              "      <td>-0.201395</td>\n",
              "      <td>-0.033053</td>\n",
              "      <td>-0.279430</td>\n",
              "      <td>-0.770134</td>\n",
              "      <td>0.119789</td>\n",
              "      <td>0.360130</td>\n",
              "      <td>0.241921</td>\n",
              "      <td>0.092261</td>\n",
              "      <td>-0.018228</td>\n",
              "      <td>0.032361</td>\n",
              "      <td>1.78</td>\n",
              "      <td>0.0</td>\n",
              "    </tr>\n",
              "    <tr>\n",
              "      <th>1</th>\n",
              "      <td>76868.0</td>\n",
              "      <td>1.254775</td>\n",
              "      <td>0.375340</td>\n",
              "      <td>0.311959</td>\n",
              "      <td>0.691077</td>\n",
              "      <td>-0.343494</td>\n",
              "      <td>-1.065252</td>\n",
              "      <td>0.110222</td>\n",
              "      <td>-0.222721</td>\n",
              "      <td>-0.017278</td>\n",
              "      <td>-0.292722</td>\n",
              "      <td>-0.010006</td>\n",
              "      <td>0.409479</td>\n",
              "      <td>0.553968</td>\n",
              "      <td>-0.352550</td>\n",
              "      <td>1.058069</td>\n",
              "      <td>0.463211</td>\n",
              "      <td>-0.023915</td>\n",
              "      <td>-0.339299</td>\n",
              "      <td>-0.200980</td>\n",
              "      <td>-0.057911</td>\n",
              "      <td>-0.283275</td>\n",
              "      <td>-0.803506</td>\n",
              "      <td>0.124643</td>\n",
              "      <td>0.354395</td>\n",
              "      <td>0.226835</td>\n",
              "      <td>0.093208</td>\n",
              "      <td>-0.021100</td>\n",
              "      <td>0.031686</td>\n",
              "      <td>2.69</td>\n",
              "      <td>0.0</td>\n",
              "    </tr>\n",
              "    <tr>\n",
              "      <th>2</th>\n",
              "      <td>76870.0</td>\n",
              "      <td>-1.050697</td>\n",
              "      <td>1.500753</td>\n",
              "      <td>0.846326</td>\n",
              "      <td>-0.282956</td>\n",
              "      <td>0.059866</td>\n",
              "      <td>-0.561182</td>\n",
              "      <td>0.484517</td>\n",
              "      <td>0.181547</td>\n",
              "      <td>0.081544</td>\n",
              "      <td>0.613903</td>\n",
              "      <td>1.100861</td>\n",
              "      <td>0.042911</td>\n",
              "      <td>-0.823641</td>\n",
              "      <td>-0.281402</td>\n",
              "      <td>0.364323</td>\n",
              "      <td>0.655438</td>\n",
              "      <td>-0.337470</td>\n",
              "      <td>0.528699</td>\n",
              "      <td>0.240959</td>\n",
              "      <td>0.457988</td>\n",
              "      <td>-0.335560</td>\n",
              "      <td>-0.780232</td>\n",
              "      <td>-0.027029</td>\n",
              "      <td>-0.090180</td>\n",
              "      <td>-0.022896</td>\n",
              "      <td>0.091830</td>\n",
              "      <td>0.547241</td>\n",
              "      <td>0.278780</td>\n",
              "      <td>1.29</td>\n",
              "      <td>0.0</td>\n",
              "    </tr>\n",
              "    <tr>\n",
              "      <th>3</th>\n",
              "      <td>76866.0</td>\n",
              "      <td>1.245537</td>\n",
              "      <td>0.419648</td>\n",
              "      <td>0.312943</td>\n",
              "      <td>1.111459</td>\n",
              "      <td>-0.205612</td>\n",
              "      <td>-0.950912</td>\n",
              "      <td>0.267398</td>\n",
              "      <td>-0.274685</td>\n",
              "      <td>-0.127708</td>\n",
              "      <td>-0.006219</td>\n",
              "      <td>-0.268366</td>\n",
              "      <td>0.576178</td>\n",
              "      <td>0.725978</td>\n",
              "      <td>0.244139</td>\n",
              "      <td>0.839535</td>\n",
              "      <td>0.014384</td>\n",
              "      <td>-0.467398</td>\n",
              "      <td>-0.241561</td>\n",
              "      <td>-0.375801</td>\n",
              "      <td>-0.098066</td>\n",
              "      <td>0.035687</td>\n",
              "      <td>0.186705</td>\n",
              "      <td>-0.107300</td>\n",
              "      <td>0.417887</td>\n",
              "      <td>0.712330</td>\n",
              "      <td>-0.330843</td>\n",
              "      <td>0.018576</td>\n",
              "      <td>0.021871</td>\n",
              "      <td>3.99</td>\n",
              "      <td>0.0</td>\n",
              "    </tr>\n",
              "    <tr>\n",
              "      <th>4</th>\n",
              "      <td>76870.0</td>\n",
              "      <td>1.261137</td>\n",
              "      <td>0.304662</td>\n",
              "      <td>0.527018</td>\n",
              "      <td>0.612765</td>\n",
              "      <td>-0.411488</td>\n",
              "      <td>-0.972770</td>\n",
              "      <td>0.112838</td>\n",
              "      <td>-0.248052</td>\n",
              "      <td>-0.068454</td>\n",
              "      <td>-0.087776</td>\n",
              "      <td>-0.091455</td>\n",
              "      <td>0.767559</td>\n",
              "      <td>1.067270</td>\n",
              "      <td>0.089504</td>\n",
              "      <td>0.949708</td>\n",
              "      <td>0.268773</td>\n",
              "      <td>-0.467480</td>\n",
              "      <td>-0.633160</td>\n",
              "      <td>-0.122404</td>\n",
              "      <td>-0.044989</td>\n",
              "      <td>-0.249081</td>\n",
              "      <td>-0.683649</td>\n",
              "      <td>0.126936</td>\n",
              "      <td>0.395307</td>\n",
              "      <td>0.243448</td>\n",
              "      <td>0.092344</td>\n",
              "      <td>-0.024149</td>\n",
              "      <td>0.020589</td>\n",
              "      <td>1.79</td>\n",
              "      <td>0.0</td>\n",
              "    </tr>\n",
              "  </tbody>\n",
              "</table>\n",
              "</div>"
            ],
            "text/plain": [
              "        0         1         2         3   ...        27        28    29   30\n",
              "0  76866.0  1.257227  0.408096  0.319266  ... -0.018228  0.032361  1.78  0.0\n",
              "1  76868.0  1.254775  0.375340  0.311959  ... -0.021100  0.031686  2.69  0.0\n",
              "2  76870.0 -1.050697  1.500753  0.846326  ...  0.547241  0.278780  1.29  0.0\n",
              "3  76866.0  1.245537  0.419648  0.312943  ...  0.018576  0.021871  3.99  0.0\n",
              "4  76870.0  1.261137  0.304662  0.527018  ... -0.024149  0.020589  1.79  0.0\n",
              "\n",
              "[5 rows x 31 columns]"
            ]
          },
          "metadata": {
            "tags": []
          },
          "execution_count": 87
        }
      ]
    },
    {
      "cell_type": "code",
      "metadata": {
        "id": "4iMy-sKqAnZD",
        "colab_type": "code",
        "colab": {
          "base_uri": "https://localhost:8080/",
          "height": 68
        },
        "outputId": "1979d505-fbc6-4043-ad11-4905f168e237"
      },
      "source": [
        "df2[df2.columns[30]].value_counts()"
      ],
      "execution_count": 88,
      "outputs": [
        {
          "output_type": "execute_result",
          "data": {
            "text/plain": [
              "0.0    4920\n",
              "1.0     492\n",
              "Name: 30, dtype: int64"
            ]
          },
          "metadata": {
            "tags": []
          },
          "execution_count": 88
        }
      ]
    },
    {
      "cell_type": "code",
      "metadata": {
        "id": "sKjWPp5hLGzw",
        "colab_type": "code",
        "colab": {}
      },
      "source": [
        "features =df2.drop(df2.columns[30],axis=1)\n",
        "labels=df2[df2.columns[30]]\n"
      ],
      "execution_count": 0,
      "outputs": []
    },
    {
      "cell_type": "code",
      "metadata": {
        "id": "OxvYp4rwLJgv",
        "colab_type": "code",
        "outputId": "c1aad7b7-b2ae-46ff-f95d-5321ac74688e",
        "colab": {
          "base_uri": "https://localhost:8080/",
          "height": 68
        }
      },
      "source": [
        "import numpy as np\n",
        "unique_elements, counts_elements = np.unique(labels, return_counts=True)\n",
        "print(\"Frequency of unique values of the said array:\")\n",
        "print(np.asarray((unique_elements, counts_elements)).astype(int))"
      ],
      "execution_count": 90,
      "outputs": [
        {
          "output_type": "stream",
          "text": [
            "Frequency of unique values of the said array:\n",
            "[[   0    1]\n",
            " [4920  492]]\n"
          ],
          "name": "stdout"
        }
      ]
    },
    {
      "cell_type": "code",
      "metadata": {
        "id": "nzEWDzBOLNd9",
        "colab_type": "code",
        "outputId": "fe12ff28-c936-4231-c93e-f44cc9e70b4c",
        "colab": {
          "base_uri": "https://localhost:8080/",
          "height": 170
        }
      },
      "source": [
        "from sklearn.preprocessing import StandardScaler\n",
        "from sklearn.model_selection import train_test_split\n",
        "\n",
        "scaler = StandardScaler()\n",
        "features = scaler.fit_transform(features)\n",
        "print(features[0])\n",
        "\n",
        "X_train, X_test, y_train, y_test=train_test_split(features,labels,test_size=0.2, random_state=42)\n",
        "\n",
        "#X_train=X_train.astype('float32')\n",
        "#X_test=X_test.astype('float32')\n",
        "print(X_train.shape)\n",
        "print(X_test.shape)\n",
        "print(y_train.shape)\n",
        "print(y_test.shape)"
      ],
      "execution_count": 91,
      "outputs": [
        {
          "output_type": "stream",
          "text": [
            "[-0.17173215  0.56001562 -0.14030157  0.2370538   0.10668661 -0.06840585\n",
            " -0.61719593  0.24481938 -0.14918819  0.09220449  0.0869663  -0.20705767\n",
            "  0.51666443  0.8467141   0.05488739  1.07935052  0.41413988  0.17997006\n",
            " -0.13385379 -0.27718361 -0.01870894 -0.24341216 -0.94326976  0.20064436\n",
            "  0.61676271  0.45192846  0.14968736 -0.05228983  0.09114222 -0.32253221]\n",
            "(4329, 30)\n",
            "(1083, 30)\n",
            "(4329,)\n",
            "(1083,)\n"
          ],
          "name": "stdout"
        }
      ]
    },
    {
      "cell_type": "code",
      "metadata": {
        "id": "tuBex7dxA89y",
        "colab_type": "code",
        "colab": {
          "base_uri": "https://localhost:8080/",
          "height": 68
        },
        "outputId": "be8c7cbc-3bbd-4f33-ec61-d778b77f6008"
      },
      "source": [
        "unique_elements, counts_elements = np.unique(y_test, return_counts=True)\n",
        "print(\"Frequency of unique values of the said array:\")\n",
        "print(np.asarray((unique_elements, counts_elements)).astype(int))"
      ],
      "execution_count": 92,
      "outputs": [
        {
          "output_type": "stream",
          "text": [
            "Frequency of unique values of the said array:\n",
            "[[  0   1]\n",
            " [990  93]]\n"
          ],
          "name": "stdout"
        }
      ]
    },
    {
      "cell_type": "code",
      "metadata": {
        "id": "nYpmVC1LM2BB",
        "colab_type": "code",
        "outputId": "f9164e71-b542-4218-a92d-6a0c863df703",
        "colab": {
          "base_uri": "https://localhost:8080/",
          "height": 85
        }
      },
      "source": [
        "y_train=y_train.to_numpy()\n",
        "y_test=y_test.to_numpy()\n",
        "print(type(X_train))\n",
        "print(type(X_test))\n",
        "print(type(y_train))\n",
        "print(type(y_test))"
      ],
      "execution_count": 93,
      "outputs": [
        {
          "output_type": "stream",
          "text": [
            "<class 'numpy.ndarray'>\n",
            "<class 'numpy.ndarray'>\n",
            "<class 'numpy.ndarray'>\n",
            "<class 'numpy.ndarray'>\n"
          ],
          "name": "stdout"
        }
      ]
    },
    {
      "cell_type": "code",
      "metadata": {
        "id": "K8i0yR_geKFy",
        "colab_type": "code",
        "colab": {}
      },
      "source": [
        "from sklearn.ensemble import RandomForestClassifier\n",
        "model_rf=RandomForestClassifier()"
      ],
      "execution_count": 0,
      "outputs": []
    },
    {
      "cell_type": "code",
      "metadata": {
        "id": "89YqP-grc2FI",
        "colab_type": "code",
        "colab": {}
      },
      "source": [
        "from sklearn import svm\n",
        "model_svm = svm.SVC(probability=True)"
      ],
      "execution_count": 0,
      "outputs": []
    },
    {
      "cell_type": "code",
      "metadata": {
        "id": "i-mP0lOWLdzA",
        "colab_type": "code",
        "colab": {}
      },
      "source": [
        "from keras.models import Sequential\n",
        "from keras.layers import Dense\n",
        "from keras.layers import LSTM\n",
        "\n",
        "model_lstm = Sequential()\n",
        "model_lstm.add(LSTM(50, activation='relu', input_shape=(1,30)))\n",
        "model_lstm.add(Dense(1, activation='sigmoid'))\n",
        "model_lstm.compile(loss='binary_crossentropy', optimizer='adam', metrics=['accuracy'])"
      ],
      "execution_count": 0,
      "outputs": []
    },
    {
      "cell_type": "code",
      "metadata": {
        "id": "doUgXzCZLxdM",
        "colab_type": "code",
        "colab": {}
      },
      "source": [
        "from keras.layers import Conv2D, Flatten\n",
        "#create model\n",
        "model_2dcnn = Sequential()\n",
        "#add model layers\n",
        "model_2dcnn.add(Conv2D(64, kernel_size=3, activation='relu', input_shape=(5,6,1)))\n",
        "model_2dcnn.add(Conv2D(32, kernel_size=3, activation='relu'))\n",
        "model_2dcnn.add(Flatten())\n",
        "model_2dcnn.add(Dense(1, activation='sigmoid'))\n",
        "model_2dcnn.compile(optimizer='adam', loss='binary_crossentropy', metrics=['accuracy'])"
      ],
      "execution_count": 0,
      "outputs": []
    },
    {
      "cell_type": "code",
      "metadata": {
        "id": "fA6UdsrqMSNS",
        "colab_type": "code",
        "colab": {}
      },
      "source": [
        "model_ann=Sequential()\n",
        "model_ann.add(Dense(200,input_shape=(30,),activation='relu'))\n",
        "model_ann.add(Dense(1,activation='sigmoid'))\n",
        "model_ann.compile(loss='binary_crossentropy',optimizer='adam',metrics=['accuracy'])"
      ],
      "execution_count": 0,
      "outputs": []
    },
    {
      "cell_type": "code",
      "metadata": {
        "id": "h5qH6ueWPmrq",
        "colab_type": "code",
        "colab": {}
      },
      "source": [
        "from keras.models import Sequential\n",
        "from keras.layers import Dense, Conv1D, Flatten, MaxPooling1D, Dropout\n",
        "\n",
        "model_1dcnn = Sequential()\n",
        "model_1dcnn.add(Conv1D(filters=64, kernel_size=1, activation='relu', input_shape=(1,30)))\n",
        "model_1dcnn.add(Conv1D(filters=64, kernel_size=1, activation='relu'))\n",
        "model_1dcnn.add(Dropout(0.5))\n",
        "model_1dcnn.add(MaxPooling1D(pool_size=1))\n",
        "model_1dcnn.add(Flatten())\n",
        "model_1dcnn.add(Dense(100, activation='relu'))\n",
        "model_1dcnn.add(Dense(1, activation='sigmoid'))\n",
        "model_1dcnn.compile(optimizer='adam', loss='binary_crossentropy', metrics=['accuracy'])"
      ],
      "execution_count": 0,
      "outputs": []
    },
    {
      "cell_type": "code",
      "metadata": {
        "id": "q8QecELCMSYa",
        "colab_type": "code",
        "outputId": "985158f2-24e3-4f93-fcab-92c3dcc0e807",
        "colab": {
          "base_uri": "https://localhost:8080/",
          "height": 391
        }
      },
      "source": [
        "model_lstm.fit(X_train.reshape(4329,1,30), y_train, validation_data=(X_test.reshape(1083,1,30), y_test), epochs=10)"
      ],
      "execution_count": 100,
      "outputs": [
        {
          "output_type": "stream",
          "text": [
            "Train on 4329 samples, validate on 1083 samples\n",
            "Epoch 1/10\n",
            "4329/4329 [==============================] - 3s 677us/step - loss: 0.4209 - acc: 0.9494 - val_loss: 0.1809 - val_acc: 0.9861\n",
            "Epoch 2/10\n",
            "4329/4329 [==============================] - 1s 119us/step - loss: 0.1080 - acc: 0.9838 - val_loss: 0.0726 - val_acc: 0.9861\n",
            "Epoch 3/10\n",
            "4329/4329 [==============================] - 0s 107us/step - loss: 0.0614 - acc: 0.9864 - val_loss: 0.0628 - val_acc: 0.9861\n",
            "Epoch 4/10\n",
            "4329/4329 [==============================] - 1s 116us/step - loss: 0.0507 - acc: 0.9880 - val_loss: 0.0591 - val_acc: 0.9889\n",
            "Epoch 5/10\n",
            "4329/4329 [==============================] - 0s 113us/step - loss: 0.0458 - acc: 0.9889 - val_loss: 0.0583 - val_acc: 0.9889\n",
            "Epoch 6/10\n",
            "4329/4329 [==============================] - 0s 114us/step - loss: 0.0426 - acc: 0.9901 - val_loss: 0.0581 - val_acc: 0.9889\n",
            "Epoch 7/10\n",
            "4329/4329 [==============================] - 0s 104us/step - loss: 0.0402 - acc: 0.9896 - val_loss: 0.0581 - val_acc: 0.9889\n",
            "Epoch 8/10\n",
            "4329/4329 [==============================] - 0s 114us/step - loss: 0.0384 - acc: 0.9896 - val_loss: 0.0590 - val_acc: 0.9898\n",
            "Epoch 9/10\n",
            "4329/4329 [==============================] - 0s 104us/step - loss: 0.0369 - acc: 0.9901 - val_loss: 0.0595 - val_acc: 0.9898\n",
            "Epoch 10/10\n",
            "4329/4329 [==============================] - 0s 113us/step - loss: 0.0355 - acc: 0.9912 - val_loss: 0.0604 - val_acc: 0.9898\n"
          ],
          "name": "stdout"
        },
        {
          "output_type": "execute_result",
          "data": {
            "text/plain": [
              "<keras.callbacks.History at 0x7fc621bc72e8>"
            ]
          },
          "metadata": {
            "tags": []
          },
          "execution_count": 100
        }
      ]
    },
    {
      "cell_type": "code",
      "metadata": {
        "id": "diDWB1b5MzKE",
        "colab_type": "code",
        "outputId": "f5c3742f-387d-40b8-8a7e-47a58438c3aa",
        "colab": {
          "base_uri": "https://localhost:8080/",
          "height": 391
        }
      },
      "source": [
        "model_2dcnn.fit(X_train.reshape(4329,5,6,1), y_train, validation_data=(X_test.reshape(1083,5,6,1), y_test), epochs=10)"
      ],
      "execution_count": 101,
      "outputs": [
        {
          "output_type": "stream",
          "text": [
            "Train on 4329 samples, validate on 1083 samples\n",
            "Epoch 1/10\n",
            "4329/4329 [==============================] - 3s 583us/step - loss: 0.1556 - acc: 0.9697 - val_loss: 0.0705 - val_acc: 0.9861\n",
            "Epoch 2/10\n",
            "4329/4329 [==============================] - 0s 103us/step - loss: 0.0566 - acc: 0.9871 - val_loss: 0.0585 - val_acc: 0.9880\n",
            "Epoch 3/10\n",
            "4329/4329 [==============================] - 0s 103us/step - loss: 0.0482 - acc: 0.9880 - val_loss: 0.0550 - val_acc: 0.9889\n",
            "Epoch 4/10\n",
            "4329/4329 [==============================] - 0s 100us/step - loss: 0.0423 - acc: 0.9898 - val_loss: 0.0568 - val_acc: 0.9908\n",
            "Epoch 5/10\n",
            "4329/4329 [==============================] - 0s 103us/step - loss: 0.0421 - acc: 0.9896 - val_loss: 0.0661 - val_acc: 0.9834\n",
            "Epoch 6/10\n",
            "4329/4329 [==============================] - 0s 100us/step - loss: 0.0439 - acc: 0.9880 - val_loss: 0.0509 - val_acc: 0.9898\n",
            "Epoch 7/10\n",
            "4329/4329 [==============================] - 0s 97us/step - loss: 0.0376 - acc: 0.9915 - val_loss: 0.0505 - val_acc: 0.9917\n",
            "Epoch 8/10\n",
            "4329/4329 [==============================] - 0s 100us/step - loss: 0.0358 - acc: 0.9910 - val_loss: 0.0506 - val_acc: 0.9917\n",
            "Epoch 9/10\n",
            "4329/4329 [==============================] - 0s 100us/step - loss: 0.0348 - acc: 0.9915 - val_loss: 0.0537 - val_acc: 0.9917\n",
            "Epoch 10/10\n",
            "4329/4329 [==============================] - 0s 96us/step - loss: 0.0347 - acc: 0.9910 - val_loss: 0.0521 - val_acc: 0.9917\n"
          ],
          "name": "stdout"
        },
        {
          "output_type": "execute_result",
          "data": {
            "text/plain": [
              "<keras.callbacks.History at 0x7fc621baa0f0>"
            ]
          },
          "metadata": {
            "tags": []
          },
          "execution_count": 101
        }
      ]
    },
    {
      "cell_type": "code",
      "metadata": {
        "id": "GMvH92V1Nfjb",
        "colab_type": "code",
        "outputId": "8d7e10bd-03ea-4baa-d227-fba72eee9a5f",
        "colab": {
          "base_uri": "https://localhost:8080/",
          "height": 391
        }
      },
      "source": [
        "model_ann.fit(X_train, y_train, validation_data=(X_test, y_test), epochs=10)"
      ],
      "execution_count": 102,
      "outputs": [
        {
          "output_type": "stream",
          "text": [
            "Train on 4329 samples, validate on 1083 samples\n",
            "Epoch 1/10\n",
            "4329/4329 [==============================] - 2s 517us/step - loss: 0.2105 - acc: 0.9319 - val_loss: 0.0803 - val_acc: 0.9852\n",
            "Epoch 2/10\n",
            "4329/4329 [==============================] - 0s 52us/step - loss: 0.0573 - acc: 0.9873 - val_loss: 0.0637 - val_acc: 0.9871\n",
            "Epoch 3/10\n",
            "4329/4329 [==============================] - 0s 52us/step - loss: 0.0470 - acc: 0.9882 - val_loss: 0.0606 - val_acc: 0.9898\n",
            "Epoch 4/10\n",
            "4329/4329 [==============================] - 0s 53us/step - loss: 0.0424 - acc: 0.9896 - val_loss: 0.0595 - val_acc: 0.9908\n",
            "Epoch 5/10\n",
            "4329/4329 [==============================] - 0s 54us/step - loss: 0.0393 - acc: 0.9896 - val_loss: 0.0600 - val_acc: 0.9917\n",
            "Epoch 6/10\n",
            "4329/4329 [==============================] - 0s 54us/step - loss: 0.0371 - acc: 0.9910 - val_loss: 0.0591 - val_acc: 0.9917\n",
            "Epoch 7/10\n",
            "4329/4329 [==============================] - 0s 51us/step - loss: 0.0360 - acc: 0.9903 - val_loss: 0.0589 - val_acc: 0.9917\n",
            "Epoch 8/10\n",
            "4329/4329 [==============================] - 0s 57us/step - loss: 0.0344 - acc: 0.9912 - val_loss: 0.0597 - val_acc: 0.9917\n",
            "Epoch 9/10\n",
            "4329/4329 [==============================] - 0s 54us/step - loss: 0.0330 - acc: 0.9915 - val_loss: 0.0603 - val_acc: 0.9917\n",
            "Epoch 10/10\n",
            "4329/4329 [==============================] - 0s 54us/step - loss: 0.0317 - acc: 0.9921 - val_loss: 0.0605 - val_acc: 0.9917\n"
          ],
          "name": "stdout"
        },
        {
          "output_type": "execute_result",
          "data": {
            "text/plain": [
              "<keras.callbacks.History at 0x7fc6219732e8>"
            ]
          },
          "metadata": {
            "tags": []
          },
          "execution_count": 102
        }
      ]
    },
    {
      "cell_type": "code",
      "metadata": {
        "id": "6Pf2X0THdBuc",
        "colab_type": "code",
        "outputId": "33e3dc4c-270a-4e29-bb91-acf65e6106e2",
        "colab": {
          "base_uri": "https://localhost:8080/",
          "height": 85
        }
      },
      "source": [
        "model_svm.fit(X_train, y_train)"
      ],
      "execution_count": 103,
      "outputs": [
        {
          "output_type": "execute_result",
          "data": {
            "text/plain": [
              "SVC(C=1.0, break_ties=False, cache_size=200, class_weight=None, coef0=0.0,\n",
              "    decision_function_shape='ovr', degree=3, gamma='scale', kernel='rbf',\n",
              "    max_iter=-1, probability=True, random_state=None, shrinking=True, tol=0.001,\n",
              "    verbose=False)"
            ]
          },
          "metadata": {
            "tags": []
          },
          "execution_count": 103
        }
      ]
    },
    {
      "cell_type": "code",
      "metadata": {
        "id": "CspNQXUOeWlD",
        "colab_type": "code",
        "outputId": "83278887-d673-4f25-f53f-da7b4a3b98be",
        "colab": {
          "base_uri": "https://localhost:8080/",
          "height": 153
        }
      },
      "source": [
        "model_rf.fit(X_train,y_train)"
      ],
      "execution_count": 104,
      "outputs": [
        {
          "output_type": "execute_result",
          "data": {
            "text/plain": [
              "RandomForestClassifier(bootstrap=True, ccp_alpha=0.0, class_weight=None,\n",
              "                       criterion='gini', max_depth=None, max_features='auto',\n",
              "                       max_leaf_nodes=None, max_samples=None,\n",
              "                       min_impurity_decrease=0.0, min_impurity_split=None,\n",
              "                       min_samples_leaf=1, min_samples_split=2,\n",
              "                       min_weight_fraction_leaf=0.0, n_estimators=100,\n",
              "                       n_jobs=None, oob_score=False, random_state=None,\n",
              "                       verbose=0, warm_start=False)"
            ]
          },
          "metadata": {
            "tags": []
          },
          "execution_count": 104
        }
      ]
    },
    {
      "cell_type": "code",
      "metadata": {
        "id": "vASOCxuGQeHR",
        "colab_type": "code",
        "colab": {
          "base_uri": "https://localhost:8080/",
          "height": 391
        },
        "outputId": "94682745-ce3d-486b-e465-63a749847b0c"
      },
      "source": [
        "model_1dcnn.fit(X_train.reshape(4329,1,30), y_train, validation_data=(X_test.reshape(1083,1,30), y_test), epochs=10)"
      ],
      "execution_count": 105,
      "outputs": [
        {
          "output_type": "stream",
          "text": [
            "Train on 4329 samples, validate on 1083 samples\n",
            "Epoch 1/10\n",
            "4329/4329 [==============================] - 3s 600us/step - loss: 0.1716 - acc: 0.9640 - val_loss: 0.0788 - val_acc: 0.9861\n",
            "Epoch 2/10\n",
            "4329/4329 [==============================] - 0s 75us/step - loss: 0.0594 - acc: 0.9868 - val_loss: 0.0802 - val_acc: 0.9880\n",
            "Epoch 3/10\n",
            "4329/4329 [==============================] - 0s 73us/step - loss: 0.0468 - acc: 0.9887 - val_loss: 0.0757 - val_acc: 0.9889\n",
            "Epoch 4/10\n",
            "4329/4329 [==============================] - 0s 70us/step - loss: 0.0456 - acc: 0.9884 - val_loss: 0.0763 - val_acc: 0.9889\n",
            "Epoch 5/10\n",
            "4329/4329 [==============================] - 0s 70us/step - loss: 0.0393 - acc: 0.9915 - val_loss: 0.0808 - val_acc: 0.9880\n",
            "Epoch 6/10\n",
            "4329/4329 [==============================] - 0s 71us/step - loss: 0.0397 - acc: 0.9910 - val_loss: 0.0739 - val_acc: 0.9889\n",
            "Epoch 7/10\n",
            "4329/4329 [==============================] - 0s 75us/step - loss: 0.0358 - acc: 0.9919 - val_loss: 0.0735 - val_acc: 0.9898\n",
            "Epoch 8/10\n",
            "4329/4329 [==============================] - 0s 67us/step - loss: 0.0351 - acc: 0.9905 - val_loss: 0.0731 - val_acc: 0.9917\n",
            "Epoch 9/10\n",
            "4329/4329 [==============================] - 0s 71us/step - loss: 0.0327 - acc: 0.9924 - val_loss: 0.0749 - val_acc: 0.9908\n",
            "Epoch 10/10\n",
            "4329/4329 [==============================] - 0s 71us/step - loss: 0.0293 - acc: 0.9931 - val_loss: 0.0746 - val_acc: 0.9898\n"
          ],
          "name": "stdout"
        },
        {
          "output_type": "execute_result",
          "data": {
            "text/plain": [
              "<keras.callbacks.History at 0x7fc62183fba8>"
            ]
          },
          "metadata": {
            "tags": []
          },
          "execution_count": 105
        }
      ]
    },
    {
      "cell_type": "code",
      "metadata": {
        "id": "H-m6CHvCQ4pF",
        "colab_type": "code",
        "colab": {}
      },
      "source": [
        "y_pred_svm=model_svm.predict(X_test)\n",
        "y_pred_rf=model_rf.predict(X_test)\n",
        "y_pred_1dcnn=model_1dcnn.predict_classes(X_test.reshape(1083,1,30))\n",
        "y_pred_2dcnn=model_2dcnn.predict_classes(X_test.reshape(1083,5,6,1))\n",
        "y_pred_lstm=model_lstm.predict_classes(X_test.reshape(1083,1,30))\n",
        "y_pred_ann=model_ann.predict_classes(X_test)"
      ],
      "execution_count": 0,
      "outputs": []
    },
    {
      "cell_type": "code",
      "metadata": {
        "id": "hXLoU088Bq1L",
        "colab_type": "code",
        "colab": {
          "base_uri": "https://localhost:8080/",
          "height": 68
        },
        "outputId": "f67cbfc0-a958-4d89-da65-7b2e71a79f95"
      },
      "source": [
        "unique_elements, counts_elements = np.unique(y_pred_2dcnn, return_counts=True)\n",
        "print(\"Frequency of unique values of the said array:\")\n",
        "print(np.asarray((unique_elements, counts_elements)).astype(int))"
      ],
      "execution_count": 107,
      "outputs": [
        {
          "output_type": "stream",
          "text": [
            "Frequency of unique values of the said array:\n",
            "[[  0   1]\n",
            " [999  84]]\n"
          ],
          "name": "stdout"
        }
      ]
    },
    {
      "cell_type": "code",
      "metadata": {
        "id": "2XvnyOsROSy_",
        "colab_type": "code",
        "outputId": "4890b753-c83d-4957-f72f-f5631183b3fe",
        "colab": {
          "base_uri": "https://localhost:8080/",
          "height": 34
        }
      },
      "source": [
        "y_pred=model_lstm.predict_classes(X_test.reshape(1083,1,30))\n",
        "y_pred=np.append(y_pred,model_2dcnn.predict_classes(X_test.reshape(1083,5,6,1)),axis=1)\n",
        "y_pred=np.append(y_pred,model_ann.predict_classes(X_test),axis=1)\n",
        "y_pred=np.append(y_pred,model_svm.predict(X_test).reshape(1083,1),axis=1)\n",
        "y_pred=np.append(y_pred,model_rf.predict(X_test).reshape(1083,1),axis=1)\n",
        "y_pred=np.append(y_pred,model_1dcnn.predict_classes(X_test.reshape(1083,1,30)),axis=1)\n",
        "print(y_pred.shape)"
      ],
      "execution_count": 108,
      "outputs": [
        {
          "output_type": "stream",
          "text": [
            "(1083, 6)\n"
          ],
          "name": "stdout"
        }
      ]
    },
    {
      "cell_type": "code",
      "metadata": {
        "id": "p0inFNDVYNr0",
        "colab_type": "code",
        "colab": {}
      },
      "source": [
        "header=['LSTM','2DCNN','ANN','SVM','RF','1DCNN']"
      ],
      "execution_count": 0,
      "outputs": []
    },
    {
      "cell_type": "code",
      "metadata": {
        "id": "KjWQYMDoT4oU",
        "colab_type": "code",
        "colab": {
          "base_uri": "https://localhost:8080/",
          "height": 833
        },
        "outputId": "136af69e-74d5-41f3-bf7f-4810b543fd63"
      },
      "source": [
        "from sklearn import metrics\n",
        "\n",
        "for x in range (len(y_pred[0])):\n",
        "  print(header[x])\n",
        "  print(\"Accuracy: \"+\"{:.2%}\".format(metrics.accuracy_score(y_test, y_pred[:,x])))\n",
        "  print(\"Precision: \"+\"{:.2%}\".format(metrics.precision_score(y_test, y_pred[:,x])))\n",
        "  print(\"Recall: \"+\"{:.2%}\".format(metrics.recall_score(y_test, y_pred[:,x])))\n",
        "  print(\"F1: \"+\"{:.2%}\".format(metrics.f1_score(y_test,y_pred[:,x])))\n",
        "  print(metrics.confusion_matrix(y_test,y_pred[:,x]))\n",
        "  print(\"-----------\")"
      ],
      "execution_count": 110,
      "outputs": [
        {
          "output_type": "stream",
          "text": [
            "LSTM\n",
            "Accuracy: 98.98%\n",
            "Precision: 97.67%\n",
            "Recall: 90.32%\n",
            "F1: 93.85%\n",
            "[[988   2]\n",
            " [  9  84]]\n",
            "-----------\n",
            "2DCNN\n",
            "Accuracy: 99.17%\n",
            "Precision: 100.00%\n",
            "Recall: 90.32%\n",
            "F1: 94.92%\n",
            "[[990   0]\n",
            " [  9  84]]\n",
            "-----------\n",
            "ANN\n",
            "Accuracy: 99.17%\n",
            "Precision: 100.00%\n",
            "Recall: 90.32%\n",
            "F1: 94.92%\n",
            "[[990   0]\n",
            " [  9  84]]\n",
            "-----------\n",
            "SVM\n",
            "Accuracy: 98.80%\n",
            "Precision: 97.62%\n",
            "Recall: 88.17%\n",
            "F1: 92.66%\n",
            "[[988   2]\n",
            " [ 11  82]]\n",
            "-----------\n",
            "RF\n",
            "Accuracy: 99.17%\n",
            "Precision: 98.84%\n",
            "Recall: 91.40%\n",
            "F1: 94.97%\n",
            "[[989   1]\n",
            " [  8  85]]\n",
            "-----------\n",
            "1DCNN\n",
            "Accuracy: 98.98%\n",
            "Precision: 97.67%\n",
            "Recall: 90.32%\n",
            "F1: 93.85%\n",
            "[[988   2]\n",
            " [  9  84]]\n",
            "-----------\n"
          ],
          "name": "stdout"
        }
      ]
    },
    {
      "cell_type": "code",
      "metadata": {
        "id": "UoHvFrWpVTbQ",
        "colab_type": "code",
        "colab": {}
      },
      "source": [
        "from sklearn.metrics import precision_recall_curve\n",
        "from sklearn.metrics import f1_score\n",
        "from sklearn.metrics import auc\n",
        "from matplotlib import pyplot\n",
        "\n",
        "lr_probs_svm = model_svm.predict_proba(X_test)[:,1]\n",
        "lr_probs_rf =model_rf.predict_proba(X_test)[:,1]\n",
        "lr_probs_lstm=model_lstm.predict_proba(X_test.reshape(1083,1,30)).reshape(1083)\n",
        "lr_probs_1dcnn=model_1dcnn.predict_proba(X_test.reshape(1083,1,30)).reshape(1083)\n",
        "lr_probs_2dcnn=model_2dcnn.predict_proba(X_test.reshape(1083,5,6,1)).reshape(1083)\n",
        "lr_probs_ann=model_ann.predict_proba(X_test).reshape(1083)\n"
      ],
      "execution_count": 0,
      "outputs": []
    },
    {
      "cell_type": "code",
      "metadata": {
        "id": "SZeE17VEd99f",
        "colab_type": "code",
        "colab": {
          "base_uri": "https://localhost:8080/",
          "height": 51
        },
        "outputId": "90a6bda9-85f3-451b-c5d3-ed586021c606"
      },
      "source": [
        "lr_precision_svm, lr_recall_svm, _ = precision_recall_curve(y_test, lr_probs_svm)\n",
        "lr_f1_svm, lr_auc_svm = f1_score(y_test, y_pred_svm), auc(lr_recall_svm, lr_precision_svm)\n",
        "\n",
        "lr_precision_rf, lr_recall_rf, _ = precision_recall_curve(y_test, lr_probs_rf)\n",
        "lr_f1_rf, lr_auc_rf = f1_score(y_test, y_pred_rf), auc(lr_recall_rf, lr_precision_rf)\n",
        "\n",
        "lr_precision_lstm, lr_recall_lstm, _ = precision_recall_curve(y_test, lr_probs_lstm)\n",
        "lr_f1_lstm, lr_auc_lstm = f1_score(y_test, y_pred_lstm), auc(lr_recall_lstm, lr_precision_lstm)\n",
        "\n",
        "lr_precision_1dcnn, lr_recall_1dcnn, _ = precision_recall_curve(y_test, lr_probs_1dcnn)\n",
        "lr_f1_1dcnn, lr_auc_1dcnn = f1_score(y_test, y_pred_1dcnn), auc(lr_recall_1dcnn, lr_precision_1dcnn)\n",
        "\n",
        "lr_precision_2dcnn, lr_recall_2dcnn, _ = precision_recall_curve(y_test, lr_probs_2dcnn)\n",
        "lr_f1_2dcnn, lr_auc_2dcnn = f1_score(y_test, y_pred_2dcnn), auc(lr_recall_2dcnn, lr_precision_2dcnn)\n",
        "\n",
        "lr_precision_ann, lr_recall_ann, _ = precision_recall_curve(y_test, lr_probs_ann)\n",
        "lr_f1_ann, lr_auc_ann = f1_score(y_test, y_pred_ann), auc(lr_recall_ann, lr_precision_ann)\n",
        "\n",
        "print(\"{:.2%}\".format(lr_f1_ann))\n",
        "print(\"{:.2%}\".format(lr_auc_ann))"
      ],
      "execution_count": 112,
      "outputs": [
        {
          "output_type": "stream",
          "text": [
            "94.92%\n",
            "93.23%\n"
          ],
          "name": "stdout"
        }
      ]
    },
    {
      "cell_type": "code",
      "metadata": {
        "id": "RjtJIidgPLU2",
        "colab_type": "code",
        "outputId": "3ffd7545-8d41-4b03-95e2-5c2c04a86827",
        "colab": {
          "base_uri": "https://localhost:8080/",
          "height": 296
        }
      },
      "source": [
        "# plot the precision-recall curves\n",
        "no_skill = len(y_test[y_test==1]) / len(y_test)\n",
        "pyplot.plot([0, 1], [no_skill, no_skill], linestyle='--', label='No Skill')\n",
        "pyplot.plot(lr_recall_svm, lr_precision_svm, 'C1', label='SVM')\n",
        "pyplot.plot(lr_recall_rf, lr_precision_rf, 'C2', label='RF')\n",
        "pyplot.plot(lr_recall_ann, lr_precision_ann, 'C3', label='ANN')\n",
        "pyplot.plot(lr_recall_lstm, lr_precision_lstm, 'C4', label='LSTM')\n",
        "pyplot.plot(lr_recall_1dcnn, lr_precision_1dcnn, 'C5', label='1DCNN')\n",
        "pyplot.plot(lr_recall_2dcnn, lr_precision_2dcnn, 'C6', label='2DCNN')\n",
        "# axis labels\n",
        "pyplot.xlabel('Recall')\n",
        "pyplot.ylabel('Precision')\n",
        "# show the legend\n",
        "pyplot.legend()\n",
        "pyplot.figure(figsize=(40,40))\n",
        "# show the plot\n",
        "pyplot.show()\n"
      ],
      "execution_count": 114,
      "outputs": [
        {
          "output_type": "display_data",
          "data": {
            "image/png": "[encoded data removed]",
            "text/plain": [
              "<Figure size 432x288 with 1 Axes>"
            ]
          },
          "metadata": {
            "tags": []
          }
        },
        {
          "output_type": "display_data",
          "data": {
            "text/plain": [
              "<Figure size 2880x2880 with 0 Axes>"
            ]
          },
          "metadata": {
            "tags": []
          }
        }
      ]
    },
    {
      "cell_type": "code",
      "metadata": {
        "id": "6sIIR-iIi6Bs",
        "colab_type": "code",
        "colab": {
          "base_uri": "https://localhost:8080/",
          "height": 34
        },
        "outputId": "7c725952-5c02-4255-947d-e34807618fc4"
      },
      "source": [
        "y_pred=model_lstm.predict_classes(X_test.reshape(1083,1,30))\n",
        "y_pred=np.append(y_pred,model_2dcnn.predict_classes(X_test.reshape(1083,5,6,1)),axis=1)\n",
        "y_pred=np.append(y_pred,model_ann.predict_classes(X_test),axis=1)\n",
        "y_pred=np.append(y_pred,model_svm.predict(X_test).reshape(1083,1),axis=1)\n",
        "y_pred=np.append(y_pred,model_rf.predict(X_test).reshape(1083,1),axis=1)\n",
        "print(y_pred.shape)"
      ],
      "execution_count": 43,
      "outputs": [
        {
          "output_type": "stream",
          "text": [
            "(1083, 5)\n"
          ],
          "name": "stdout"
        }
      ]
    },
    {
      "cell_type": "code",
      "metadata": {
        "id": "RfjoJi3kRTdO",
        "colab_type": "code",
        "colab": {}
      },
      "source": [
        "import statistics\n",
        "y=[]\n",
        "for rows in y_pred:\n",
        "  y=np.append(y,statistics.mode(rows))"
      ],
      "execution_count": 0,
      "outputs": []
    },
    {
      "cell_type": "code",
      "metadata": {
        "id": "7u1wUxldSQ4x",
        "colab_type": "code",
        "outputId": "4e1256dd-1b57-4332-9309-283ae8f9b088",
        "colab": {
          "base_uri": "https://localhost:8080/",
          "height": 34
        }
      },
      "source": [
        "y_pred=y.reshape(1083,1)\n",
        "print(y_pred.shape)"
      ],
      "execution_count": 45,
      "outputs": [
        {
          "output_type": "stream",
          "text": [
            "(1083, 1)\n"
          ],
          "name": "stdout"
        }
      ]
    },
    {
      "cell_type": "code",
      "metadata": {
        "id": "pf2P8eXnXPNn",
        "colab_type": "code",
        "outputId": "9291c83c-4415-482e-b53a-911891c07d38",
        "colab": {
          "base_uri": "https://localhost:8080/",
          "height": 119
        }
      },
      "source": [
        "from sklearn import metrics\n",
        "print(\"Accuracy: \"+\"{:.2%}\".format(metrics.accuracy_score(y_test, y_pred)));\n",
        "print(\"Precision: \"+\"{:.2%}\".format(metrics.precision_score(y_test, y_pred)));\n",
        "print(\"Recall: \"+\"{:.2%}\".format(metrics.recall_score(y_test, y_pred)));\n",
        "print(\"F1: \"+\"{:.2%}\".format(metrics.f1_score(y_test,y_pred)));\n",
        "print(metrics.confusion_matrix(y_test,y_pred));"
      ],
      "execution_count": 46,
      "outputs": [
        {
          "output_type": "stream",
          "text": [
            "Accuracy: 99.08%\n",
            "Precision: 98.82%\n",
            "Recall: 90.32%\n",
            "F1: 94.38%\n",
            "[[989   1]\n",
            " [  9  84]]\n"
          ],
          "name": "stdout"
        }
      ]
    }
  ]
}