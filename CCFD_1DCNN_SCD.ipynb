{
  "nbformat": 4,
  "nbformat_minor": 0,
  "metadata": {
    "colab": {
      "name": "CCFD_1DCNN_SCD.ipynb",
      "provenance": [],
      "collapsed_sections": [],
      "authorship_tag": "ABX9TyORAAQrpudRvkDODTGhnH4n",
      "include_colab_link": true
    },
    "kernelspec": {
      "name": "python3",
      "display_name": "Python 3"
    }
  },
  "cells": [
    {
      "cell_type": "markdown",
      "metadata": {
        "id": "view-in-github",
        "colab_type": "text"
      },
      "source": [
        "<a href=\"https://colab.research.google.com/github/Hammadtahir7/Card-Fraud-Detection/blob/master/CCFD_1DCNN_SCD.ipynb\" target=\"_parent\"><img src=\"https://colab.research.google.com/assets/colab-badge.svg\" alt=\"Open In Colab\"/></a>"
      ]
    },
    {
      "cell_type": "code",
      "metadata": {
        "id": "TSkXNz4KAb60",
        "colab_type": "code",
        "colab": {
          "resources": {
            "http://localhost:8080/nbextensions/google.colab/files.js": {
              "data": "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",
              "ok": true,
              "headers": [
                [
                  "content-type",
                  "application/javascript"
                ]
              ],
              "status": 200,
              "status_text": ""
            }
          },
          "base_uri": "https://localhost:8080/",
          "height": 71
        },
        "outputId": "0f6148d1-bc26-4a8c-c279-a07df3f00ba6"
      },
      "source": [
        "from google.colab import files\n",
        "uploaded = files.upload()"
      ],
      "execution_count": 1,
      "outputs": [
        {
          "output_type": "display_data",
          "data": {
            "text/html": [
              "\n",
              "     <input type=\"file\" id=\"files-0d43b74e-2908-4407-bd55-29e232a038fd\" name=\"files[]\" multiple disabled />\n",
              "     <output id=\"result-0d43b74e-2908-4407-bd55-29e232a038fd\">\n",
              "      Upload widget is only available when the cell has been executed in the\n",
              "      current browser session. Please rerun this cell to enable.\n",
              "      </output>\n",
              "      <script src=\"/nbextensions/google.colab/files.js\"></script> "
            ],
            "text/plain": [
              "<IPython.core.display.HTML object>"
            ]
          },
          "metadata": {
            "tags": []
          }
        },
        {
          "output_type": "stream",
          "text": [
            "Saving SCD.csv to SCD.csv\n"
          ],
          "name": "stdout"
        }
      ]
    },
    {
      "cell_type": "code",
      "metadata": {
        "id": "KgeUIXXgAojE",
        "colab_type": "code",
        "colab": {
          "base_uri": "https://localhost:8080/",
          "height": 204
        },
        "outputId": "de420100-cb64-43b6-f090-5339d27ceb70"
      },
      "source": [
        "import io\n",
        "import pandas as pd\n",
        "df2 = pd.read_csv(io.BytesIO(uploaded['SCD.csv']),header=None)\n",
        "df2.head()"
      ],
      "execution_count": 2,
      "outputs": [
        {
          "output_type": "execute_result",
          "data": {
            "text/html": [
              "<div>\n",
              "<style scoped>\n",
              "    .dataframe tbody tr th:only-of-type {\n",
              "        vertical-align: middle;\n",
              "    }\n",
              "\n",
              "    .dataframe tbody tr th {\n",
              "        vertical-align: top;\n",
              "    }\n",
              "\n",
              "    .dataframe thead th {\n",
              "        text-align: right;\n",
              "    }\n",
              "</style>\n",
              "<table border=\"1\" class=\"dataframe\">\n",
              "  <thead>\n",
              "    <tr style=\"text-align: right;\">\n",
              "      <th></th>\n",
              "      <th>0</th>\n",
              "      <th>1</th>\n",
              "      <th>2</th>\n",
              "      <th>3</th>\n",
              "      <th>4</th>\n",
              "      <th>5</th>\n",
              "      <th>6</th>\n",
              "      <th>7</th>\n",
              "      <th>8</th>\n",
              "      <th>9</th>\n",
              "    </tr>\n",
              "  </thead>\n",
              "  <tbody>\n",
              "    <tr>\n",
              "      <th>0</th>\n",
              "      <td>100.0</td>\n",
              "      <td>3000.0</td>\n",
              "      <td>0.0</td>\n",
              "      <td>5.0</td>\n",
              "      <td>1.0</td>\n",
              "      <td>1.0</td>\n",
              "      <td>0.0</td>\n",
              "      <td>0.0</td>\n",
              "      <td>0.0</td>\n",
              "      <td>1.0</td>\n",
              "    </tr>\n",
              "    <tr>\n",
              "      <th>1</th>\n",
              "      <td>100.0</td>\n",
              "      <td>4300.0</td>\n",
              "      <td>0.0</td>\n",
              "      <td>5.0</td>\n",
              "      <td>1.0</td>\n",
              "      <td>1.0</td>\n",
              "      <td>0.0</td>\n",
              "      <td>0.0</td>\n",
              "      <td>0.0</td>\n",
              "      <td>1.0</td>\n",
              "    </tr>\n",
              "    <tr>\n",
              "      <th>2</th>\n",
              "      <td>185.5</td>\n",
              "      <td>4823.0</td>\n",
              "      <td>1.0</td>\n",
              "      <td>5.0</td>\n",
              "      <td>0.0</td>\n",
              "      <td>0.0</td>\n",
              "      <td>0.0</td>\n",
              "      <td>0.0</td>\n",
              "      <td>0.0</td>\n",
              "      <td>1.0</td>\n",
              "    </tr>\n",
              "    <tr>\n",
              "      <th>3</th>\n",
              "      <td>185.5</td>\n",
              "      <td>5008.5</td>\n",
              "      <td>1.0</td>\n",
              "      <td>8.0</td>\n",
              "      <td>0.0</td>\n",
              "      <td>0.0</td>\n",
              "      <td>0.0</td>\n",
              "      <td>0.0</td>\n",
              "      <td>0.0</td>\n",
              "      <td>1.0</td>\n",
              "    </tr>\n",
              "    <tr>\n",
              "      <th>4</th>\n",
              "      <td>500.0</td>\n",
              "      <td>26000.0</td>\n",
              "      <td>0.0</td>\n",
              "      <td>0.0</td>\n",
              "      <td>1.0</td>\n",
              "      <td>1.0</td>\n",
              "      <td>800.0</td>\n",
              "      <td>677.2</td>\n",
              "      <td>6.0</td>\n",
              "      <td>1.0</td>\n",
              "    </tr>\n",
              "  </tbody>\n",
              "</table>\n",
              "</div>"
            ],
            "text/plain": [
              "       0        1    2    3    4    5      6      7    8    9\n",
              "0  100.0   3000.0  0.0  5.0  1.0  1.0    0.0    0.0  0.0  1.0\n",
              "1  100.0   4300.0  0.0  5.0  1.0  1.0    0.0    0.0  0.0  1.0\n",
              "2  185.5   4823.0  1.0  5.0  0.0  0.0    0.0    0.0  0.0  1.0\n",
              "3  185.5   5008.5  1.0  8.0  0.0  0.0    0.0    0.0  0.0  1.0\n",
              "4  500.0  26000.0  0.0  0.0  1.0  1.0  800.0  677.2  6.0  1.0"
            ]
          },
          "metadata": {
            "tags": []
          },
          "execution_count": 2
        }
      ]
    },
    {
      "cell_type": "code",
      "metadata": {
        "id": "Dmjd3Ri2ArI8",
        "colab_type": "code",
        "colab": {}
      },
      "source": [
        "features =df2.drop(df2.columns[9],axis=1)\n",
        "labels=df2[df2.columns[9]]"
      ],
      "execution_count": 0,
      "outputs": []
    },
    {
      "cell_type": "code",
      "metadata": {
        "id": "RvlAiz_oAzL9",
        "colab_type": "code",
        "colab": {
          "base_uri": "https://localhost:8080/",
          "height": 119
        },
        "outputId": "18e62f79-2312-4c79-f27f-d17e7f32bee3"
      },
      "source": [
        "from sklearn.preprocessing import StandardScaler\n",
        "from sklearn.model_selection import train_test_split\n",
        "\n",
        "scaler = StandardScaler()\n",
        "features = scaler.fit_transform(features)\n",
        "print(features[0])\n",
        "\n",
        "X_train, X_test, y_train, y_test=train_test_split(features,labels,test_size=0.2, random_state=42)\n",
        "\n",
        "#X_train=X_train.astype('float32')\n",
        "#X_test=X_test.astype('float32')\n",
        "print(X_train.shape)\n",
        "print(X_test.shape)\n",
        "print(y_train.shape)\n",
        "print(y_test.shape)"
      ],
      "execution_count": 4,
      "outputs": [
        {
          "output_type": "stream",
          "text": [
            "[-1.42200799 -0.67856862 -0.13742882  1.84422371  1.83180896  3.74165739\n",
            " -0.26978337 -0.25664688 -0.25310881]\n",
            "(2460, 9)\n",
            "(615, 9)\n",
            "(2460,)\n",
            "(615,)\n"
          ],
          "name": "stdout"
        }
      ]
    },
    {
      "cell_type": "code",
      "metadata": {
        "id": "si9hZbYmA2m2",
        "colab_type": "code",
        "colab": {
          "base_uri": "https://localhost:8080/",
          "height": 80
        },
        "outputId": "5de74750-2f98-48bb-9dea-1be3d07fde63"
      },
      "source": [
        "from keras import backend as K\n",
        "\n",
        "def recall_m(y_true, y_pred):\n",
        "        true_positives = K.sum(K.round(K.clip(y_true * y_pred, 0, 1)))\n",
        "        possible_positives = K.sum(K.round(K.clip(y_true, 0, 1)))\n",
        "        recall = true_positives / (possible_positives + K.epsilon())\n",
        "        return recall\n",
        "\n",
        "def precision_m(y_true, y_pred):\n",
        "        true_positives = K.sum(K.round(K.clip(y_true * y_pred, 0, 1)))\n",
        "        predicted_positives = K.sum(K.round(K.clip(y_pred, 0, 1)))\n",
        "        precision = true_positives / (predicted_positives + K.epsilon())\n",
        "        return precision\n",
        "\n",
        "def f1_m(y_true, y_pred):\n",
        "    precision = precision_m(y_true, y_pred)\n",
        "    recall = recall_m(y_true, y_pred)\n",
        "    return 2*((precision*recall)/(precision+recall+K.epsilon()))"
      ],
      "execution_count": 5,
      "outputs": [
        {
          "output_type": "stream",
          "text": [
            "Using TensorFlow backend.\n"
          ],
          "name": "stderr"
        },
        {
          "output_type": "display_data",
          "data": {
            "text/html": [
              "<p style=\"color: red;\">\n",
              "The default version of TensorFlow in Colab will soon switch to TensorFlow 2.x.<br>\n",
              "We recommend you <a href=\"https://www.tensorflow.org/guide/migrate\" target=\"_blank\">upgrade</a> now \n",
              "or ensure your notebook will continue to use TensorFlow 1.x via the <code>%tensorflow_version 1.x</code> magic:\n",
              "<a href=\"https://colab.research.google.com/notebooks/tensorflow_version.ipynb\" target=\"_blank\">more info</a>.</p>\n"
            ],
            "text/plain": [
              "<IPython.core.display.HTML object>"
            ]
          },
          "metadata": {
            "tags": []
          }
        }
      ]
    },
    {
      "cell_type": "code",
      "metadata": {
        "id": "iE6v01CHA9mQ",
        "colab_type": "code",
        "colab": {
          "base_uri": "https://localhost:8080/",
          "height": 85
        },
        "outputId": "fe54208f-42e8-48cb-f70f-85531a4d762f"
      },
      "source": [
        "X_train=X_train.reshape(2460,1,9)\n",
        "X_test=X_test.reshape(615,1,9)\n",
        "y_train=y_train.to_numpy()\n",
        "y_test=y_test.to_numpy()\n",
        "print(type(X_train))\n",
        "print(type(X_test))\n",
        "print(type(y_train))\n",
        "print(type(y_test))"
      ],
      "execution_count": 6,
      "outputs": [
        {
          "output_type": "stream",
          "text": [
            "<class 'numpy.ndarray'>\n",
            "<class 'numpy.ndarray'>\n",
            "<class 'numpy.ndarray'>\n",
            "<class 'numpy.ndarray'>\n"
          ],
          "name": "stdout"
        }
      ]
    },
    {
      "cell_type": "code",
      "metadata": {
        "id": "tfkxtYJUBI18",
        "colab_type": "code",
        "colab": {
          "base_uri": "https://localhost:8080/",
          "height": 258
        },
        "outputId": "7d398117-6aa5-43f2-8d82-2ee2122b463d"
      },
      "source": [
        "from keras.models import Sequential\n",
        "from keras.layers import Dense, Conv1D, Flatten, MaxPooling1D, Dropout\n",
        "\n",
        "model = Sequential()\n",
        "model.add(Conv1D(filters=64, kernel_size=1, activation='relu', input_shape=(1,9)))\n",
        "model.add(Conv1D(filters=64, kernel_size=1, activation='relu'))\n",
        "model.add(Dropout(0.5))\n",
        "model.add(MaxPooling1D(pool_size=1))\n",
        "model.add(Flatten())\n",
        "model.add(Dense(100, activation='relu'))\n",
        "model.add(Dense(1, activation='sigmoid'))"
      ],
      "execution_count": 7,
      "outputs": [
        {
          "output_type": "stream",
          "text": [
            "WARNING:tensorflow:From /usr/local/lib/python3.6/dist-packages/keras/backend/tensorflow_backend.py:66: The name tf.get_default_graph is deprecated. Please use tf.compat.v1.get_default_graph instead.\n",
            "\n",
            "WARNING:tensorflow:From /usr/local/lib/python3.6/dist-packages/keras/backend/tensorflow_backend.py:541: The name tf.placeholder is deprecated. Please use tf.compat.v1.placeholder instead.\n",
            "\n",
            "WARNING:tensorflow:From /usr/local/lib/python3.6/dist-packages/keras/backend/tensorflow_backend.py:4432: The name tf.random_uniform is deprecated. Please use tf.random.uniform instead.\n",
            "\n",
            "WARNING:tensorflow:From /usr/local/lib/python3.6/dist-packages/keras/backend/tensorflow_backend.py:148: The name tf.placeholder_with_default is deprecated. Please use tf.compat.v1.placeholder_with_default instead.\n",
            "\n",
            "WARNING:tensorflow:From /usr/local/lib/python3.6/dist-packages/keras/backend/tensorflow_backend.py:3733: calling dropout (from tensorflow.python.ops.nn_ops) with keep_prob is deprecated and will be removed in a future version.\n",
            "Instructions for updating:\n",
            "Please use `rate` instead of `keep_prob`. Rate should be set to `rate = 1 - keep_prob`.\n",
            "WARNING:tensorflow:From /usr/local/lib/python3.6/dist-packages/keras/backend/tensorflow_backend.py:4267: The name tf.nn.max_pool is deprecated. Please use tf.nn.max_pool2d instead.\n",
            "\n"
          ],
          "name": "stdout"
        }
      ]
    },
    {
      "cell_type": "code",
      "metadata": {
        "id": "rOaTykESBNFX",
        "colab_type": "code",
        "colab": {
          "base_uri": "https://localhost:8080/",
          "height": 156
        },
        "outputId": "eed3bb40-4364-4dcd-911b-78b65962b736"
      },
      "source": [
        "#compile model using accuracy to measure model performance\n",
        "model.compile(optimizer='adam', loss='binary_crossentropy', metrics=['accuracy', f1_m,precision_m, recall_m])"
      ],
      "execution_count": 8,
      "outputs": [
        {
          "output_type": "stream",
          "text": [
            "WARNING:tensorflow:From /usr/local/lib/python3.6/dist-packages/keras/optimizers.py:793: The name tf.train.Optimizer is deprecated. Please use tf.compat.v1.train.Optimizer instead.\n",
            "\n",
            "WARNING:tensorflow:From /usr/local/lib/python3.6/dist-packages/keras/backend/tensorflow_backend.py:3657: The name tf.log is deprecated. Please use tf.math.log instead.\n",
            "\n",
            "WARNING:tensorflow:From /usr/local/lib/python3.6/dist-packages/tensorflow_core/python/ops/nn_impl.py:183: where (from tensorflow.python.ops.array_ops) is deprecated and will be removed in a future version.\n",
            "Instructions for updating:\n",
            "Use tf.where in 2.0, which has the same broadcast rule as np.where\n"
          ],
          "name": "stdout"
        }
      ]
    },
    {
      "cell_type": "code",
      "metadata": {
        "id": "m16wY-1LBP4L",
        "colab_type": "code",
        "colab": {
          "base_uri": "https://localhost:8080/",
          "height": 683
        },
        "outputId": "c1288f92-8a9a-48e0-eabc-355909eee620"
      },
      "source": [
        "#train the model\n",
        "model.fit(X_train, y_train, validation_data=(X_test, y_test), epochs=10)"
      ],
      "execution_count": 9,
      "outputs": [
        {
          "output_type": "stream",
          "text": [
            "WARNING:tensorflow:From /usr/local/lib/python3.6/dist-packages/keras/backend/tensorflow_backend.py:1033: The name tf.assign_add is deprecated. Please use tf.compat.v1.assign_add instead.\n",
            "\n",
            "WARNING:tensorflow:From /usr/local/lib/python3.6/dist-packages/keras/backend/tensorflow_backend.py:1020: The name tf.assign is deprecated. Please use tf.compat.v1.assign instead.\n",
            "\n",
            "WARNING:tensorflow:From /usr/local/lib/python3.6/dist-packages/keras/backend/tensorflow_backend.py:3005: The name tf.Session is deprecated. Please use tf.compat.v1.Session instead.\n",
            "\n",
            "Train on 2460 samples, validate on 615 samples\n",
            "Epoch 1/10\n",
            "WARNING:tensorflow:From /usr/local/lib/python3.6/dist-packages/keras/backend/tensorflow_backend.py:190: The name tf.get_default_session is deprecated. Please use tf.compat.v1.get_default_session instead.\n",
            "\n",
            "WARNING:tensorflow:From /usr/local/lib/python3.6/dist-packages/keras/backend/tensorflow_backend.py:197: The name tf.ConfigProto is deprecated. Please use tf.compat.v1.ConfigProto instead.\n",
            "\n",
            "WARNING:tensorflow:From /usr/local/lib/python3.6/dist-packages/keras/backend/tensorflow_backend.py:207: The name tf.global_variables is deprecated. Please use tf.compat.v1.global_variables instead.\n",
            "\n",
            "WARNING:tensorflow:From /usr/local/lib/python3.6/dist-packages/keras/backend/tensorflow_backend.py:216: The name tf.is_variable_initialized is deprecated. Please use tf.compat.v1.is_variable_initialized instead.\n",
            "\n",
            "WARNING:tensorflow:From /usr/local/lib/python3.6/dist-packages/keras/backend/tensorflow_backend.py:223: The name tf.variables_initializer is deprecated. Please use tf.compat.v1.variables_initializer instead.\n",
            "\n",
            "2460/2460 [==============================] - 1s 387us/step - loss: 0.3195 - acc: 0.9065 - f1_m: 0.6868 - precision_m: 0.7598 - recall_m: 0.6850 - val_loss: 0.0878 - val_acc: 0.9691 - val_f1_m: 0.8881 - val_precision_m: 0.9249 - val_recall_m: 0.8811\n",
            "Epoch 2/10\n",
            "2460/2460 [==============================] - 0s 66us/step - loss: 0.0902 - acc: 0.9659 - f1_m: 0.8374 - precision_m: 0.8705 - recall_m: 0.8364 - val_loss: 0.0637 - val_acc: 0.9772 - val_f1_m: 0.9212 - val_precision_m: 0.9414 - val_recall_m: 0.9158\n",
            "Epoch 3/10\n",
            "2460/2460 [==============================] - 0s 71us/step - loss: 0.0623 - acc: 0.9805 - f1_m: 0.9085 - precision_m: 0.9202 - recall_m: 0.9159 - val_loss: 0.0568 - val_acc: 0.9789 - val_f1_m: 0.9337 - val_precision_m: 0.9282 - val_recall_m: 0.9496\n",
            "Epoch 4/10\n",
            "2460/2460 [==============================] - 0s 69us/step - loss: 0.0534 - acc: 0.9801 - f1_m: 0.9076 - precision_m: 0.9124 - recall_m: 0.9203 - val_loss: 0.0490 - val_acc: 0.9854 - val_f1_m: 0.9491 - val_precision_m: 0.9479 - val_recall_m: 0.9561\n",
            "Epoch 5/10\n",
            "2460/2460 [==============================] - 0s 62us/step - loss: 0.0457 - acc: 0.9862 - f1_m: 0.9184 - precision_m: 0.9340 - recall_m: 0.9207 - val_loss: 0.0504 - val_acc: 0.9837 - val_f1_m: 0.9369 - val_precision_m: 0.9479 - val_recall_m: 0.9344\n",
            "Epoch 6/10\n",
            "2460/2460 [==============================] - 0s 66us/step - loss: 0.0449 - acc: 0.9846 - f1_m: 0.9368 - precision_m: 0.9526 - recall_m: 0.9422 - val_loss: 0.0463 - val_acc: 0.9854 - val_f1_m: 0.9404 - val_precision_m: 0.9479 - val_recall_m: 0.9409\n",
            "Epoch 7/10\n",
            "2460/2460 [==============================] - 0s 62us/step - loss: 0.0423 - acc: 0.9854 - f1_m: 0.9350 - precision_m: 0.9408 - recall_m: 0.9438 - val_loss: 0.0476 - val_acc: 0.9789 - val_f1_m: 0.9184 - val_precision_m: 0.9609 - val_recall_m: 0.8898\n",
            "Epoch 8/10\n",
            "2460/2460 [==============================] - 0s 69us/step - loss: 0.0360 - acc: 0.9874 - f1_m: 0.9407 - precision_m: 0.9547 - recall_m: 0.9415 - val_loss: 0.0454 - val_acc: 0.9805 - val_f1_m: 0.9316 - val_precision_m: 0.9609 - val_recall_m: 0.9132\n",
            "Epoch 9/10\n",
            "2460/2460 [==============================] - 0s 61us/step - loss: 0.0357 - acc: 0.9874 - f1_m: 0.9527 - precision_m: 0.9632 - recall_m: 0.9535 - val_loss: 0.0497 - val_acc: 0.9805 - val_f1_m: 0.9244 - val_precision_m: 0.9583 - val_recall_m: 0.9002\n",
            "Epoch 10/10\n",
            "2460/2460 [==============================] - 0s 71us/step - loss: 0.0296 - acc: 0.9902 - f1_m: 0.9443 - precision_m: 0.9556 - recall_m: 0.9478 - val_loss: 0.0471 - val_acc: 0.9854 - val_f1_m: 0.9451 - val_precision_m: 0.9392 - val_recall_m: 0.9583\n"
          ],
          "name": "stdout"
        },
        {
          "output_type": "execute_result",
          "data": {
            "text/plain": [
              "<keras.callbacks.History at 0x7ffa186f6160>"
            ]
          },
          "metadata": {
            "tags": []
          },
          "execution_count": 9
        }
      ]
    },
    {
      "cell_type": "code",
      "metadata": {
        "id": "kkZmwkwFBUoO",
        "colab_type": "code",
        "colab": {
          "base_uri": "https://localhost:8080/",
          "height": 102
        },
        "outputId": "c7a45818-c0b3-4bc4-e9b0-3093349c8dee"
      },
      "source": [
        "# evaluate the model\n",
        "loss, accuracy, f1_score, precision, recall = model.evaluate(X_test, y_test, verbose=0)\n",
        "\n",
        "\n",
        "print(\"loss: \"+\"{:.2%}\".format(loss));\n",
        "print(\"acc: \"+\"{:.2%}\".format(accuracy));\n",
        "print(\"f1: \"+\"{:.2%}\".format(f1_score));\n",
        "print(\"precision: \"+\"{:.2%}\".format(precision));\n",
        "print(\"recall: \"+\"{:.2%}\".format(recall));"
      ],
      "execution_count": 10,
      "outputs": [
        {
          "output_type": "stream",
          "text": [
            "loss: 4.71%\n",
            "acc: 98.54%\n",
            "f1: 94.51%\n",
            "precision: 93.92%\n",
            "recall: 95.83%\n"
          ],
          "name": "stdout"
        }
      ]
    },
    {
      "cell_type": "code",
      "metadata": {
        "id": "VqbMAVk1BW_V",
        "colab_type": "code",
        "colab": {}
      },
      "source": [
        "prediction=model.predict(X_test)"
      ],
      "execution_count": 0,
      "outputs": []
    },
    {
      "cell_type": "code",
      "metadata": {
        "id": "e9BtTM0IBaEu",
        "colab_type": "code",
        "colab": {
          "base_uri": "https://localhost:8080/",
          "height": 1000
        },
        "outputId": "0ee6300f-4f28-4ad1-a531-0f9f369e34af"
      },
      "source": [
        "for i in range(len(y_test)):\n",
        "  if(y_test[i]==1):\n",
        "    print(i)\n",
        "    print(y_test[i])\n",
        "    print(prediction[i])\n",
        "    print(\"-----\")"
      ],
      "execution_count": 12,
      "outputs": [
        {
          "output_type": "stream",
          "text": [
            "11\n",
            "1.0\n",
            "[0.99999994]\n",
            "-----\n",
            "12\n",
            "1.0\n",
            "[0.99999905]\n",
            "-----\n",
            "21\n",
            "1.0\n",
            "[0.9999999]\n",
            "-----\n",
            "22\n",
            "1.0\n",
            "[1.]\n",
            "-----\n",
            "23\n",
            "1.0\n",
            "[0.9999119]\n",
            "-----\n",
            "39\n",
            "1.0\n",
            "[0.99996924]\n",
            "-----\n",
            "41\n",
            "1.0\n",
            "[0.84004664]\n",
            "-----\n",
            "44\n",
            "1.0\n",
            "[0.99999917]\n",
            "-----\n",
            "48\n",
            "1.0\n",
            "[0.9999839]\n",
            "-----\n",
            "51\n",
            "1.0\n",
            "[0.9989784]\n",
            "-----\n",
            "53\n",
            "1.0\n",
            "[0.95010746]\n",
            "-----\n",
            "56\n",
            "1.0\n",
            "[0.99999976]\n",
            "-----\n",
            "60\n",
            "1.0\n",
            "[0.99997044]\n",
            "-----\n",
            "68\n",
            "1.0\n",
            "[0.92600733]\n",
            "-----\n",
            "69\n",
            "1.0\n",
            "[0.65357924]\n",
            "-----\n",
            "76\n",
            "1.0\n",
            "[0.9999368]\n",
            "-----\n",
            "87\n",
            "1.0\n",
            "[0.9999486]\n",
            "-----\n",
            "88\n",
            "1.0\n",
            "[0.99987894]\n",
            "-----\n",
            "90\n",
            "1.0\n",
            "[0.9999929]\n",
            "-----\n",
            "96\n",
            "1.0\n",
            "[0.04588977]\n",
            "-----\n",
            "102\n",
            "1.0\n",
            "[0.9985573]\n",
            "-----\n",
            "103\n",
            "1.0\n",
            "[0.99455756]\n",
            "-----\n",
            "108\n",
            "1.0\n",
            "[0.99937385]\n",
            "-----\n",
            "118\n",
            "1.0\n",
            "[0.9999614]\n",
            "-----\n",
            "124\n",
            "1.0\n",
            "[0.99977505]\n",
            "-----\n",
            "131\n",
            "1.0\n",
            "[0.93436885]\n",
            "-----\n",
            "133\n",
            "1.0\n",
            "[0.51255053]\n",
            "-----\n",
            "134\n",
            "1.0\n",
            "[0.99999964]\n",
            "-----\n",
            "139\n",
            "1.0\n",
            "[0.9999796]\n",
            "-----\n",
            "141\n",
            "1.0\n",
            "[0.9999811]\n",
            "-----\n",
            "142\n",
            "1.0\n",
            "[0.5994539]\n",
            "-----\n",
            "161\n",
            "1.0\n",
            "[0.99990964]\n",
            "-----\n",
            "164\n",
            "1.0\n",
            "[0.9999999]\n",
            "-----\n",
            "184\n",
            "1.0\n",
            "[0.70710516]\n",
            "-----\n",
            "188\n",
            "1.0\n",
            "[0.9535006]\n",
            "-----\n",
            "193\n",
            "1.0\n",
            "[0.9758302]\n",
            "-----\n",
            "194\n",
            "1.0\n",
            "[0.9959053]\n",
            "-----\n",
            "202\n",
            "1.0\n",
            "[0.9998948]\n",
            "-----\n",
            "206\n",
            "1.0\n",
            "[0.9843086]\n",
            "-----\n",
            "212\n",
            "1.0\n",
            "[0.9999968]\n",
            "-----\n",
            "213\n",
            "1.0\n",
            "[0.9999865]\n",
            "-----\n",
            "215\n",
            "1.0\n",
            "[0.9999738]\n",
            "-----\n",
            "218\n",
            "1.0\n",
            "[0.97330624]\n",
            "-----\n",
            "220\n",
            "1.0\n",
            "[0.9988117]\n",
            "-----\n",
            "234\n",
            "1.0\n",
            "[0.999985]\n",
            "-----\n",
            "236\n",
            "1.0\n",
            "[0.99992347]\n",
            "-----\n",
            "239\n",
            "1.0\n",
            "[0.99998116]\n",
            "-----\n",
            "242\n",
            "1.0\n",
            "[0.8738165]\n",
            "-----\n",
            "252\n",
            "1.0\n",
            "[0.9944771]\n",
            "-----\n",
            "256\n",
            "1.0\n",
            "[0.9985446]\n",
            "-----\n",
            "261\n",
            "1.0\n",
            "[0.9367794]\n",
            "-----\n",
            "263\n",
            "1.0\n",
            "[0.9997269]\n",
            "-----\n",
            "265\n",
            "1.0\n",
            "[0.9959887]\n",
            "-----\n",
            "267\n",
            "1.0\n",
            "[0.99990606]\n",
            "-----\n",
            "275\n",
            "1.0\n",
            "[0.9999998]\n",
            "-----\n",
            "280\n",
            "1.0\n",
            "[0.9999999]\n",
            "-----\n",
            "294\n",
            "1.0\n",
            "[0.8234674]\n",
            "-----\n",
            "302\n",
            "1.0\n",
            "[0.9999924]\n",
            "-----\n",
            "305\n",
            "1.0\n",
            "[0.910449]\n",
            "-----\n",
            "306\n",
            "1.0\n",
            "[0.9938785]\n",
            "-----\n",
            "315\n",
            "1.0\n",
            "[0.57817113]\n",
            "-----\n",
            "319\n",
            "1.0\n",
            "[0.9999804]\n",
            "-----\n",
            "330\n",
            "1.0\n",
            "[0.4212208]\n",
            "-----\n",
            "336\n",
            "1.0\n",
            "[1.]\n",
            "-----\n",
            "337\n",
            "1.0\n",
            "[0.99987966]\n",
            "-----\n",
            "350\n",
            "1.0\n",
            "[0.9723791]\n",
            "-----\n",
            "358\n",
            "1.0\n",
            "[0.99834496]\n",
            "-----\n",
            "362\n",
            "1.0\n",
            "[0.99976885]\n",
            "-----\n",
            "364\n",
            "1.0\n",
            "[0.99999803]\n",
            "-----\n",
            "365\n",
            "1.0\n",
            "[0.99999976]\n",
            "-----\n",
            "379\n",
            "1.0\n",
            "[0.9999914]\n",
            "-----\n",
            "400\n",
            "1.0\n",
            "[0.9952334]\n",
            "-----\n",
            "408\n",
            "1.0\n",
            "[0.99895453]\n",
            "-----\n",
            "412\n",
            "1.0\n",
            "[0.999944]\n",
            "-----\n",
            "422\n",
            "1.0\n",
            "[0.96058846]\n",
            "-----\n",
            "428\n",
            "1.0\n",
            "[0.9999988]\n",
            "-----\n",
            "438\n",
            "1.0\n",
            "[0.9864718]\n",
            "-----\n",
            "443\n",
            "1.0\n",
            "[0.99998224]\n",
            "-----\n",
            "448\n",
            "1.0\n",
            "[0.999947]\n",
            "-----\n",
            "454\n",
            "1.0\n",
            "[0.9981586]\n",
            "-----\n",
            "461\n",
            "1.0\n",
            "[0.999951]\n",
            "-----\n",
            "471\n",
            "1.0\n",
            "[0.64326006]\n",
            "-----\n",
            "476\n",
            "1.0\n",
            "[0.9997144]\n",
            "-----\n",
            "484\n",
            "1.0\n",
            "[0.99999]\n",
            "-----\n",
            "491\n",
            "1.0\n",
            "[0.8174267]\n",
            "-----\n",
            "509\n",
            "1.0\n",
            "[0.99954015]\n",
            "-----\n",
            "511\n",
            "1.0\n",
            "[0.99562323]\n",
            "-----\n",
            "515\n",
            "1.0\n",
            "[0.9037333]\n",
            "-----\n",
            "516\n",
            "1.0\n",
            "[0.999896]\n",
            "-----\n",
            "520\n",
            "1.0\n",
            "[0.9911761]\n",
            "-----\n",
            "536\n",
            "1.0\n",
            "[0.99998605]\n",
            "-----\n",
            "537\n",
            "1.0\n",
            "[0.99996185]\n",
            "-----\n",
            "542\n",
            "1.0\n",
            "[0.03120515]\n",
            "-----\n",
            "544\n",
            "1.0\n",
            "[0.99999976]\n",
            "-----\n",
            "546\n",
            "1.0\n",
            "[0.9999992]\n",
            "-----\n",
            "550\n",
            "1.0\n",
            "[0.9805107]\n",
            "-----\n",
            "553\n",
            "1.0\n",
            "[0.99999166]\n",
            "-----\n",
            "554\n",
            "1.0\n",
            "[0.9998658]\n",
            "-----\n",
            "557\n",
            "1.0\n",
            "[0.99999905]\n",
            "-----\n",
            "578\n",
            "1.0\n",
            "[0.99998647]\n",
            "-----\n",
            "590\n",
            "1.0\n",
            "[0.9892725]\n",
            "-----\n",
            "596\n",
            "1.0\n",
            "[0.99999976]\n",
            "-----\n",
            "606\n",
            "1.0\n",
            "[1.]\n",
            "-----\n"
          ],
          "name": "stdout"
        }
      ]
    }
  ]
}